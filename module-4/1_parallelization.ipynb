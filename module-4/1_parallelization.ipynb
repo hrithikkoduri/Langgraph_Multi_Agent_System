{
 "cells": [
  {
   "cell_type": "code",
   "execution_count": 1,
   "metadata": {},
   "outputs": [],
   "source": [
    "from dotenv import load_dotenv\n",
    "from langchain_openai import ChatOpenAI\n",
    "import os\n",
    "\n",
    "load_dotenv()\n",
    "def set_env_vars(var):\n",
    "    os.environ[var] = os.getenv(var)\n",
    "\n",
    "\n",
    "vars = [\"OPENAI_API_KEY\", \"LANGCHAIN_API_KEY\", \"LANGCHAIN_TRACING_V2\", \"LANGCHAIN_ENDPOINT\", \"LANGCHAIN_PROJECT\", \"TAVILY_API_KEY\"]\n",
    "\n",
    "for var in vars:\n",
    "    set_env_vars(var)\n",
    "\n",
    "llm = ChatOpenAI(model=\"gpt-4o-mini\")\n"
   ]
  },
  {
   "cell_type": "code",
   "execution_count": 2,
   "metadata": {},
   "outputs": [
    {
     "data": {
      "image/png": "[encoded data removed]",
      "text/plain": [
       "<IPython.core.display.Image object>"
      ]
     },
     "metadata": {},
     "output_type": "display_data"
    }
   ],
   "source": [
    "from IPython.display import Image, display\n",
    "from typing import TypedDict, Any, TypedDict\n",
    "\n",
    "from langgraph.graph import StateGraph, START, END\n",
    "\n",
    "class State(TypedDict):\n",
    "    state: str\n",
    "\n",
    "class ReturnNodeValue:\n",
    "    def __init__(self, node_secret: str):\n",
    "        self._value = node_secret\n",
    "\n",
    "    def __call__(self, state: State) -> Any:\n",
    "        print(f\"Adding {self._value} to {state['state']}\")\n",
    "        return {\"state\" : [self._value]}\n",
    "\n",
    "builder = StateGraph(State)\n",
    "\n",
    "builder.add_node(\"a\", ReturnNodeValue(\"I am A\"))\n",
    "builder.add_node(\"b\", ReturnNodeValue(\"I am B\"))\n",
    "builder.add_node(\"c\", ReturnNodeValue(\"I am C\"))\n",
    "builder.add_node(\"d\", ReturnNodeValue(\"I am D\"))\n",
    "\n",
    "builder.add_edge(START, \"a\")\n",
    "builder.add_edge(\"a\", \"b\")\n",
    "builder.add_edge(\"b\", \"c\")\n",
    "builder.add_edge(\"c\", \"d\")\n",
    "builder.add_edge(\"d\", END)\n",
    "\n",
    "graph = builder.compile()\n",
    "\n",
    "display(Image(graph.get_graph().draw_mermaid_png()))\n",
    "\n"
   ]
  },
  {
   "cell_type": "code",
   "execution_count": 3,
   "metadata": {},
   "outputs": [
    {
     "name": "stdout",
     "output_type": "stream",
     "text": [
      "Adding I am A to []\n",
      "Adding I am B to ['I am A']\n",
      "Adding I am C to ['I am B']\n",
      "Adding I am D to ['I am C']\n"
     ]
    },
    {
     "data": {
      "text/plain": [
       "{'state': ['I am D']}"
      ]
     },
     "execution_count": 3,
     "metadata": {},
     "output_type": "execute_result"
    }
   ],
   "source": [
    "graph.invoke({\"state\": []})"
   ]
  },
  {
   "cell_type": "code",
   "execution_count": 4,
   "metadata": {},
   "outputs": [],
   "source": [
    "builder = StateGraph(State)\n",
    "\n",
    "builder.add_node(\"a\", ReturnNodeValue(\"I am A\"))\n",
    "builder.add_node(\"b\", ReturnNodeValue(\"I am B\"))\n",
    "builder.add_node(\"c\", ReturnNodeValue(\"I am C\"))\n",
    "builder.add_node(\"d\", ReturnNodeValue(\"I am D\"))\n",
    "\n",
    "builder.add_edge(START, \"a\")\n",
    "builder.add_edge(\"a\", \"b\")\n",
    "builder.add_edge(\"a\", \"c\")\n",
    "builder.add_edge(\"b\", \"d\")\n",
    "builder.add_edge(\"c\", \"d\")\n",
    "builder.add_edge(\"d\", END)\n",
    "\n",
    "graph = builder.compile()"
   ]
  },
  {
   "cell_type": "code",
   "execution_count": null,
   "metadata": {},
   "outputs": [],
   "source": []
  },
  {
   "cell_type": "code",
   "execution_count": 5,
   "metadata": {},
   "outputs": [
    {
     "name": "stdout",
     "output_type": "stream",
     "text": [
      "Adding I am A to []\n",
      "Adding I am B to ['I am A']\n",
      "Adding I am C to ['I am A']\n",
      "At key 'state': Can receive only one value per step. Use an Annotated key to handle multiple values.\n",
      "For troubleshooting, visit: https://python.langchain.com/docs/troubleshooting/errors/INVALID_CONCURRENT_GRAPH_UPDATE\n"
     ]
    }
   ],
   "source": [
    "from langgraph.errors import InvalidUpdateError\n",
    "\n",
    "try:\n",
    "    graph.invoke({\"state\": []})\n",
    "except InvalidUpdateError as e:\n",
    "    print(e)\n",
    "\n"
   ]
  },
  {
   "cell_type": "code",
   "execution_count": 6,
   "metadata": {},
   "outputs": [
    {
     "data": {
      "image/png": "[encoded data removed]",
      "text/plain": [
       "<IPython.core.display.Image object>"
      ]
     },
     "metadata": {},
     "output_type": "display_data"
    }
   ],
   "source": [
    "from operator import add\n",
    "from typing import Annotated\n",
    "\n",
    "class State(TypedDict):\n",
    "    state: Annotated[list[int], add]\n",
    "\n",
    "\n",
    "class ReturnNodeValue:\n",
    "    def __init__(self, node_secret: str):\n",
    "        self._value = node_secret\n",
    "\n",
    "    def __call__(self, state: State) -> Any:\n",
    "        print(f\"Adding {self._value} to {state['state']}\")\n",
    "        return {\"state\" : [self._value]}\n",
    "\n",
    "builder = StateGraph(State)\n",
    "\n",
    "builder.add_node(\"a\", ReturnNodeValue(\"I am A\"))\n",
    "builder.add_node(\"b\", ReturnNodeValue(\"I am B\"))\n",
    "builder.add_node(\"c\", ReturnNodeValue(\"I am C\"))\n",
    "builder.add_node(\"d\", ReturnNodeValue(\"I am D\"))\n",
    "\n",
    "builder.add_edge(START, \"a\")\n",
    "builder.add_edge(\"a\", \"b\")\n",
    "builder.add_edge(\"a\", \"c\")\n",
    "builder.add_edge(\"b\", \"d\")\n",
    "builder.add_edge(\"c\", \"d\")\n",
    "builder.add_edge(\"d\", END)\n",
    "\n",
    "graph = builder.compile()\n",
    "display(Image(graph.get_graph().draw_mermaid_png()))"
   ]
  },
  {
   "cell_type": "code",
   "execution_count": 7,
   "metadata": {},
   "outputs": [
    {
     "name": "stdout",
     "output_type": "stream",
     "text": [
      "Adding I am A to []\n",
      "Adding I am B to ['I am A']\n",
      "Adding I am C to ['I am A']\n",
      "Adding I am D to ['I am A', 'I am B', 'I am C']\n"
     ]
    },
    {
     "data": {
      "text/plain": [
       "{'state': ['I am A', 'I am B', 'I am C', 'I am D']}"
      ]
     },
     "execution_count": 7,
     "metadata": {},
     "output_type": "execute_result"
    }
   ],
   "source": [
    "graph.invoke({\"state\": []})"
   ]
  },
  {
   "cell_type": "code",
   "execution_count": 8,
   "metadata": {},
   "outputs": [
    {
     "data": {
      "image/png": "[encoded data removed]",
      "text/plain": [
       "<IPython.core.display.Image object>"
      ]
     },
     "metadata": {},
     "output_type": "display_data"
    }
   ],
   "source": [
    "from operator import add\n",
    "from typing import Annotated\n",
    "\n",
    "class State(TypedDict):\n",
    "    state: Annotated[list[int], add]\n",
    "\n",
    "\n",
    "class ReturnNodeValue:\n",
    "    def __init__(self, node_secret: str):\n",
    "        self._value = node_secret\n",
    "\n",
    "    def __call__(self, state: State) -> Any:\n",
    "        print(f\"Adding {self._value} to {state['state']}\")\n",
    "        return {\"state\" : [self._value]}\n",
    "\n",
    "builder = StateGraph(State)\n",
    "\n",
    "builder.add_node(\"a\", ReturnNodeValue(\"I am A\"))\n",
    "builder.add_node(\"b\", ReturnNodeValue(\"I am B\"))\n",
    "builder.add_node(\"b2\", ReturnNodeValue(\"I am B2\"))\n",
    "builder.add_node(\"c\", ReturnNodeValue(\"I am C\"))\n",
    "builder.add_node(\"d\", ReturnNodeValue(\"I am D\"))\n",
    "\n",
    "builder.add_edge(START, \"a\")\n",
    "builder.add_edge(\"a\", \"b\")\n",
    "builder.add_edge(\"a\", \"c\")\n",
    "builder.add_edge(\"b\", \"b2\")\n",
    "builder.add_edge([\"b2\", \"c\"], \"d\")\n",
    "builder.add_edge(\"d\", END)\n",
    "\n",
    "graph = builder.compile()\n",
    "display(Image(graph.get_graph().draw_mermaid_png()))"
   ]
  },
  {
   "cell_type": "code",
   "execution_count": 9,
   "metadata": {},
   "outputs": [
    {
     "name": "stdout",
     "output_type": "stream",
     "text": [
      "Adding I am A to []\n",
      "Adding I am B to ['I am A']\n",
      "Adding I am C to ['I am A']\n",
      "Adding I am B2 to ['I am A', 'I am B', 'I am C']\n",
      "Adding I am D to ['I am A', 'I am B', 'I am C', 'I am B2']\n"
     ]
    },
    {
     "data": {
      "text/plain": [
       "{'state': ['I am A', 'I am B', 'I am C', 'I am B2', 'I am D']}"
      ]
     },
     "execution_count": 9,
     "metadata": {},
     "output_type": "execute_result"
    }
   ],
   "source": [
    "graph.invoke({\"state\": []})"
   ]
  },
  {
   "cell_type": "code",
   "execution_count": 10,
   "metadata": {},
   "outputs": [],
   "source": [
    "from langchain_community.document_loaders import WikipediaLoader\n",
    "\n",
    "def web_search(question):\n",
    "    search_docs = WikipediaLoader(query=question, load_max_docs=3).load()\n",
    "    formatted_search_docs = \"\\n\\n---\\n\\n\".join([f'<Document source=\"{doc.metadata['source']}\" page =\"{doc.metadata.get(\"page\",\"\")}\"/>\\n{doc.page_content}</Document>' for doc in search_docs])\n",
    "    return formatted_search_docs\n",
    "\n",
    "docs = web_search(\"New trends in AI\")\n",
    "\n",
    "\n",
    "    \n",
    "\n"
   ]
  },
  {
   "cell_type": "code",
   "execution_count": 11,
   "metadata": {},
   "outputs": [
    {
     "name": "stdout",
     "output_type": "stream",
     "text": [
      "<Document source=\"https://en.wikipedia.org/wiki/.ai\" page =\"\"/>\n",
      ".ai is the Internet country code top-level domain (ccTLD) for Anguilla, a British Overseas Territory in the Caribbean. It is administered by the government of Anguilla.\n",
      "It is popular with companies and projects related to the artificial intelligence industry (AI).\n",
      "Google's ad targeting treats .ai as a generic top-level domain (gTLD) because \"users and website owners frequently see [the domain] as being more generic than country-targeted.\"\n",
      "\n",
      "\n",
      "== Second and third level registrations ==\n",
      "Registrations within off.ai, com.ai, net.ai, and org.ai are available worldwide without restriction. From 15 September 2009, second level registrations within .ai are available to everyone worldwide.\n",
      "\n",
      "\n",
      "== Registration ==\n",
      "The minimum registration term allowed for a .ai domain is 2 years for registration and 2 years for renewal. The authority in charge of managing this extension is “WHOIS.AI”. Registrations began on 1995-02-16. The minimum length is 2 and the maximum is 63 characters. There are no requirements for registering a domain, including local and foreign residents. \n",
      "A .ai domain can be suspended or revoked, if the domain is involved in illegal activity such as violating trademarks or copyrights. Usage must not violate the laws of Anguilla.\n",
      "Anguilla uses the UDRP. Filing a UDRP challenge requires using one of the ICANN Approved Dispute Resolution Service Providers. If the domain is with an ICANN accredited registrar, they should work with the arbitrator. Usually this means either doing nothing or transferring a domain. .ai domains are transferable to any desired registrars as the registration of domain is done maintaining EPP.\n",
      "The character set supported for .ai domain names include A–Z, a–z, 0–9, and hyphen. As of November 2022, .ai domains cannot accommodate IDN characters. The auction of expired .ai domains is undertaken every ten days where expired domains can be procured through the auction process.\n",
      "\n",
      "\n",
      "== Valuation ==\n",
      "Domains are $180 for each two-year period. As of December 2017, the \".ai\" registry supports Extensible Provisioning Protocol. Consequently, many registrars are allowed to sell \".ai\" domains. Since then, the .ai ccTLD has also been popular with artificial intelligence companies and organizations. Though such trends are primarily seen among new AI based companies or startups, many established AI and Tech companies preferred not to opt for .ai domain. For example, DeepMind has its domain retained at .com; Meta has redirected its facebook.ai domain to ai.meta.com.\n",
      "As of November 2022, expert.ai is the most valued .ai domain that has been sold. The sell was brokered and mediated by Sedo in June 2020 and was finalized at €95,000 (about US$108,000).\n",
      "\n",
      "\n",
      "== Impact on Anguilla's economy ==\n",
      "The registration fees earned from the .ai domains go to the treasury of Government of Anguilla. As per a New York Times report, in 2018, the total revenue generated out of selling .ai domains was $2.9 million.\n",
      "In 2023, Anguilla’s government made about US$32 million from fees collected for registering .ai domains. That amounted to more than 10% of gross domestic product for the territory.\n",
      "\n",
      "\n",
      "== See also ==\n",
      "Internet in Anguilla\n",
      "Internet in the United Kingdom\n",
      "\n",
      "\n",
      "== References ==\n",
      "\n",
      "\n",
      "== External links ==\n",
      "IANA .ai whois information\n",
      "old .ai NIC page\n",
      ".ai domain registration page\n",
      ".ai whois page\n",
      ".ai expired domain name auction</Document>\n",
      "\n",
      "---\n",
      "\n",
      "<Document source=\"https://en.wikipedia.org/wiki/Artificial_intelligence\" page =\"\"/>\n",
      "Artificial intelligence (AI), in its broadest sense, is intelligence exhibited by machines, particularly computer systems. It is a field of research in computer science that develops and studies methods and software that enable machines to perceive their environment and use learning and intelligence to take actions that maximize their chances of achieving defined goals. Such machines may be called AIs.\n",
      "High-profile applications of AI include advanced web search engines (e.g., Google Search); recommendation systems (used by YouTube, Amazon, and Netflix); virtual assistants (e.g., Google Assistant, Siri, and Alexa); autonomous vehicles (e.g., Waymo); generative and creative tools (e.g., ChatGPT and AI art); and superhuman play and analysis in strategy games (e.g., chess and Go). However, many AI applications are not perceived as AI: \"A lot of cutting edge AI has filtered into general applications, often without being called AI because once something becomes useful enough and common enough it's not labeled AI anymore.\"\n",
      "Various subfields of AI research are centered around particular goals and the use of particular tools. The traditional goals of AI research include reasoning, knowledge representation, planning, learning, natural language processing, perception, and support for robotics. General intelligence—the ability to complete any task performed by a human on an at least equal level—is among the field's long-term goals. To reach these goals, AI researchers have adapted and integrated a wide range of techniques, including search and mathematical optimization, formal logic, artificial neural networks, and methods based on statistics, operations research, and economics. AI also draws upon psychology, linguistics, philosophy, neuroscience, and other fields.\n",
      "Artificial intelligence was founded as an academic discipline in 1956, and the field went through multiple cycles of optimism throughout its history, followed by periods of disappointment and loss of funding, known as AI winters. Funding and interest vastly increased after 2012 when deep learning outperformed previous AI techniques. This growth accelerated further after 2017 with the transformer architecture, and by the early 2020s many billions of dollars were being invested in AI and the field experienced rapid ongoing progress in what has become known as the AI boom. The emergence of advanced generative AI in the midst of the AI boom and its ability to create and modify content exposed several unintended consequences and harms in the present and raised concerns about the risks of AI and its long-term effects in the future, prompting discussions about regulatory policies to ensure the safety and benefits of the technology.\n",
      "\n",
      "\n",
      "== Goals ==\n",
      "The general problem of simulating (or creating) intelligence has been broken into subproblems. These consist of particular traits or capabilities that researchers expect an intelligent system to display. The traits described below have received the most attention and cover the scope of AI research.\n",
      "\n",
      "\n",
      "=== Reasoning and problem-solving ===\n",
      "Early researchers developed algorithms that imitated step-by-step reasoning that humans use when they solve puzzles or make logical deductions. By the late 1980s and 1990s, methods were developed for dealing with uncertain or incomplete information, employing concepts from probability and economics.\n",
      "Many of these algorithms are insufficient for solving large reasoning problems because they experience a \"combinatorial explosion\": They become exponentially slower as the problems grow. Even humans rarely use the step-by-step deduction that early AI research could model. They solve most of their problems using fast, intuitive judgments. Accurate and efficient reasoning is an unsolved problem.\n",
      "\n",
      "\n",
      "=== Knowledge representation ===\n",
      "\n",
      "Knowledge representation and knowledge engineering allow AI programs to answer questions intelligently and make deductions about real-world facts. Formal knowledge representations are used </Document>\n",
      "\n",
      "---\n",
      "\n",
      "<Document source=\"https://en.wikipedia.org/wiki/Generative_artificial_intelligence\" page =\"\"/>\n",
      "Generative artificial intelligence (generative AI, GenAI, or GAI) is a subset of artificial intelligence that uses generative models to produce text, images, videos, or other forms of data. These models learn the underlying patterns and structures of their training data and use them to produce new data based on the input, which often comes in the form of natural language prompts.  \n",
      "Improvements in transformer-based deep neural networks, particularly large language models (LLMs), enabled an AI boom of generative AI systems in the early 2020s. These include chatbots such as ChatGPT, Copilot, Gemini, and LLaMA; text-to-image artificial intelligence image generation systems such as Stable Diffusion, Midjourney, and DALL-E; and text-to-video AI generators such as Sora. Companies such as OpenAI, Anthropic, Microsoft, Google, and Baidu as well as numerous smaller firms have developed generative AI models.\n",
      "Generative AI has uses across a wide range of industries, including software development, healthcare, finance, entertainment, customer service, sales and marketing, art, writing, fashion, and product design. However, concerns have been raised about the potential misuse of generative AI such as cybercrime, the use of fake news or deepfakes to deceive or manipulate people, and the mass replacement of human jobs. Intellectual property law concerns also exist around generative models that are trained on and emulate copyrighted works of art.\n",
      "\n",
      "\n",
      "== History ==\n",
      "\n",
      "\n",
      "=== Early history ===\n",
      "Since its inception, researchers in the field have raised philosophical and ethical arguments about the nature of the human mind and the consequences of creating artificial beings with human-like intelligence; these issues have previously been explored by myth, fiction and philosophy since antiquity. The concept of automated art dates back at least to the automata of ancient Greek civilization, where inventors such as Daedalus and Hero of Alexandria were described as having designed machines capable of writing text, generating sounds, and playing music. The tradition of creative automations has flourished throughout history, exemplified by Maillardet's automaton created in the early 1800s. Markov chains have long been used to model natural languages since their development by Russian mathematician Andrey Markov in the early 20th century. Markov published his first paper on the topic in 1906, and analyzed the pattern of vowels and consonants in the novel Eugeny Onegin using Markov chains. Once a Markov chain is learned on a text corpus, it can then be used as a probabilistic text generator.\n",
      "\n",
      "\n",
      "=== Academic artificial intelligence ===\n",
      "The academic discipline of artificial intelligence was established at a research workshop held at Dartmouth College in 1956 and has experienced several waves of advancement and optimism in the decades since. Artificial Intelligence research began in the 1950s with works like Computing Machinery and Intelligence (1950) and the 1956 Dartmouth Summer Research Project on AI. Since the 1950s, artists and researchers have used artificial intelligence to create artistic works. By the early 1970s, Harold Cohen was creating and exhibiting generative AI works created by AARON, the computer program Cohen created to generate paintings.\n",
      "The terms generative AI planning or generative planning were used in the 1980s and 1990s to refer to AI planning systems, especially computer-aided process planning, used to generate sequences of actions to reach a specified goal. Generative AI planning systems used symbolic AI methods such as state space search and constraint satisfaction and were a \"relatively mature\" technology by the early 1990s. They were used to generate crisis action plans for military use, process plans for manufacturing and decision plans such as in prototype autonomous spacecraft.\n",
      "\n",
      "\n",
      "=== Generative neural nets (2014-2019) ===\n",
      "\n",
      "Since its inception, the field of machine learning used both discriminative models and generative models, to mode</Document>\n"
     ]
    }
   ],
   "source": [
    "print(docs)"
   ]
  },
  {
   "cell_type": "code",
   "execution_count": 12,
   "metadata": {},
   "outputs": [],
   "source": [
    "from langchain_community.tools import TavilySearchResults\n",
    "from langchain_community.document_loaders import WikipediaLoader\n",
    "from langchain_core.messages import HumanMessage, SystemMessage\n",
    "\n",
    "\n",
    "class State(TypedDict):\n",
    "    question: str\n",
    "    answer: str\n",
    "    context: Annotated[list[str], add]\n",
    "\n",
    "def web_search(state: State) -> State:\n",
    "\n",
    "    \"\"\"\n",
    "    Retrieves docs from web search\n",
    "    \"\"\"\n",
    "\n",
    "    print(\"------- Web Search -------\")\n",
    "    tavily_search = TavilySearchResults(max_results=3)\n",
    "    search_docs = tavily_search.invoke(state[\"question\"])\n",
    "    formatted_search_docs = \"\\n\\n---\\n\\n\".join([f'<Document href=\"{doc['url']}\"/>\\n{doc['content']}</Document>' for doc in search_docs])\n",
    "    print(f\"{formatted_search_docs[:200]} .....\")\n",
    "    return {\"context\": [formatted_search_docs]}\n",
    "\n",
    "\n",
    "def wikipedia_search(state: State) -> State:\n",
    "    \"\"\"\n",
    "    Retrieves docs from wikipedia search\n",
    "    \"\"\"\n",
    "    print(\"------- Wikipedia Search -------\")\n",
    "    search_docs = WikipediaLoader(query=state[\"question\"], load_max_docs=2).load()\n",
    "    formatted_search_docs = \"\\n\\n---\\n\\n\".join([f'<Document source=\"{doc.metadata['source']}\"/>\\n{doc.page_content}</Document>' for doc in search_docs])\n",
    "    print(f\"{formatted_search_docs[:200]} .....\")\n",
    "    return {\"context\": [formatted_search_docs]}\n",
    "\n",
    "\n",
    "def generate_answer(state: State) -> State:\n",
    "    \"\"\"\n",
    "    Node to answer the question\n",
    "    \"\"\"\n",
    "    print(\"------- Generate Answer -------\")\n",
    "    context = state[\"context\"]\n",
    "    question = state[\"question\"]\n",
    "\n",
    "    system_message = \"You are a helpful assistant that answers questions based on the provided context.\"\n",
    "    human_message_template = \"Answer the following question based on the context provided: {context} \\n\\n Question: {question}\"\n",
    "    human_message = human_message_template.format(context=context, question=question)\n",
    "\n",
    "    \n",
    "\n",
    "    answer = llm.invoke([SystemMessage(content=system_message)] + [HumanMessage(content=human_message)])\n",
    "    return {\"answer\": answer}\n",
    "\n",
    "builder = StateGraph(State)\n",
    "\n",
    "builder.add_node(\"web_search\", web_search)\n",
    "builder.add_node(\"wikipedia_search\", wikipedia_search)\n",
    "builder.add_node(\"generate_answer\", generate_answer)\n",
    "\n",
    "builder.add_edge(START, \"web_search\")\n",
    "builder.add_edge(START, \"wikipedia_search\")\n",
    "builder.add_edge(\"web_search\", \"generate_answer\")\n",
    "builder.add_edge(\"wikipedia_search\", \"generate_answer\")\n",
    "builder.add_edge(\"generate_answer\", END)\n",
    "\n",
    "graph = builder.compile()\n",
    "\n"
   ]
  },
  {
   "cell_type": "code",
   "execution_count": 13,
   "metadata": {},
   "outputs": [
    {
     "name": "stdout",
     "output_type": "stream",
     "text": [
      "{'question': \"How were Nvidia's Q2 2024 earnings\", 'context': []}\n",
      "------- Web Search -------\n",
      "------- Wikipedia Search -------\n",
      "<Document href=\"https://nvidianews.nvidia.com/news/nvidia-announces-financial-results-for-second-quarter-fiscal-2025\"/>\n",
      "NVIDIA (NASDAQ: NVDA) today reported revenue for the second quarter ended July 2 .....\n",
      "<Document source=\"https://en.wikipedia.org/wiki/Nvidia\"/>\n",
      "Nvidia Corporation ( en-VID-ee-ə) is an American multinational corporation and technology company headquartered in Santa Clara, California, an .....\n",
      "{'question': \"How were Nvidia's Q2 2024 earnings\", 'context': ['<Document href=\"https://nvidianews.nvidia.com/news/nvidia-announces-financial-results-for-second-quarter-fiscal-2025\"/>\\nNVIDIA (NASDAQ: NVDA) today reported revenue for the second quarter ended July 28, 2024, of $30.0 billion, up 15% from the previous quarter and up 122% from a year ago. For the quarter, GAAP earnings per diluted share was $0.67, up 12% from the previous quarter and up 168% from a year ago. Non-GAAP earnings per diluted share was $0.68, up 11% from the previous quarter and up 152% from a year ago. These non-GAAP measures include non-GAAP gross profit, non-GAAP gross margin, non-GAAP operating expenses, non-GAAP income from operations, non-GAAP other income (expense), net, non-GAAP net income, non-GAAP net income, or earnings, per diluted share, and free cash flow.</Document>\\n\\n---\\n\\n<Document href=\"https://www.forbes.com/sites/petercohan/2024/08/28/nvidia-stock-down-after-hours-despite-q2-earnings-beat-and-raise/\"/>\\nNvidia Stock Down On Slower Growth Despite Q2 Earnings Beat And Raise Nvidia Stock Down On Slower Growth Despite Q2 Earnings Beat And Raise Q2 2024 revenue: $30 billion — up 122% from the previous year’s $13.5 billion — and $1.3 billion more than analysts’ consensus of $28.7 billion for the quarter ending July 31, according to London Stock Exchange Group. For the full fiscal year, Nvidia — which approved $50 billion in share buybacks — expects gross margins to be in the “mid-70% range” — slightly below the StreetAccount consensus of 76.4%, CNBC reported.</Document>\\n\\n---\\n\\n<Document href=\"https://visiblealpha.com/blog/nvidias-q2-2025-earnings-review/\"/>\\nNvidia delivered total revenues for Q2 of $30.0 billion, beating Visible Alpha’s consensus estimate of $28.7 billion by $1.3 billion, driven by continued revenue growth of Nvidia’s Data Center segment. For fiscal Q2 2025, Nvidia guided $1 billion ahead of expectations to $33.1 billion in total revenue, with analysts now projecting the Data Center segment to make up $29.1 billion, up from $28.0 billion. Since the Q2 release, analysts have increased their full-year Data Center revenue estimates by another $1 billion for FY 2025 to $110.6 billion, driven by continued optimism around GPU demand and the release of Blackwell. It is worth noting that since last year, Data Center revenue revisions for Nvidia have increased by over $200 billion and reflect where current expectations are for the company’s outlook.</Document>', '<Document source=\"https://en.wikipedia.org/wiki/Nvidia\"/>\\nNvidia Corporation ( en-VID-ee-ə) is an American multinational corporation and technology company headquartered in Santa Clara, California, and incorporated in Delaware. Founded in 1993 by Jensen Huang (president and CEO), Chris Malachowsky, and Curtis Priem, it is a software and fabless company which designs and supplies graphics processing units (GPUs), application programming interfaces (APIs) for data science and high-performance computing, as well as system on a chip units (SoCs) for mobile computing and the automotive market. Nvidia is also a dominant supplier of artificial intelligence (AI) hardware and software.\\nNvidia\\'s professional line of GPUs are used for edge-to-cloud computing and in supercomputers and workstations for applications in fields such as architecture, engineering and construction, media and entertainment, automotive, scientific research, and manufacturing design. Its GeForce line of GPUs are aimed at the consumer market and are used in applications such as video editing, 3D rendering, and PC gaming. With a market share of 80.2% in the second quarter of 2023, Nvidia leads the market for discrete desktop GPUs by a wide margin. The company expanded its presence in the gaming industry with the introduction of the Shield Portable (a handheld game console), Shield Tablet (a gaming tablet), and Shield TV (a digital media player), as well as its cloud gaming service GeForce Now.\\nIn addition to GPU design and outsourcing manufacturing, Nvidia provides the CUDA software platform and API that allows the creation of massively parallel programs which utilize GPUs. They are deployed in supercomputing sites around the world. In the late 2000s, Nvidia had moved into the mobile computing market, where it produces Tegra mobile processors for smartphones and tablets as well as vehicle navigation and entertainment systems. Its competitors include AMD, Intel, Qualcomm, and AI accelerator companies such as Cerebras and Graphcore. It also makes AI-powered software for audio and video processing (e.g., Nvidia Maxine).\\nNvidia\\'s offer to acquire Arm from SoftBank in September 2020 failed to materialize following extended regulatory scrutiny, leading to the termination of the deal in February 2022 in what would have been the largest semiconductor acquisition. In 2023, Nvidia became the seventh public U.S. company to be valued at over $1 trillion, and the company\\'s valuation has increased rapidly since then as the company became a leader in data center chips with AI capabilities in the midst of the AI boom. In June 2024, for one day, Nvidia overtook Microsoft as the world\\'s most valuable publicly traded company, with a market capitalization of over $3.3 trillion.\\n\\n\\n== History ==\\n\\n\\n=== Founding ===\\n\\nNvidia was founded on April 5, 1993, by Jensen Huang (who, as of 2024, remains CEO), a Taiwanese-American electrical engineer who was previously the director of CoreWare at LSI Logic and a microprocessor designer at AMD; Chris Malachowsky, an engineer who worked at Sun Microsystems; and Curtis Priem, who was previously a senior staff engineer and graphics chip designer at IBM and Sun Microsystems. The three men agreed to start the company in a meeting at a Denny\\'s roadside diner on Berryessa Road in East San Jose.\\nAt the time, Malachowsky and Priem were frustrated with Sun\\'s management and were looking to leave, but Huang was on \"firmer ground\", in that he was already running his own division at LSI. The three co-founders discussed a vision of the future which was so compelling that Huang decided to leave LSI and become the chief executive officer of their new startup.\\nIn 1993, the three co-founders envisioned that the ideal trajectory for the forthcoming wave of computing would be in the realm of accelerated computing, specifically in graphics-based processing. This path was chosen due to its unique ability to tackle challenges that eluded general-purpose computing methods. As Huang later explained: \"We also observed that video games</Document>\\n\\n---\\n\\n<Document source=\"https://en.wikipedia.org/wiki/TSMC\"/>\\nTaiwan Semiconductor Manufacturing Company Limited (TSMC or Taiwan Semiconductor) is a Taiwanese multinational semiconductor contract manufacturing and design company. It is the world\\'s most valuable semiconductor company, the world\\'s largest dedicated independent (\"pure-play\") semiconductor foundry, and Taiwan\\'s largest company, with headquarters and main operations located in the Hsinchu Science Park in Hsinchu, Taiwan. Although the central government of Taiwan is the largest individual shareholder, the majority of TSMC is owned by foreign investors. In 2023, the company was ranked 44th in the Forbes Global 2000. Taiwan\\'s exports of integrated circuits amounted to $184 billion in 2022, accounted for nearly 25 percent of Taiwan\\'s GDP. TSMC constitutes about 30 percent of the Taiwan Stock Exchange\\'s main index.\\nTSMC was founded in Taiwan in 1987 by Morris Chang as the world\\'s first dedicated semiconductor foundry. It has long been the leading company in its field. When Chang retired in 2018, after 31 years of TSMC leadership, Mark Liu became chairman and C. C. Wei became Chief Executive. It has been listed on the Taiwan Stock Exchange since 1993; in 1997 it became the first Taiwanese company to be listed on the New York Stock Exchange. Since 1994, TSMC has had a compound annual growth rate (CAGR) of 17.4% in revenue and a CAGR of 16.1% in earnings.\\nMost fabless semiconductor companies such as AMD, Apple, ARM, Broadcom, Marvell, MediaTek, Qualcomm, and Nvidia are customers of TSMC, as are emerging companies such as Allwinner Technology, HiSilicon, Spectra7, and UNISOC. Programmable logic device companies Xilinx and previously Altera also make or made use of TSMC\\'s foundry services. Some integrated device manufacturers that have their own fabrication facilities, such as Intel, NXP, STMicroelectronics, and Texas Instruments, outsource some of their production to TSMC. At least one semiconductor company, LSI, re-sells TSMC wafers through its ASIC design services and design IP portfolio.\\nTSMC has a global capacity of about thirteen million 300 mm-equivalent wafers per year as of 2020 and produces chips for customers with process nodes from 2 microns to 3 nanometres. TSMC was the first foundry to market 7-nanometre and 5-nanometre (used by the 2020 Apple A14 and M1 SoCs, the MediaTek Dimensity 8100, and AMD Ryzen 7000 series processors) production capabilities, and the first to commercialize ASML\\'s extreme ultraviolet (EUV) lithography technology in high volume.\\n\\n\\n== History ==\\nIn 1986, Li Kwoh-ting, representing the Executive Yuan, invited Morris Chang to serve as the president of the Industrial Technology Research Institute (ITRI) and offered him a blank check to build Taiwan\\'s chip industry. At that time, the Taiwanese government wanted to develop its semiconductor industry, but its high investment and high risk nature made it difficult to find investors. Texas Instruments and Intel turned down Chang. Only Philips was willing to sign a joint venture contract with Taiwan to put up $58 million, transfer its production technology, and license intellectual property in exchange for a 27.5 percent stake in TSMC. Alongside generous tax benefits, the Taiwanese government, through the National Development Fund, Executive Yuan, provided another 48 percent of the startup capital for TSMC, and the rest of the capital was raised from several of the island\\'s wealthiest families, who owned firms that specialized in plastics, textiles, and chemicals. These wealthy Taiwanese were directly \"asked\" by the government to invest. \"What generally happened was that one of the ministers in the government would call a businessman in Taiwan,\" Chang explained, \"to get him to invest.\" From day one, TSMC was not really a private business: it was a project of the Taiwanese state. Its first CEO was James E. Dykes, who left after a year and Morris Chang became the CEO.\\nSince then, the company has continued to grow, albeit subject to the cycles of demand. In 2011</Document>']}\n",
      "------- Generate Answer -------\n",
      "{'question': \"How were Nvidia's Q2 2024 earnings\", 'answer': AIMessage(content=\"Nvidia's Q2 2024 earnings were strong, with reported revenue of $30.0 billion, which represented a 15% increase from the previous quarter and a 122% increase from the same quarter a year ago. The GAAP earnings per diluted share were $0.67, up 12% from the previous quarter and up 168% year-over-year. Non-GAAP earnings per diluted share were $0.68, reflecting an 11% increase from the previous quarter and a 152% increase from the same period last year. Additionally, Nvidia beat analysts' consensus estimates of $28.7 billion in revenue for the quarter by $1.3 billion.\", additional_kwargs={'refusal': None}, response_metadata={'token_usage': {'completion_tokens': 140, 'prompt_tokens': 2427, 'total_tokens': 2567, 'completion_tokens_details': {'accepted_prediction_tokens': 0, 'audio_tokens': 0, 'reasoning_tokens': 0, 'rejected_prediction_tokens': 0}, 'prompt_tokens_details': {'audio_tokens': 0, 'cached_tokens': 0}}, 'model_name': 'gpt-4o-mini-2024-07-18', 'system_fingerprint': 'fp_0aa8d3e20b', 'finish_reason': 'stop', 'logprobs': None}, id='run-4409d45f-76a3-48f1-8177-10949a0594de-0', usage_metadata={'input_tokens': 2427, 'output_tokens': 140, 'total_tokens': 2567, 'input_token_details': {'audio': 0, 'cache_read': 0}, 'output_token_details': {'audio': 0, 'reasoning': 0}}), 'context': ['<Document href=\"https://nvidianews.nvidia.com/news/nvidia-announces-financial-results-for-second-quarter-fiscal-2025\"/>\\nNVIDIA (NASDAQ: NVDA) today reported revenue for the second quarter ended July 28, 2024, of $30.0 billion, up 15% from the previous quarter and up 122% from a year ago. For the quarter, GAAP earnings per diluted share was $0.67, up 12% from the previous quarter and up 168% from a year ago. Non-GAAP earnings per diluted share was $0.68, up 11% from the previous quarter and up 152% from a year ago. These non-GAAP measures include non-GAAP gross profit, non-GAAP gross margin, non-GAAP operating expenses, non-GAAP income from operations, non-GAAP other income (expense), net, non-GAAP net income, non-GAAP net income, or earnings, per diluted share, and free cash flow.</Document>\\n\\n---\\n\\n<Document href=\"https://www.forbes.com/sites/petercohan/2024/08/28/nvidia-stock-down-after-hours-despite-q2-earnings-beat-and-raise/\"/>\\nNvidia Stock Down On Slower Growth Despite Q2 Earnings Beat And Raise Nvidia Stock Down On Slower Growth Despite Q2 Earnings Beat And Raise Q2 2024 revenue: $30 billion — up 122% from the previous year’s $13.5 billion — and $1.3 billion more than analysts’ consensus of $28.7 billion for the quarter ending July 31, according to London Stock Exchange Group. For the full fiscal year, Nvidia — which approved $50 billion in share buybacks — expects gross margins to be in the “mid-70% range” — slightly below the StreetAccount consensus of 76.4%, CNBC reported.</Document>\\n\\n---\\n\\n<Document href=\"https://visiblealpha.com/blog/nvidias-q2-2025-earnings-review/\"/>\\nNvidia delivered total revenues for Q2 of $30.0 billion, beating Visible Alpha’s consensus estimate of $28.7 billion by $1.3 billion, driven by continued revenue growth of Nvidia’s Data Center segment. For fiscal Q2 2025, Nvidia guided $1 billion ahead of expectations to $33.1 billion in total revenue, with analysts now projecting the Data Center segment to make up $29.1 billion, up from $28.0 billion. Since the Q2 release, analysts have increased their full-year Data Center revenue estimates by another $1 billion for FY 2025 to $110.6 billion, driven by continued optimism around GPU demand and the release of Blackwell. It is worth noting that since last year, Data Center revenue revisions for Nvidia have increased by over $200 billion and reflect where current expectations are for the company’s outlook.</Document>', '<Document source=\"https://en.wikipedia.org/wiki/Nvidia\"/>\\nNvidia Corporation ( en-VID-ee-ə) is an American multinational corporation and technology company headquartered in Santa Clara, California, and incorporated in Delaware. Founded in 1993 by Jensen Huang (president and CEO), Chris Malachowsky, and Curtis Priem, it is a software and fabless company which designs and supplies graphics processing units (GPUs), application programming interfaces (APIs) for data science and high-performance computing, as well as system on a chip units (SoCs) for mobile computing and the automotive market. Nvidia is also a dominant supplier of artificial intelligence (AI) hardware and software.\\nNvidia\\'s professional line of GPUs are used for edge-to-cloud computing and in supercomputers and workstations for applications in fields such as architecture, engineering and construction, media and entertainment, automotive, scientific research, and manufacturing design. Its GeForce line of GPUs are aimed at the consumer market and are used in applications such as video editing, 3D rendering, and PC gaming. With a market share of 80.2% in the second quarter of 2023, Nvidia leads the market for discrete desktop GPUs by a wide margin. The company expanded its presence in the gaming industry with the introduction of the Shield Portable (a handheld game console), Shield Tablet (a gaming tablet), and Shield TV (a digital media player), as well as its cloud gaming service GeForce Now.\\nIn addition to GPU design and outsourcing manufacturing, Nvidia provides the CUDA software platform and API that allows the creation of massively parallel programs which utilize GPUs. They are deployed in supercomputing sites around the world. In the late 2000s, Nvidia had moved into the mobile computing market, where it produces Tegra mobile processors for smartphones and tablets as well as vehicle navigation and entertainment systems. Its competitors include AMD, Intel, Qualcomm, and AI accelerator companies such as Cerebras and Graphcore. It also makes AI-powered software for audio and video processing (e.g., Nvidia Maxine).\\nNvidia\\'s offer to acquire Arm from SoftBank in September 2020 failed to materialize following extended regulatory scrutiny, leading to the termination of the deal in February 2022 in what would have been the largest semiconductor acquisition. In 2023, Nvidia became the seventh public U.S. company to be valued at over $1 trillion, and the company\\'s valuation has increased rapidly since then as the company became a leader in data center chips with AI capabilities in the midst of the AI boom. In June 2024, for one day, Nvidia overtook Microsoft as the world\\'s most valuable publicly traded company, with a market capitalization of over $3.3 trillion.\\n\\n\\n== History ==\\n\\n\\n=== Founding ===\\n\\nNvidia was founded on April 5, 1993, by Jensen Huang (who, as of 2024, remains CEO), a Taiwanese-American electrical engineer who was previously the director of CoreWare at LSI Logic and a microprocessor designer at AMD; Chris Malachowsky, an engineer who worked at Sun Microsystems; and Curtis Priem, who was previously a senior staff engineer and graphics chip designer at IBM and Sun Microsystems. The three men agreed to start the company in a meeting at a Denny\\'s roadside diner on Berryessa Road in East San Jose.\\nAt the time, Malachowsky and Priem were frustrated with Sun\\'s management and were looking to leave, but Huang was on \"firmer ground\", in that he was already running his own division at LSI. The three co-founders discussed a vision of the future which was so compelling that Huang decided to leave LSI and become the chief executive officer of their new startup.\\nIn 1993, the three co-founders envisioned that the ideal trajectory for the forthcoming wave of computing would be in the realm of accelerated computing, specifically in graphics-based processing. This path was chosen due to its unique ability to tackle challenges that eluded general-purpose computing methods. As Huang later explained: \"We also observed that video games</Document>\\n\\n---\\n\\n<Document source=\"https://en.wikipedia.org/wiki/TSMC\"/>\\nTaiwan Semiconductor Manufacturing Company Limited (TSMC or Taiwan Semiconductor) is a Taiwanese multinational semiconductor contract manufacturing and design company. It is the world\\'s most valuable semiconductor company, the world\\'s largest dedicated independent (\"pure-play\") semiconductor foundry, and Taiwan\\'s largest company, with headquarters and main operations located in the Hsinchu Science Park in Hsinchu, Taiwan. Although the central government of Taiwan is the largest individual shareholder, the majority of TSMC is owned by foreign investors. In 2023, the company was ranked 44th in the Forbes Global 2000. Taiwan\\'s exports of integrated circuits amounted to $184 billion in 2022, accounted for nearly 25 percent of Taiwan\\'s GDP. TSMC constitutes about 30 percent of the Taiwan Stock Exchange\\'s main index.\\nTSMC was founded in Taiwan in 1987 by Morris Chang as the world\\'s first dedicated semiconductor foundry. It has long been the leading company in its field. When Chang retired in 2018, after 31 years of TSMC leadership, Mark Liu became chairman and C. C. Wei became Chief Executive. It has been listed on the Taiwan Stock Exchange since 1993; in 1997 it became the first Taiwanese company to be listed on the New York Stock Exchange. Since 1994, TSMC has had a compound annual growth rate (CAGR) of 17.4% in revenue and a CAGR of 16.1% in earnings.\\nMost fabless semiconductor companies such as AMD, Apple, ARM, Broadcom, Marvell, MediaTek, Qualcomm, and Nvidia are customers of TSMC, as are emerging companies such as Allwinner Technology, HiSilicon, Spectra7, and UNISOC. Programmable logic device companies Xilinx and previously Altera also make or made use of TSMC\\'s foundry services. Some integrated device manufacturers that have their own fabrication facilities, such as Intel, NXP, STMicroelectronics, and Texas Instruments, outsource some of their production to TSMC. At least one semiconductor company, LSI, re-sells TSMC wafers through its ASIC design services and design IP portfolio.\\nTSMC has a global capacity of about thirteen million 300 mm-equivalent wafers per year as of 2020 and produces chips for customers with process nodes from 2 microns to 3 nanometres. TSMC was the first foundry to market 7-nanometre and 5-nanometre (used by the 2020 Apple A14 and M1 SoCs, the MediaTek Dimensity 8100, and AMD Ryzen 7000 series processors) production capabilities, and the first to commercialize ASML\\'s extreme ultraviolet (EUV) lithography technology in high volume.\\n\\n\\n== History ==\\nIn 1986, Li Kwoh-ting, representing the Executive Yuan, invited Morris Chang to serve as the president of the Industrial Technology Research Institute (ITRI) and offered him a blank check to build Taiwan\\'s chip industry. At that time, the Taiwanese government wanted to develop its semiconductor industry, but its high investment and high risk nature made it difficult to find investors. Texas Instruments and Intel turned down Chang. Only Philips was willing to sign a joint venture contract with Taiwan to put up $58 million, transfer its production technology, and license intellectual property in exchange for a 27.5 percent stake in TSMC. Alongside generous tax benefits, the Taiwanese government, through the National Development Fund, Executive Yuan, provided another 48 percent of the startup capital for TSMC, and the rest of the capital was raised from several of the island\\'s wealthiest families, who owned firms that specialized in plastics, textiles, and chemicals. These wealthy Taiwanese were directly \"asked\" by the government to invest. \"What generally happened was that one of the ministers in the government would call a businessman in Taiwan,\" Chang explained, \"to get him to invest.\" From day one, TSMC was not really a private business: it was a project of the Taiwanese state. Its first CEO was James E. Dykes, who left after a year and Morris Chang became the CEO.\\nSince then, the company has continued to grow, albeit subject to the cycles of demand. In 2011</Document>']}\n"
     ]
    }
   ],
   "source": [
    "for event in graph.stream({\"question\": \"How were Nvidia's Q2 2024 earnings\"}, stream_mode= \"values\"):\n",
    "    print(event)"
   ]
  },
  {
   "cell_type": "code",
   "execution_count": 14,
   "metadata": {},
   "outputs": [
    {
     "name": "stdout",
     "output_type": "stream",
     "text": [
      "------- Web Search -------------- Wikipedia Search -------\n",
      "\n",
      "<Document href=\"https://nvidianews.nvidia.com/news/nvidia-announces-financial-results-for-second-quarter-fiscal-2025\"/>\n",
      "NVIDIA (NASDAQ: NVDA) today reported revenue for the second quarter ended July 2 .....\n",
      "<Document source=\"https://en.wikipedia.org/wiki/Nvidia\"/>\n",
      "Nvidia Corporation ( en-VID-ee-ə) is an American multinational corporation and technology company headquartered in Santa Clara, California, an .....\n",
      "------- Generate Answer -------\n"
     ]
    }
   ],
   "source": [
    "result = graph.invoke({\"question\": \"How were Nvidia's Q2 2024 earnings\"})\n"
   ]
  },
  {
   "cell_type": "code",
   "execution_count": 15,
   "metadata": {},
   "outputs": [
    {
     "name": "stdout",
     "output_type": "stream",
     "text": [
      "Nvidia's Q2 2024 earnings report showed impressive results. The company reported revenue of $30.0\n",
      "\n",
      "billion for the quarter, which represented a 15% increase from the previous quarter and a remarkable\n",
      "\n",
      "122% increase compared to the same quarter a year ago.   In terms of earnings per share (EPS), the\n",
      "\n",
      "GAAP earnings per diluted share were $0.67, up 12% from the previous quarter and up 168% year-over-\n",
      "\n",
      "year. The non-GAAP earnings per diluted share were slightly higher at $0.68, which was an 11%\n",
      "\n",
      "increase from the prior quarter and a 152% increase from the same quarter last year.   This strong\n",
      "\n",
      "financial performance was driven by continued growth, particularly in Nvidia's Data Center segment,\n",
      "\n",
      "which is becoming a significant contributor to the company's overall revenue.\n"
     ]
    }
   ],
   "source": [
    "from textwrap import wrap\n",
    "print(\"\\n\\n\".join(wrap(result['answer'].content, 100)))\n"
   ]
  },
  {
   "cell_type": "markdown",
   "metadata": {},
   "source": [
    "## With Langgraph API"
   ]
  },
  {
   "cell_type": "code",
   "execution_count": 20,
   "metadata": {},
   "outputs": [
    {
     "name": "stderr",
     "output_type": "stream",
     "text": [
      "/var/folders/3g/r3ht76p907vdqxh325xx85tm0000ks/T/ipykernel_16501/2069824477.py:5: RuntimeWarning: coroutine 'ThreadsClient.create' was never awaited\n",
      "  thread = await client.threads.create()\n",
      "RuntimeWarning: Enable tracemalloc to get the object allocation traceback\n"
     ]
    }
   ],
   "source": [
    "from langgraph_sdk import get_client\n",
    "\n",
    "client = get_client(url = \"http://localhost:49413\")\n",
    "\n",
    "thread = await client.threads.create()\n",
    "\n"
   ]
  },
  {
   "cell_type": "code",
   "execution_count": 24,
   "metadata": {},
   "outputs": [
    {
     "name": "stdout",
     "output_type": "stream",
     "text": [
      "----------------------------------------------------------------------------------------------------\n",
      "Question: How were Nvidia's Q2 2024 earnings\n",
      "----------------------------------------------------------------------------------------------------\n",
      "Question: How were Nvidia's Q2 2024 earnings\n",
      "Context: ['<Document href=\"https://nvidianews.nvidia.com/news/nvidia-announces-financial-results-for-second-quarter-fiscal-2025\"/>\\nNVIDIA (NASDAQ: NVDA) today reported revenue for the second quarter ended July 28, 2024, of $30.0 billion, up 15% from the previous quarter and up 122% from a year ago. For the quarter, GAAP earnings per diluted share was $0.67, up 12% from the previous quarter and up 168% from a year ago. Non-GAAP earnings per diluted share was $0.68, up 11% from the previous quarter and up 152% from a year ago. These non-GAAP measures include non-GAAP gross profit, non-GAAP gross margin, non-GAAP operating expenses, non-GAAP income from operations, non-GAAP other income (expense), net, non-GAAP net income, non-GAAP net income, or earnings, per diluted share, and free cash flow.\\n</Document>\\n\\n---\\n\\n<Document href=\"https://www.forbes.com/sites/petercohan/2024/08/28/nvidia-stock-down-after-hours-despite-q2-earnings-beat-and-raise/\"/>\\nNvidia Stock Down On Slower Growth Despite Q2 Earnings Beat And Raise Nvidia Stock Down On Slower Growth Despite Q2 Earnings Beat And Raise Q2 2024 revenue: $30 billion — up 122% from the previous year’s $13.5 billion — and $1.3 billion more than analysts’ consensus of $28.7 billion for the quarter ending July 31, according to London Stock Exchange Group. For the full fiscal year, Nvidia — which approved $50 billion in share buybacks — expects gross margins to be in the “mid-70% range” — slightly below the StreetAccount consensus of 76.4%, CNBC reported.\\n</Document>\\n\\n---\\n\\n<Document href=\"https://visiblealpha.com/blog/nvidias-q2-2025-earnings-review/\"/>\\nNvidia delivered total revenues for Q2 of $30.0 billion, beating Visible Alpha’s consensus estimate of $28.7 billion by $1.3 billion, driven by continued revenue growth of Nvidia’s Data Center segment. For fiscal Q2 2025, Nvidia guided $1 billion ahead of expectations to $33.1 billion in total revenue, with analysts now projecting the Data Center segment to make up $29.1 billion, up from $28.0 billion. Since the Q2 release, analysts have increased their full-year Data Center revenue estimates by another $1 billion for FY 2025 to $110.6 billion, driven by continued optimism around GPU demand and the release of Blackwell. It is worth noting that since last year, Data Center revenue revisions for Nvidia have increased by over $200 billion and reflect where current expectations are for the company’s outlook.\\n</Document>', '<Document source=\"https://en.wikipedia.org/wiki/Nvidia\" page=\"\"/>\\nNvidia Corporation ( en-VID-ee-ə) is an American multinational corporation and technology company headquartered in Santa Clara, California, and incorporated in Delaware. Founded in 1993 by Jensen Huang (president and CEO), Chris Malachowsky, and Curtis Priem, it is a software and fabless company which designs and supplies graphics processing units (GPUs), application programming interfaces (APIs) for data science and high-performance computing, as well as system on a chip units (SoCs) for mobile computing and the automotive market. Nvidia is also a dominant supplier of artificial intelligence (AI) hardware and software.\\nNvidia\\'s professional line of GPUs are used for edge-to-cloud computing and in supercomputers and workstations for applications in fields such as architecture, engineering and construction, media and entertainment, automotive, scientific research, and manufacturing design. Its GeForce line of GPUs are aimed at the consumer market and are used in applications such as video editing, 3D rendering, and PC gaming. With a market share of 80.2% in the second quarter of 2023, Nvidia leads the market for discrete desktop GPUs by a wide margin. The company expanded its presence in the gaming industry with the introduction of the Shield Portable (a handheld game console), Shield Tablet (a gaming tablet), and Shield TV (a digital media player), as well as its cloud gaming service GeForce Now.\\nIn addition to GPU design and outsourcing manufacturing, Nvidia provides the CUDA software platform and API that allows the creation of massively parallel programs which utilize GPUs. They are deployed in supercomputing sites around the world. In the late 2000s, Nvidia had moved into the mobile computing market, where it produces Tegra mobile processors for smartphones and tablets as well as vehicle navigation and entertainment systems. Its competitors include AMD, Intel, Qualcomm, and AI accelerator companies such as Cerebras and Graphcore. It also makes AI-powered software for audio and video processing (e.g., Nvidia Maxine).\\nNvidia\\'s offer to acquire Arm from SoftBank in September 2020 failed to materialize following extended regulatory scrutiny, leading to the termination of the deal in February 2022 in what would have been the largest semiconductor acquisition. In 2023, Nvidia became the seventh public U.S. company to be valued at over $1 trillion, and the company\\'s valuation has increased rapidly since then as the company became a leader in data center chips with AI capabilities in the midst of the AI boom. In June 2024, for one day, Nvidia overtook Microsoft as the world\\'s most valuable publicly traded company, with a market capitalization of over $3.3 trillion.\\n\\n\\n== History ==\\n\\n\\n=== Founding ===\\n\\nNvidia was founded on April 5, 1993, by Jensen Huang (who, as of 2024, remains CEO), a Taiwanese-American electrical engineer who was previously the director of CoreWare at LSI Logic and a microprocessor designer at AMD; Chris Malachowsky, an engineer who worked at Sun Microsystems; and Curtis Priem, who was previously a senior staff engineer and graphics chip designer at IBM and Sun Microsystems. The three men agreed to start the company in a meeting at a Denny\\'s roadside diner on Berryessa Road in East San Jose.\\nAt the time, Malachowsky and Priem were frustrated with Sun\\'s management and were looking to leave, but Huang was on \"firmer ground\", in that he was already running his own division at LSI. The three co-founders discussed a vision of the future which was so compelling that Huang decided to leave LSI and become the chief executive officer of their new startup.\\nIn 1993, the three co-founders envisioned that the ideal trajectory for the forthcoming wave of computing would be in the realm of accelerated computing, specifically in graphics-based processing. This path was chosen due to its unique ability to tackle challenges that eluded general-purpose computing methods. As Huang later explained: \"We also observed that video games\\n</Document>\\n\\n---\\n\\n<Document source=\"https://en.wikipedia.org/wiki/TSMC\" page=\"\"/>\\nTaiwan Semiconductor Manufacturing Company Limited (TSMC or Taiwan Semiconductor) is a Taiwanese multinational semiconductor contract manufacturing and design company. It is the world\\'s most valuable semiconductor company, the world\\'s largest dedicated independent (\"pure-play\") semiconductor foundry, and Taiwan\\'s largest company, with headquarters and main operations located in the Hsinchu Science Park in Hsinchu, Taiwan. Although the central government of Taiwan is the largest individual shareholder, the majority of TSMC is owned by foreign investors. In 2023, the company was ranked 44th in the Forbes Global 2000. Taiwan\\'s exports of integrated circuits amounted to $184 billion in 2022, accounted for nearly 25 percent of Taiwan\\'s GDP. TSMC constitutes about 30 percent of the Taiwan Stock Exchange\\'s main index.\\nTSMC was founded in Taiwan in 1987 by Morris Chang as the world\\'s first dedicated semiconductor foundry. It has long been the leading company in its field. When Chang retired in 2018, after 31 years of TSMC leadership, Mark Liu became chairman and C. C. Wei became Chief Executive. It has been listed on the Taiwan Stock Exchange since 1993; in 1997 it became the first Taiwanese company to be listed on the New York Stock Exchange. Since 1994, TSMC has had a compound annual growth rate (CAGR) of 17.4% in revenue and a CAGR of 16.1% in earnings.\\nMost fabless semiconductor companies such as AMD, Apple, ARM, Broadcom, Marvell, MediaTek, Qualcomm, and Nvidia are customers of TSMC, as are emerging companies such as Allwinner Technology, HiSilicon, Spectra7, and UNISOC. Programmable logic device companies Xilinx and previously Altera also make or made use of TSMC\\'s foundry services. Some integrated device manufacturers that have their own fabrication facilities, such as Intel, NXP, STMicroelectronics, and Texas Instruments, outsource some of their production to TSMC. At least one semiconductor company, LSI, re-sells TSMC wafers through its ASIC design services and design IP portfolio.\\nTSMC has a global capacity of about thirteen million 300 mm-equivalent wafers per year as of 2020 and produces chips for customers with process nodes from 2 microns to 3 nanometres. TSMC was the first foundry to market 7-nanometre and 5-nanometre (used by the 2020 Apple A14 and M1 SoCs, the MediaTek Dimensity 8100, and AMD Ryzen 7000 series processors) production capabilities, and the first to commercialize ASML\\'s extreme ultraviolet (EUV) lithography technology in high volume.\\n\\n\\n== History ==\\nIn 1986, Li Kwoh-ting, representing the Executive Yuan, invited Morris Chang to serve as the president of the Industrial Technology Research Institute (ITRI) and offered him a blank check to build Taiwan\\'s chip industry. At that time, the Taiwanese government wanted to develop its semiconductor industry, but its high investment and high risk nature made it difficult to find investors. Texas Instruments and Intel turned down Chang. Only Philips was willing to sign a joint venture contract with Taiwan to put up $58 million, transfer its production technology, and license intellectual property in exchange for a 27.5 percent stake in TSMC. Alongside generous tax benefits, the Taiwanese government, through the National Development Fund, Executive Yuan, provided another 48 percent of the startup capital for TSMC, and the rest of the capital was raised from several of the island\\'s wealthiest families, who owned firms that specialized in plastics, textiles, and chemicals. These wealthy Taiwanese were directly \"asked\" by the government to invest. \"What generally happened was that one of the ministers in the government would call a businessman in Taiwan,\" Chang explained, \"to get him to invest.\" From day one, TSMC was not really a private business: it was a project of the Taiwanese state. Its first CEO was James E. Dykes, who left after a year and Morris Chang became the CEO.\\nSince then, the company has continued to grow, albeit subject to the cycles of demand. In 2011\\n</Document>']\n",
      "----------------------------------------------------------------------------------------------------\n",
      "Answer: Nvidia's Q2 2024 earnings were strong, with the company reporting revenue of $30.0 billion, which was up 15% from the previous quarter and up 122% from a year ago. The earnings per diluted share were $0.67 on a GAAP basis and $0.68 on a non-GAAP basis, both showing significant increases from the previous year. The revenue exceeded analysts' consensus estimates by $1.3 billion, driven by growth in Nvidia's Data Center segment. Despite these positive results, Nvidia's stock experienced a decline due to concerns about slower growth and gross margins slightly below expectations.\n",
      "Question: How were Nvidia's Q2 2024 earnings\n",
      "Context: ['<Document href=\"https://nvidianews.nvidia.com/news/nvidia-announces-financial-results-for-second-quarter-fiscal-2025\"/>\\nNVIDIA (NASDAQ: NVDA) today reported revenue for the second quarter ended July 28, 2024, of $30.0 billion, up 15% from the previous quarter and up 122% from a year ago. For the quarter, GAAP earnings per diluted share was $0.67, up 12% from the previous quarter and up 168% from a year ago. Non-GAAP earnings per diluted share was $0.68, up 11% from the previous quarter and up 152% from a year ago. These non-GAAP measures include non-GAAP gross profit, non-GAAP gross margin, non-GAAP operating expenses, non-GAAP income from operations, non-GAAP other income (expense), net, non-GAAP net income, non-GAAP net income, or earnings, per diluted share, and free cash flow.\\n</Document>\\n\\n---\\n\\n<Document href=\"https://www.forbes.com/sites/petercohan/2024/08/28/nvidia-stock-down-after-hours-despite-q2-earnings-beat-and-raise/\"/>\\nNvidia Stock Down On Slower Growth Despite Q2 Earnings Beat And Raise Nvidia Stock Down On Slower Growth Despite Q2 Earnings Beat And Raise Q2 2024 revenue: $30 billion — up 122% from the previous year’s $13.5 billion — and $1.3 billion more than analysts’ consensus of $28.7 billion for the quarter ending July 31, according to London Stock Exchange Group. For the full fiscal year, Nvidia — which approved $50 billion in share buybacks — expects gross margins to be in the “mid-70% range” — slightly below the StreetAccount consensus of 76.4%, CNBC reported.\\n</Document>\\n\\n---\\n\\n<Document href=\"https://visiblealpha.com/blog/nvidias-q2-2025-earnings-review/\"/>\\nNvidia delivered total revenues for Q2 of $30.0 billion, beating Visible Alpha’s consensus estimate of $28.7 billion by $1.3 billion, driven by continued revenue growth of Nvidia’s Data Center segment. For fiscal Q2 2025, Nvidia guided $1 billion ahead of expectations to $33.1 billion in total revenue, with analysts now projecting the Data Center segment to make up $29.1 billion, up from $28.0 billion. Since the Q2 release, analysts have increased their full-year Data Center revenue estimates by another $1 billion for FY 2025 to $110.6 billion, driven by continued optimism around GPU demand and the release of Blackwell. It is worth noting that since last year, Data Center revenue revisions for Nvidia have increased by over $200 billion and reflect where current expectations are for the company’s outlook.\\n</Document>', '<Document source=\"https://en.wikipedia.org/wiki/Nvidia\" page=\"\"/>\\nNvidia Corporation ( en-VID-ee-ə) is an American multinational corporation and technology company headquartered in Santa Clara, California, and incorporated in Delaware. Founded in 1993 by Jensen Huang (president and CEO), Chris Malachowsky, and Curtis Priem, it is a software and fabless company which designs and supplies graphics processing units (GPUs), application programming interfaces (APIs) for data science and high-performance computing, as well as system on a chip units (SoCs) for mobile computing and the automotive market. Nvidia is also a dominant supplier of artificial intelligence (AI) hardware and software.\\nNvidia\\'s professional line of GPUs are used for edge-to-cloud computing and in supercomputers and workstations for applications in fields such as architecture, engineering and construction, media and entertainment, automotive, scientific research, and manufacturing design. Its GeForce line of GPUs are aimed at the consumer market and are used in applications such as video editing, 3D rendering, and PC gaming. With a market share of 80.2% in the second quarter of 2023, Nvidia leads the market for discrete desktop GPUs by a wide margin. The company expanded its presence in the gaming industry with the introduction of the Shield Portable (a handheld game console), Shield Tablet (a gaming tablet), and Shield TV (a digital media player), as well as its cloud gaming service GeForce Now.\\nIn addition to GPU design and outsourcing manufacturing, Nvidia provides the CUDA software platform and API that allows the creation of massively parallel programs which utilize GPUs. They are deployed in supercomputing sites around the world. In the late 2000s, Nvidia had moved into the mobile computing market, where it produces Tegra mobile processors for smartphones and tablets as well as vehicle navigation and entertainment systems. Its competitors include AMD, Intel, Qualcomm, and AI accelerator companies such as Cerebras and Graphcore. It also makes AI-powered software for audio and video processing (e.g., Nvidia Maxine).\\nNvidia\\'s offer to acquire Arm from SoftBank in September 2020 failed to materialize following extended regulatory scrutiny, leading to the termination of the deal in February 2022 in what would have been the largest semiconductor acquisition. In 2023, Nvidia became the seventh public U.S. company to be valued at over $1 trillion, and the company\\'s valuation has increased rapidly since then as the company became a leader in data center chips with AI capabilities in the midst of the AI boom. In June 2024, for one day, Nvidia overtook Microsoft as the world\\'s most valuable publicly traded company, with a market capitalization of over $3.3 trillion.\\n\\n\\n== History ==\\n\\n\\n=== Founding ===\\n\\nNvidia was founded on April 5, 1993, by Jensen Huang (who, as of 2024, remains CEO), a Taiwanese-American electrical engineer who was previously the director of CoreWare at LSI Logic and a microprocessor designer at AMD; Chris Malachowsky, an engineer who worked at Sun Microsystems; and Curtis Priem, who was previously a senior staff engineer and graphics chip designer at IBM and Sun Microsystems. The three men agreed to start the company in a meeting at a Denny\\'s roadside diner on Berryessa Road in East San Jose.\\nAt the time, Malachowsky and Priem were frustrated with Sun\\'s management and were looking to leave, but Huang was on \"firmer ground\", in that he was already running his own division at LSI. The three co-founders discussed a vision of the future which was so compelling that Huang decided to leave LSI and become the chief executive officer of their new startup.\\nIn 1993, the three co-founders envisioned that the ideal trajectory for the forthcoming wave of computing would be in the realm of accelerated computing, specifically in graphics-based processing. This path was chosen due to its unique ability to tackle challenges that eluded general-purpose computing methods. As Huang later explained: \"We also observed that video games\\n</Document>\\n\\n---\\n\\n<Document source=\"https://en.wikipedia.org/wiki/TSMC\" page=\"\"/>\\nTaiwan Semiconductor Manufacturing Company Limited (TSMC or Taiwan Semiconductor) is a Taiwanese multinational semiconductor contract manufacturing and design company. It is the world\\'s most valuable semiconductor company, the world\\'s largest dedicated independent (\"pure-play\") semiconductor foundry, and Taiwan\\'s largest company, with headquarters and main operations located in the Hsinchu Science Park in Hsinchu, Taiwan. Although the central government of Taiwan is the largest individual shareholder, the majority of TSMC is owned by foreign investors. In 2023, the company was ranked 44th in the Forbes Global 2000. Taiwan\\'s exports of integrated circuits amounted to $184 billion in 2022, accounted for nearly 25 percent of Taiwan\\'s GDP. TSMC constitutes about 30 percent of the Taiwan Stock Exchange\\'s main index.\\nTSMC was founded in Taiwan in 1987 by Morris Chang as the world\\'s first dedicated semiconductor foundry. It has long been the leading company in its field. When Chang retired in 2018, after 31 years of TSMC leadership, Mark Liu became chairman and C. C. Wei became Chief Executive. It has been listed on the Taiwan Stock Exchange since 1993; in 1997 it became the first Taiwanese company to be listed on the New York Stock Exchange. Since 1994, TSMC has had a compound annual growth rate (CAGR) of 17.4% in revenue and a CAGR of 16.1% in earnings.\\nMost fabless semiconductor companies such as AMD, Apple, ARM, Broadcom, Marvell, MediaTek, Qualcomm, and Nvidia are customers of TSMC, as are emerging companies such as Allwinner Technology, HiSilicon, Spectra7, and UNISOC. Programmable logic device companies Xilinx and previously Altera also make or made use of TSMC\\'s foundry services. Some integrated device manufacturers that have their own fabrication facilities, such as Intel, NXP, STMicroelectronics, and Texas Instruments, outsource some of their production to TSMC. At least one semiconductor company, LSI, re-sells TSMC wafers through its ASIC design services and design IP portfolio.\\nTSMC has a global capacity of about thirteen million 300 mm-equivalent wafers per year as of 2020 and produces chips for customers with process nodes from 2 microns to 3 nanometres. TSMC was the first foundry to market 7-nanometre and 5-nanometre (used by the 2020 Apple A14 and M1 SoCs, the MediaTek Dimensity 8100, and AMD Ryzen 7000 series processors) production capabilities, and the first to commercialize ASML\\'s extreme ultraviolet (EUV) lithography technology in high volume.\\n\\n\\n== History ==\\nIn 1986, Li Kwoh-ting, representing the Executive Yuan, invited Morris Chang to serve as the president of the Industrial Technology Research Institute (ITRI) and offered him a blank check to build Taiwan\\'s chip industry. At that time, the Taiwanese government wanted to develop its semiconductor industry, but its high investment and high risk nature made it difficult to find investors. Texas Instruments and Intel turned down Chang. Only Philips was willing to sign a joint venture contract with Taiwan to put up $58 million, transfer its production technology, and license intellectual property in exchange for a 27.5 percent stake in TSMC. Alongside generous tax benefits, the Taiwanese government, through the National Development Fund, Executive Yuan, provided another 48 percent of the startup capital for TSMC, and the rest of the capital was raised from several of the island\\'s wealthiest families, who owned firms that specialized in plastics, textiles, and chemicals. These wealthy Taiwanese were directly \"asked\" by the government to invest. \"What generally happened was that one of the ministers in the government would call a businessman in Taiwan,\" Chang explained, \"to get him to invest.\" From day one, TSMC was not really a private business: it was a project of the Taiwanese state. Its first CEO was James E. Dykes, who left after a year and Morris Chang became the CEO.\\nSince then, the company has continued to grow, albeit subject to the cycles of demand. In 2011\\n</Document>']\n",
      "----------------------------------------------------------------------------------------------------\n"
     ]
    }
   ],
   "source": [
    "input = {\"question\": \"How were Nvidia's Q2 2024 earnings\"}\n",
    "thread = await client.threads.create()\n",
    "async for event in client.runs.stream(\n",
    "    thread[\"thread_id\"],\n",
    "    assistant_id = \"parallelization\",\n",
    "    input = input,\n",
    "    stream_mode=\"values\"\n",
    "):\n",
    "    answer = event.data.get(\"answer\", None)\n",
    "    question = event.data.get(\"question\", None)\n",
    "    context = event.data.get(\"context\", None)\n",
    "    if answer:  \n",
    "        print(f\"Answer: {answer['content']}\")\n",
    "    if question:\n",
    "        print(f\"Question: {question}\")\n",
    "    if context:\n",
    "        print(f\"Context: {context}\")\n",
    "    print(\"-\"*100)\n"
   ]
  }
 ],
 "metadata": {
  "kernelspec": {
   "display_name": "venv",
   "language": "python",
   "name": "python3"
  },
  "language_info": {
   "codemirror_mode": {
    "name": "ipython",
    "version": 3
   },
   "file_extension": ".py",
   "mimetype": "text/x-python",
   "name": "python",
   "nbconvert_exporter": "python",
   "pygments_lexer": "ipython3",
   "version": "3.12.7"
  }
 },
 "nbformat": 4,
 "nbformat_minor": 2
}
