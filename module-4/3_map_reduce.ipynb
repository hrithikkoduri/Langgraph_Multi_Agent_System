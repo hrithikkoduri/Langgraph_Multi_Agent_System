{
 "cells": [
  {
   "cell_type": "code",
   "execution_count": 1,
   "metadata": {},
   "outputs": [],
   "source": [
    "from dotenv import load_dotenv\n",
    "from langchain_openai import ChatOpenAI\n",
    "import os\n",
    "\n",
    "load_dotenv()\n",
    "def set_env_vars(var):\n",
    "    os.environ[var] = os.getenv(var)\n",
    "\n",
    "\n",
    "vars = [\"OPENAI_API_KEY\", \"LANGCHAIN_API_KEY\", \"LANGCHAIN_TRACING_V2\", \"LANGCHAIN_ENDPOINT\", \"LANGCHAIN_PROJECT\", \"TAVILY_API_KEY\"]\n",
    "\n",
    "for var in vars:\n",
    "    set_env_vars(var)\n",
    "\n",
    "llm = ChatOpenAI(model=\"gpt-4o-mini\")\n"
   ]
  },
  {
   "cell_type": "code",
   "execution_count": 32,
   "metadata": {},
   "outputs": [],
   "source": [
    "from pydantic import BaseModel\n",
    "from typing import List, Annotated, TypedDict\n",
    "from operator import add\n",
    "\n",
    "class OverallState(TypedDict):\n",
    "    topic: str\n",
    "    subjects: list\n",
    "    jokes: Annotated[list, add]\n",
    "    best_joke_selected: str"
   ]
  },
  {
   "cell_type": "code",
   "execution_count": 33,
   "metadata": {},
   "outputs": [],
   "source": [
    "class subjects(BaseModel):\n",
    "    subjects: List[str]\n",
    "\n",
    "def generate_subjects(state: OverallState):\n",
    "    \"\"\"\n",
    "    \n",
    "    Node to generate subjects for the topic given by the user\n",
    "    \n",
    "    \"\"\"\n",
    "    print(\"---------------GENERATE SUBJECTS NODE---------------\")\n",
    "    topic = state[\"topic\"]\n",
    "\n",
    "    subjects_prompt = f\"Generate 5 subjects for the topic: {topic}\"\n",
    "    formatted_subject_prompt = subjects_prompt.format(topic=topic)\n",
    "    \n",
    "    llm_strcutured_output = llm.with_structured_output(subjects)\n",
    "\n",
    "    response = llm_strcutured_output.invoke(formatted_subject_prompt)\n",
    "    \n",
    "    print(f\"Generated subjects: {response.subjects}\")\n",
    "\n",
    "    return {\"subjects\": response.subjects}\n"
   ]
  },
  {
   "cell_type": "markdown",
   "metadata": {},
   "source": [
    "## Map reduce - \n",
    "Spawn multiple generate joke nodes for each subject"
   ]
  },
  {
   "cell_type": "code",
   "execution_count": 42,
   "metadata": {},
   "outputs": [],
   "source": [
    "from langgraph.constants import Send\n",
    "\n",
    "\n",
    "def continue_to_jokes(state: OverallState):\n",
    "    \"\"\"\n",
    "    Spawn multiple generate joke nodes for each subject\n",
    "    \"\"\"\n",
    "    print(\"---------------CONTINUE TO JOKES NODE---------------\")\n",
    "    return [Send(\"generate_joke\", {\"subject\": subject}) for subject in state[\"subjects\"]]\n",
    "\n",
    "class GenerateJokeInput(BaseModel):\n",
    "    subject: str\n",
    "\n",
    "class GenerateJokeOutput(BaseModel):\n",
    "    joke: str\n",
    "\n",
    "\n",
    "def generate_joke(state: GenerateJokeInput) -> GenerateJokeOutput:\n",
    "    \"\"\"\n",
    "    Generate a joke for the subject\n",
    "    \"\"\"\n",
    "    print(\"---------------GENERATE JOKE NODE---------------\")\n",
    "    subject = state[\"subject\"]\n",
    "\n",
    "    joke_prompt = f\"Generate a joke about the subject: {subject}\"\n",
    "    formatted_joke_prompt = joke_prompt.format(subject=subject)\n",
    "\n",
    "    llm_strcutured_output = llm.with_structured_output(GenerateJokeOutput)\n",
    "\n",
    "    response = llm_strcutured_output.invoke(formatted_joke_prompt)\n",
    "\n",
    "    print(f\"Subject: {subject} \\n Generated joke: {response.joke}\")\n",
    "\n",
    "    return {\"jokes\": [response.joke]}\n"
   ]
  },
  {
   "cell_type": "code",
   "execution_count": 50,
   "metadata": {},
   "outputs": [],
   "source": [
    "class BestJoke(BaseModel):\n",
    "    id:int\n",
    "\n",
    "def best_joke(state: OverallState):\n",
    "    \"\"\"\n",
    "    Node to find the best joke\n",
    "    \"\"\"\n",
    "    print(\"---------------BEST JOKE NODE---------------\")\n",
    "    jokes = \"\\n\\n\".join(joke for joke in state[\"jokes\"])\n",
    "    \n",
    "    best_joke_prompt = f\"Find the best joke from the following jokes: {jokes}\"\n",
    "\n",
    "    llm_strcutured_output = llm.with_structured_output(BestJoke)\n",
    "\n",
    "    response = llm_strcutured_output.invoke(best_joke_prompt)\n",
    "\n",
    "    print(f\"Jokes: {jokes} \\n Best joke: {state['jokes'][response.id]}\")\n",
    "\n",
    "    return {\"best_joke_selected\": state[\"jokes\"][response.id]}"
   ]
  },
  {
   "cell_type": "code",
   "execution_count": 53,
   "metadata": {},
   "outputs": [
    {
     "data": {
      "image/png": "[encoded data removed]",
      "text/plain": [
       "<IPython.core.display.Image object>"
      ]
     },
     "metadata": {},
     "output_type": "display_data"
    }
   ],
   "source": [
    "from IPython.display import display, Image\n",
    "from langgraph.graph import StateGraph, START, END\n",
    "\n",
    "\n",
    "builder = StateGraph(OverallState)\n",
    "\n",
    "builder.add_node(\"generate_subjects\", generate_subjects)\n",
    "builder.add_node(\"generate_joke\", generate_joke)\n",
    "builder.add_node(\"best_joke\", best_joke)\n",
    "\n",
    "builder.add_edge(START, \"generate_subjects\")\n",
    "builder.add_conditional_edges(\"generate_subjects\", continue_to_jokes, [\"generate_joke\"])\n",
    "builder.add_edge(\"generate_joke\", \"best_joke\")\n",
    "builder.add_edge(\"best_joke\", END)\n",
    "\n",
    "builder.compile()\n",
    "\n",
    "graph = builder.compile()\n",
    "\n",
    "display(Image(graph.get_graph(xray=1).draw_mermaid_png()))"
   ]
  },
  {
   "cell_type": "code",
   "execution_count": 52,
   "metadata": {},
   "outputs": [
    {
     "name": "stdout",
     "output_type": "stream",
     "text": [
      "---------------GENERATE SUBJECTS NODE---------------\n",
      "Generated subjects: ['Machine Learning', 'Natural Language Processing', 'Computer Vision', 'Ethics in AI', 'AI in Healthcare']\n",
      "---------------CONTINUE TO JOKES NODE---------------\n",
      "{'generate_subjects': {'subjects': ['Machine Learning', 'Natural Language Processing', 'Computer Vision', 'Ethics in AI', 'AI in Healthcare']}}\n",
      "---------------GENERATE JOKE NODE---------------\n",
      "---------------GENERATE JOKE NODE---------------\n",
      "---------------GENERATE JOKE NODE---------------\n",
      "---------------GENERATE JOKE NODE---------------\n",
      "---------------GENERATE JOKE NODE---------------\n",
      "Subject: Natural Language Processing \n",
      " Generated joke: Why did the natural language processing model break up with its girlfriend? Because it couldn't parse her emotions!\n",
      "{'generate_joke': {'jokes': [\"Why did the natural language processing model break up with its girlfriend? Because it couldn't parse her emotions!\"]}}\n",
      "Subject: Ethics in AI \n",
      " Generated joke: Why did the AI cross the road? \n",
      "To ensure it ethically considered both sides!\n",
      "{'generate_joke': {'jokes': ['Why did the AI cross the road? \\nTo ensure it ethically considered both sides!']}}\n",
      "Subject: Machine Learning \n",
      " Generated joke: Why did the machine learning model break up with its dataset? \n",
      "\n",
      "Because it found too many outliers!\n",
      "{'generate_joke': {'jokes': ['Why did the machine learning model break up with its dataset? \\n\\nBecause it found too many outliers!']}}\n",
      "Subject: AI in Healthcare \n",
      " Generated joke: Why did the AI go to medical school? Because it wanted to improve its \"diagnostic\" skills!\n",
      "{'generate_joke': {'jokes': ['Why did the AI go to medical school? Because it wanted to improve its \"diagnostic\" skills!']}}\n",
      "Subject: Computer Vision \n",
      " Generated joke: Why did the computer vision algorithm break up with its partner? \n",
      "\n",
      "Because it just couldn't see the future together!\n",
      "{'generate_joke': {'jokes': [\"Why did the computer vision algorithm break up with its partner? \\n\\nBecause it just couldn't see the future together!\"]}}\n",
      "---------------BEST JOKE NODE---------------\n",
      "Jokes: Why did the machine learning model break up with its dataset? \n",
      "\n",
      "Because it found too many outliers!\n",
      "\n",
      "Why did the natural language processing model break up with its girlfriend? Because it couldn't parse her emotions!\n",
      "\n",
      "Why did the computer vision algorithm break up with its partner? \n",
      "\n",
      "Because it just couldn't see the future together!\n",
      "\n",
      "Why did the AI cross the road? \n",
      "To ensure it ethically considered both sides!\n",
      "\n",
      "Why did the AI go to medical school? Because it wanted to improve its \"diagnostic\" skills! \n",
      " Best joke: Why did the natural language processing model break up with its girlfriend? Because it couldn't parse her emotions!\n",
      "{'best_joke': {'best_joke_selected': \"Why did the natural language processing model break up with its girlfriend? Because it couldn't parse her emotions!\"}}\n"
     ]
    }
   ],
   "source": [
    "for event in graph.stream({\"topic\": \"AI\"}):\n",
    "    print(event)"
   ]
  }
 ],
 "metadata": {
  "kernelspec": {
   "display_name": "venv",
   "language": "python",
   "name": "python3"
  },
  "language_info": {
   "codemirror_mode": {
    "name": "ipython",
    "version": 3
   },
   "file_extension": ".py",
   "mimetype": "text/x-python",
   "name": "python",
   "nbconvert_exporter": "python",
   "pygments_lexer": "ipython3",
   "version": "3.12.7"
  }
 },
 "nbformat": 4,
 "nbformat_minor": 2
}
