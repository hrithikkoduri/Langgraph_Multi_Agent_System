{
 "cells": [
  {
   "cell_type": "code",
   "execution_count": 1,
   "metadata": {},
   "outputs": [],
   "source": [
    "from dotenv import load_dotenv\n",
    "from langchain_openai import ChatOpenAI\n",
    "import os\n",
    "\n",
    "load_dotenv()\n",
    "def set_env_vars(var):\n",
    "    os.environ[var] = os.getenv(var)\n",
    "\n",
    "\n",
    "vars = [\"OPENAI_API_KEY\", \"LANGCHAIN_API_KEY\", \"LANGCHAIN_TRACING_V2\", \"LANGCHAIN_ENDPOINT\", \"LANGCHAIN_PROJECT\", \"TAVILY_API_KEY\"]\n",
    "\n",
    "for var in vars:\n",
    "    set_env_vars(var)\n",
    "\n",
    "llm = ChatOpenAI(model=\"gpt-4o-mini\")\n"
   ]
  },
  {
   "cell_type": "code",
   "execution_count": 3,
   "metadata": {},
   "outputs": [],
   "source": [
    "import uuid \n",
    "from langgraph.store.memory import InMemoryStore\n",
    "in_memory_store = InMemoryStore()"
   ]
  },
  {
   "cell_type": "code",
   "execution_count": 4,
   "metadata": {},
   "outputs": [],
   "source": [
    "#Namespace \n",
    "user_id = \"1\"\n",
    "namespace_for_memory = (user_id, \"memories\")\n",
    "\n",
    "#key\n",
    "key = str(uuid.uuid4())\n",
    "\n",
    "#value\n",
    "value = {'food_preferences': 'I like pizza'}\n",
    "\n",
    "#set the value\n",
    "in_memory_store.put(namespace_for_memory, key, value)\n"
   ]
  },
  {
   "cell_type": "markdown",
   "metadata": {},
   "source": []
  },
  {
   "cell_type": "code",
   "execution_count": 5,
   "metadata": {},
   "outputs": [
    {
     "data": {
      "text/plain": [
       "list"
      ]
     },
     "execution_count": 5,
     "metadata": {},
     "output_type": "execute_result"
    }
   ],
   "source": [
    "memories = in_memory_store.search(namespace_for_memory)\n",
    "type(memories)"
   ]
  },
  {
   "cell_type": "code",
   "execution_count": 12,
   "metadata": {},
   "outputs": [
    {
     "data": {
      "text/plain": [
       "{'namespace': ['1', 'memories'],\n",
       " 'key': 'b2789a42-ee6c-4b3e-8c66-58e17e24e656',\n",
       " 'value': {'food_preferences': 'I like pizza'},\n",
       " 'created_at': '2025-01-06T20:30:06.108600+00:00',\n",
       " 'updated_at': '2025-01-06T20:30:06.108603+00:00',\n",
       " 'score': None}"
      ]
     },
     "execution_count": 12,
     "metadata": {},
     "output_type": "execute_result"
    }
   ],
   "source": [
    "memories[0].dict()"
   ]
  },
  {
   "cell_type": "code",
   "execution_count": 13,
   "metadata": {},
   "outputs": [
    {
     "name": "stdout",
     "output_type": "stream",
     "text": [
      "b2789a42-ee6c-4b3e-8c66-58e17e24e656\n",
      "{'food_preferences': 'I like pizza'}\n"
     ]
    }
   ],
   "source": [
    "print(memories[0].key)\n",
    "print(memories[0].value)\n",
    "\n"
   ]
  },
  {
   "cell_type": "code",
   "execution_count": 21,
   "metadata": {},
   "outputs": [
    {
     "data": {
      "text/plain": [
       "Item(namespace=['1', 'memories'], key='b2789a42-ee6c-4b3e-8c66-58e17e24e656', value={'food_preferences': 'I like pizza'}, created_at='2025-01-06T20:30:06.108600+00:00', updated_at='2025-01-06T20:30:06.108603+00:00')"
      ]
     },
     "execution_count": 21,
     "metadata": {},
     "output_type": "execute_result"
    }
   ],
   "source": [
    "#Get memory by namespace key\n",
    "\n",
    "memory = in_memory_store.get(namespace_for_memory, key)\n",
    "\n",
    "memory\n",
    "\n"
   ]
  },
  {
   "cell_type": "code",
   "execution_count": 39,
   "metadata": {},
   "outputs": [],
   "source": [
    "from IPython.display import Image, display\n",
    "\n",
    "from langgraph.graph import START, END, StateGraph, MessagesState\n",
    "from langgraph.checkpoint.memory import MemorySaver\n",
    "from langgraph.store.memory import InMemoryStore\n",
    "from langgraph.store.base import BaseStore\n",
    "from langchain_core.messages import HumanMessage, SystemMessage\n",
    "from langchain_core.runnables import RunnableConfig\n",
    "\n",
    "class MemoryChatState(MessagesState):\n",
    "    \"\"\" Add a new field to the state to store the memory.\"\"\"\n",
    "    memory: str = \"\"\n",
    "\n",
    "def call_model(state: MemoryChatState, config: RunnableConfig, store:BaseStore):\n",
    "    \"\"\" Load memory from the store and use it to personalize the chatbot's response.\"\"\"\n",
    "\n",
    "    print(\"-------CALL MODEL NODE------\")\n",
    "\n",
    "    user_id = config[\"configurable\"][\"user_id\"]\n",
    "    namespace = (user_id, \"memory\")\n",
    "    key = \"user_memory\"\n",
    "    existing_memory = store.get(namespace, key)\n",
    "\n",
    "    if existing_memory:\n",
    "        existing_memory_content = existing_memory.value.get('memory')\n",
    "    else:\n",
    "        existing_memory_content = \"No existing memory found.\"\n",
    "\n",
    "    print(f\"Existing memory: {existing_memory_content}\")\n",
    "\n",
    "    MODEL_SYSTEM_MESSAGE = \"\"\"\n",
    "    You are an helpful assistant with memory thta provides information about the user.\n",
    "    If you have memory for this user, use it to personalize your response.\n",
    "    Here is the memory (it may be empty): {memory}\n",
    "    \"\"\"\n",
    "\n",
    "    system_message = MODEL_SYSTEM_MESSAGE.format(memory=existing_memory_content)\n",
    "    state[\"memory\"] = existing_memory_content\n",
    "\n",
    "    response = llm.invoke([SystemMessage(content=system_message)] +  state[\"messages\"])\n",
    "    print(f\"Response: {response}\")\n",
    "    print(\"--------------------------------\")\n",
    "    print(f\"State: {state}\")\n",
    "    print(\"-------END CALL MODEL NODE------\")\n",
    "    return {\"messages\": [response]}\n",
    "\n",
    "\n",
    "def write_memory(state: MessagesState, config: RunnableConfig, store: BaseStore):\n",
    "    \"\"\" Relfect on the chat history and save it to the memory store.\"\"\"\n",
    "\n",
    "    print(\"-------WRITE MEMORY NODE------\")\n",
    "\n",
    "    user_id = config[\"configurable\"][\"user_id\"]\n",
    "    name_space = (user_id, \"memory\")\n",
    "    key = \"user_memory\"\n",
    "\n",
    "    existing_memory = store.get(name_space, key)\n",
    "\n",
    "    if existing_memory:\n",
    "        existing_memory_content = existing_memory.value.get('memory')\n",
    "    else:\n",
    "        existing_memory_content = \"No existing memory found.\"\n",
    "\n",
    "    CREATE_MEMORY_INSTRUCTION = \"\"\"\n",
    "    You are colecting information about the user to personalize your responses.\n",
    "\n",
    "    CURRENT USER INFORMATION:\n",
    "    {memory}\n",
    "\n",
    "    INSTRUCTIONS:\n",
    "    1. Review the chat history below carefully.\n",
    "    2 Identify new information about the user such as:\n",
    "        - Personal details (name, age, location, etc)\n",
    "        - Preferences(likes, dislikes, etc)\n",
    "        - Hobbies and interests\n",
    "        - Past experiences\n",
    "        - Goald or future plans\n",
    "    3. Merge any new information with existing memory.\n",
    "    4. Format the memory as a clear bullet list.\n",
    "    5. If new information conflicts with existing memory, keep the most recent version.\n",
    "\n",
    "\n",
    "    Remeber: Only include factual information directly stated by the user. Do not make any assumptions or inferences.\n",
    "\n",
    "    Based on the chat history below, please update the user information:\n",
    "    \"\"\"\n",
    "\n",
    "    system_message = CREATE_MEMORY_INSTRUCTION.format(memory=existing_memory_content)\n",
    "\n",
    "    new_memory = llm.invoke([SystemMessage(content=system_message)] + state[\"messages\"])\n",
    "\n",
    "    store.put(name_space, key, {'memory': new_memory.content})\n",
    "\n",
    "    print(f\"New memory: {new_memory.content}\")\n",
    "    print(\"--------------------------------\")\n",
    "    print(f\"State: {state}\")\n",
    "    print(\"-------END WRITE MEMORY NODE------\")\n",
    "\n",
    "    return {\"memory\": [new_memory]}\n",
    "\n"
   ]
  },
  {
   "cell_type": "code",
   "execution_count": 40,
   "metadata": {},
   "outputs": [
    {
     "data": {
      "image/png": "[encoded data removed]",
      "text/plain": [
       "<IPython.core.display.Image object>"
      ]
     },
     "metadata": {},
     "output_type": "display_data"
    }
   ],
   "source": [
    "builder = StateGraph(MemoryChatState)\n",
    "\n",
    "builder.add_node(\"call_model\", call_model)\n",
    "builder.add_node(\"write_memory\", write_memory)\n",
    "\n",
    "builder.add_edge(START, \"call_model\")\n",
    "builder.add_edge(\"call_model\", \"write_memory\")\n",
    "builder.add_edge(\"write_memory\", END)\n",
    "\n",
    "within_thread_memory = MemorySaver()\n",
    "across_thread_memory = InMemoryStore()\n",
    "\n",
    "graph = builder.compile(checkpointer = within_thread_memory, store = across_thread_memory)\n",
    "\n",
    "display(Image(graph.get_graph(xray=1).draw_mermaid_png()))"
   ]
  },
  {
   "cell_type": "code",
   "execution_count": 41,
   "metadata": {},
   "outputs": [
    {
     "name": "stdout",
     "output_type": "stream",
     "text": [
      "================================\u001b[1m Human Message \u001b[0m=================================\n",
      "\n",
      "Hi, my name is Hithik\n",
      "-------CALL MODEL NODE------\n",
      "Existing memory: No existing memory found.\n",
      "Response: content=\"Hi Hithik! It's nice to meet you. How can I assist you today?\" additional_kwargs={'refusal': None} response_metadata={'token_usage': {'completion_tokens': 19, 'prompt_tokens': 69, 'total_tokens': 88, 'completion_tokens_details': {'accepted_prediction_tokens': 0, 'audio_tokens': 0, 'reasoning_tokens': 0, 'rejected_prediction_tokens': 0}, 'prompt_tokens_details': {'audio_tokens': 0, 'cached_tokens': 0}}, 'model_name': 'gpt-4o-mini-2024-07-18', 'system_fingerprint': 'fp_d02d531b47', 'finish_reason': 'stop', 'logprobs': None} id='run-fce247e8-12de-4d8c-9fca-e5afe2955f2d-0' usage_metadata={'input_tokens': 69, 'output_tokens': 19, 'total_tokens': 88, 'input_token_details': {'audio': 0, 'cache_read': 0}, 'output_token_details': {'audio': 0, 'reasoning': 0}}\n",
      "--------------------------------\n",
      "State: {'messages': [HumanMessage(content='Hi, my name is Hithik', additional_kwargs={}, response_metadata={}, id='880ac060-1931-4e82-a24b-f8ffd3d69112')], 'memory': 'No existing memory found.'}\n",
      "-------END CALL MODEL NODE------\n",
      "==================================\u001b[1m Ai Message \u001b[0m==================================\n",
      "\n",
      "Hi Hithik! It's nice to meet you. How can I assist you today?\n",
      "-------WRITE MEMORY NODE------\n",
      "New memory: **User Information:**\n",
      "- Name: Hithik\n",
      "--------------------------------\n",
      "State: {'messages': [HumanMessage(content='Hi, my name is Hithik', additional_kwargs={}, response_metadata={}, id='880ac060-1931-4e82-a24b-f8ffd3d69112'), AIMessage(content=\"Hi Hithik! It's nice to meet you. How can I assist you today?\", additional_kwargs={'refusal': None}, response_metadata={'token_usage': {'completion_tokens': 19, 'prompt_tokens': 69, 'total_tokens': 88, 'completion_tokens_details': {'accepted_prediction_tokens': 0, 'audio_tokens': 0, 'reasoning_tokens': 0, 'rejected_prediction_tokens': 0}, 'prompt_tokens_details': {'audio_tokens': 0, 'cached_tokens': 0}}, 'model_name': 'gpt-4o-mini-2024-07-18', 'system_fingerprint': 'fp_d02d531b47', 'finish_reason': 'stop', 'logprobs': None}, id='run-fce247e8-12de-4d8c-9fca-e5afe2955f2d-0', usage_metadata={'input_tokens': 69, 'output_tokens': 19, 'total_tokens': 88, 'input_token_details': {'audio': 0, 'cache_read': 0}, 'output_token_details': {'audio': 0, 'reasoning': 0}})]}\n",
      "-------END WRITE MEMORY NODE------\n",
      "==================================\u001b[1m Ai Message \u001b[0m==================================\n",
      "\n",
      "Hi Hithik! It's nice to meet you. How can I assist you today?\n"
     ]
    }
   ],
   "source": [
    "config = {\"configurable\": {\"thread_id\": \"1\", \"user_id\": \"1\"}}\n",
    "\n",
    "# User input \n",
    "input_messages = [HumanMessage(content=\"Hi, my name is Hithik\")]\n",
    "\n",
    "# Run the graph\n",
    "for chunk in graph.stream({\"messages\": input_messages}, config, stream_mode=\"values\"):\n",
    "    chunk[\"messages\"][-1].pretty_print()"
   ]
  },
  {
   "cell_type": "code",
   "execution_count": 44,
   "metadata": {},
   "outputs": [
    {
     "name": "stdout",
     "output_type": "stream",
     "text": [
      "================================\u001b[1m Human Message \u001b[0m=================================\n",
      "\n",
      "I like to play bike around in San Francisco\n",
      "-------CALL MODEL NODE------\n",
      "Existing memory: **User Information:**\n",
      "- Name: Hithik\n",
      "Response: content='That sounds like a lot of fun, Hithik! San Francisco has some great spots for biking. Do you have any favorite routes or places you like to ride?' additional_kwargs={'refusal': None} response_metadata={'token_usage': {'completion_tokens': 35, 'prompt_tokens': 111, 'total_tokens': 146, 'completion_tokens_details': {'accepted_prediction_tokens': 0, 'audio_tokens': 0, 'reasoning_tokens': 0, 'rejected_prediction_tokens': 0}, 'prompt_tokens_details': {'audio_tokens': 0, 'cached_tokens': 0}}, 'model_name': 'gpt-4o-mini-2024-07-18', 'system_fingerprint': 'fp_0aa8d3e20b', 'finish_reason': 'stop', 'logprobs': None} id='run-dc4acfba-b53b-47f6-9023-9435c0710f18-0' usage_metadata={'input_tokens': 111, 'output_tokens': 35, 'total_tokens': 146, 'input_token_details': {'audio': 0, 'cache_read': 0}, 'output_token_details': {'audio': 0, 'reasoning': 0}}\n",
      "--------------------------------\n",
      "State: {'messages': [HumanMessage(content='Hi, my name is Hithik', additional_kwargs={}, response_metadata={}, id='880ac060-1931-4e82-a24b-f8ffd3d69112'), AIMessage(content=\"Hi Hithik! It's nice to meet you. How can I assist you today?\", additional_kwargs={'refusal': None}, response_metadata={'token_usage': {'completion_tokens': 19, 'prompt_tokens': 69, 'total_tokens': 88, 'completion_tokens_details': {'accepted_prediction_tokens': 0, 'audio_tokens': 0, 'reasoning_tokens': 0, 'rejected_prediction_tokens': 0}, 'prompt_tokens_details': {'audio_tokens': 0, 'cached_tokens': 0}}, 'model_name': 'gpt-4o-mini-2024-07-18', 'system_fingerprint': 'fp_d02d531b47', 'finish_reason': 'stop', 'logprobs': None}, id='run-fce247e8-12de-4d8c-9fca-e5afe2955f2d-0', usage_metadata={'input_tokens': 69, 'output_tokens': 19, 'total_tokens': 88, 'input_token_details': {'audio': 0, 'cache_read': 0}, 'output_token_details': {'audio': 0, 'reasoning': 0}}), HumanMessage(content='I like to play bike around in San Francisco', additional_kwargs={}, response_metadata={}, id='a3312aad-5cfb-4dd8-97ce-0234a6e65f3d')], 'memory': '**User Information:**\\n- Name: Hithik'}\n",
      "-------END CALL MODEL NODE------\n",
      "==================================\u001b[1m Ai Message \u001b[0m==================================\n",
      "\n",
      "That sounds like a lot of fun, Hithik! San Francisco has some great spots for biking. Do you have any favorite routes or places you like to ride?\n",
      "-------WRITE MEMORY NODE------\n",
      "New memory: **User Information:**\n",
      "- Name: Hithik\n",
      "- Likes: Playing bike around in San Francisco\n",
      "\n",
      "--------------------------------\n",
      "State: {'messages': [HumanMessage(content='Hi, my name is Hithik', additional_kwargs={}, response_metadata={}, id='880ac060-1931-4e82-a24b-f8ffd3d69112'), AIMessage(content=\"Hi Hithik! It's nice to meet you. How can I assist you today?\", additional_kwargs={'refusal': None}, response_metadata={'token_usage': {'completion_tokens': 19, 'prompt_tokens': 69, 'total_tokens': 88, 'completion_tokens_details': {'accepted_prediction_tokens': 0, 'audio_tokens': 0, 'reasoning_tokens': 0, 'rejected_prediction_tokens': 0}, 'prompt_tokens_details': {'audio_tokens': 0, 'cached_tokens': 0}}, 'model_name': 'gpt-4o-mini-2024-07-18', 'system_fingerprint': 'fp_d02d531b47', 'finish_reason': 'stop', 'logprobs': None}, id='run-fce247e8-12de-4d8c-9fca-e5afe2955f2d-0', usage_metadata={'input_tokens': 69, 'output_tokens': 19, 'total_tokens': 88, 'input_token_details': {'audio': 0, 'cache_read': 0}, 'output_token_details': {'audio': 0, 'reasoning': 0}}), HumanMessage(content='I like to play bike around in San Francisco', additional_kwargs={}, response_metadata={}, id='a3312aad-5cfb-4dd8-97ce-0234a6e65f3d'), AIMessage(content='That sounds like a lot of fun, Hithik! San Francisco has some great spots for biking. Do you have any favorite routes or places you like to ride?', additional_kwargs={'refusal': None}, response_metadata={'token_usage': {'completion_tokens': 35, 'prompt_tokens': 111, 'total_tokens': 146, 'completion_tokens_details': {'accepted_prediction_tokens': 0, 'audio_tokens': 0, 'reasoning_tokens': 0, 'rejected_prediction_tokens': 0}, 'prompt_tokens_details': {'audio_tokens': 0, 'cached_tokens': 0}}, 'model_name': 'gpt-4o-mini-2024-07-18', 'system_fingerprint': 'fp_0aa8d3e20b', 'finish_reason': 'stop', 'logprobs': None}, id='run-dc4acfba-b53b-47f6-9023-9435c0710f18-0', usage_metadata={'input_tokens': 111, 'output_tokens': 35, 'total_tokens': 146, 'input_token_details': {'audio': 0, 'cache_read': 0}, 'output_token_details': {'audio': 0, 'reasoning': 0}})]}\n",
      "-------END WRITE MEMORY NODE------\n",
      "==================================\u001b[1m Ai Message \u001b[0m==================================\n",
      "\n",
      "That sounds like a lot of fun, Hithik! San Francisco has some great spots for biking. Do you have any favorite routes or places you like to ride?\n"
     ]
    }
   ],
   "source": [
    "input_messages = [HumanMessage(content=\"I like to play bike around in San Francisco\")]\n",
    "\n",
    "for chunk in graph.stream({\"messages\": input_messages}, config, stream_mode=\"values\"):\n",
    "    chunk[\"messages\"][-1].pretty_print()"
   ]
  },
  {
   "cell_type": "code",
   "execution_count": 45,
   "metadata": {},
   "outputs": [
    {
     "data": {
      "text/plain": [
       "{'namespace': ['1', 'memory'],\n",
       " 'key': 'user_memory',\n",
       " 'value': {'memory': '**User Information:**\\n- Name: Hithik\\n- Likes: Playing bike around in San Francisco\\n'},\n",
       " 'created_at': '2025-01-07T01:23:59.483379+00:00',\n",
       " 'updated_at': '2025-01-07T01:23:59.483380+00:00'}"
      ]
     },
     "execution_count": 45,
     "metadata": {},
     "output_type": "execute_result"
    }
   ],
   "source": [
    "user_id = \"1\"\n",
    "namespace = (user_id, \"memory\")\n",
    "key = \"user_memory\"\n",
    "\n",
    "memory = across_thread_memory.get(namespace, key)\n",
    "memory.dict()\n",
    "\n"
   ]
  },
  {
   "cell_type": "code",
   "execution_count": 46,
   "metadata": {},
   "outputs": [
    {
     "name": "stdout",
     "output_type": "stream",
     "text": [
      "================================\u001b[1m Human Message \u001b[0m=================================\n",
      "\n",
      "Hey! Where do you recommend I go for biking?\n",
      "-------CALL MODEL NODE------\n",
      "Existing memory: **User Information:**\n",
      "- Name: Hithik\n",
      "- Likes: Playing bike around in San Francisco\n",
      "\n",
      "Response: content=\"Hey Hithik! Since you enjoy biking around San Francisco, I recommend checking out the Golden Gate Park. It has some beautiful trails and scenic views. Another great spot is the Embarcadero, where you can bike along the waterfront and enjoy views of the bay. If you're up for a challenge, consider riding over the Golden Gate Bridge to Marin Headlands for stunning vistas. Enjoy your ride!\" additional_kwargs={'refusal': None} response_metadata={'token_usage': {'completion_tokens': 82, 'prompt_tokens': 89, 'total_tokens': 171, 'completion_tokens_details': {'accepted_prediction_tokens': 0, 'audio_tokens': 0, 'reasoning_tokens': 0, 'rejected_prediction_tokens': 0}, 'prompt_tokens_details': {'audio_tokens': 0, 'cached_tokens': 0}}, 'model_name': 'gpt-4o-mini-2024-07-18', 'system_fingerprint': 'fp_d02d531b47', 'finish_reason': 'stop', 'logprobs': None} id='run-e008b737-cb26-42ea-a89b-de422d0286ad-0' usage_metadata={'input_tokens': 89, 'output_tokens': 82, 'total_tokens': 171, 'input_token_details': {'audio': 0, 'cache_read': 0}, 'output_token_details': {'audio': 0, 'reasoning': 0}}\n",
      "--------------------------------\n",
      "State: {'messages': [HumanMessage(content='Hey! Where do you recommend I go for biking?', additional_kwargs={}, response_metadata={}, id='25b0f83f-e696-475e-8dd0-a9d1cfc6f0fa')], 'memory': '**User Information:**\\n- Name: Hithik\\n- Likes: Playing bike around in San Francisco\\n'}\n",
      "-------END CALL MODEL NODE------\n",
      "==================================\u001b[1m Ai Message \u001b[0m==================================\n",
      "\n",
      "Hey Hithik! Since you enjoy biking around San Francisco, I recommend checking out the Golden Gate Park. It has some beautiful trails and scenic views. Another great spot is the Embarcadero, where you can bike along the waterfront and enjoy views of the bay. If you're up for a challenge, consider riding over the Golden Gate Bridge to Marin Headlands for stunning vistas. Enjoy your ride!\n",
      "-------WRITE MEMORY NODE------\n",
      "New memory: **User Information:**\n",
      "- Name: Hithik\n",
      "- Likes: Playing bike around in San Francisco\n",
      "- Hobbies and interests: Biking, exploring scenic locations\n",
      "--------------------------------\n",
      "State: {'messages': [HumanMessage(content='Hey! Where do you recommend I go for biking?', additional_kwargs={}, response_metadata={}, id='25b0f83f-e696-475e-8dd0-a9d1cfc6f0fa'), AIMessage(content=\"Hey Hithik! Since you enjoy biking around San Francisco, I recommend checking out the Golden Gate Park. It has some beautiful trails and scenic views. Another great spot is the Embarcadero, where you can bike along the waterfront and enjoy views of the bay. If you're up for a challenge, consider riding over the Golden Gate Bridge to Marin Headlands for stunning vistas. Enjoy your ride!\", additional_kwargs={'refusal': None}, response_metadata={'token_usage': {'completion_tokens': 82, 'prompt_tokens': 89, 'total_tokens': 171, 'completion_tokens_details': {'accepted_prediction_tokens': 0, 'audio_tokens': 0, 'reasoning_tokens': 0, 'rejected_prediction_tokens': 0}, 'prompt_tokens_details': {'audio_tokens': 0, 'cached_tokens': 0}}, 'model_name': 'gpt-4o-mini-2024-07-18', 'system_fingerprint': 'fp_d02d531b47', 'finish_reason': 'stop', 'logprobs': None}, id='run-e008b737-cb26-42ea-a89b-de422d0286ad-0', usage_metadata={'input_tokens': 89, 'output_tokens': 82, 'total_tokens': 171, 'input_token_details': {'audio': 0, 'cache_read': 0}, 'output_token_details': {'audio': 0, 'reasoning': 0}})]}\n",
      "-------END WRITE MEMORY NODE------\n",
      "==================================\u001b[1m Ai Message \u001b[0m==================================\n",
      "\n",
      "Hey Hithik! Since you enjoy biking around San Francisco, I recommend checking out the Golden Gate Park. It has some beautiful trails and scenic views. Another great spot is the Embarcadero, where you can bike along the waterfront and enjoy views of the bay. If you're up for a challenge, consider riding over the Golden Gate Bridge to Marin Headlands for stunning vistas. Enjoy your ride!\n"
     ]
    }
   ],
   "source": [
    "config = {\"configurable\": {\"thread_id\": \"2\", \"user_id\": \"1\"}}\n",
    "\n",
    "input_messages = [HumanMessage(content=\"Hey! Where do you recommend I go for biking?\")]\n",
    "\n",
    "for chunk in graph.stream({\"messages\": input_messages}, config, stream_mode=\"values\"):\n",
    "    chunk[\"messages\"][-1].pretty_print()"
   ]
  },
  {
   "cell_type": "code",
   "execution_count": 47,
   "metadata": {},
   "outputs": [
    {
     "name": "stdout",
     "output_type": "stream",
     "text": [
      "================================\u001b[1m Human Message \u001b[0m=================================\n",
      "\n",
      "Great! are there any bakeries around that I can check out? I like croissants after biking.\n",
      "-------CALL MODEL NODE------\n",
      "Existing memory: **User Information:**\n",
      "- Name: Hithik\n",
      "- Likes: Playing bike around in San Francisco\n",
      "- Hobbies and interests: Biking, exploring scenic locations\n",
      "Response: content='Absolutely! After your biking adventures, you can treat yourself to some delicious croissants at a few great bakeries in San Francisco:\\n\\n1. **Tartine Bakery** - Famous for its flaky pastries, Tartine offers some of the best croissants in the city. It’s a perfect spot to relax after a bike ride.\\n\\n2. **B Patisserie** - Known for its incredible French pastries, their croissants are a must-try.\\n\\n3. **Mr. Holmes Bakehouse** - They have a wonderful selection of pastries, including croissants, and the atmosphere is fun and vibrant.\\n\\n4. **La Boulangerie de San Francisco** - A local favorite for classic French pastries, their croissants are both buttery and delicious.\\n\\nThese spots are perfect for refueling after a day of biking! Enjoy your treats!' additional_kwargs={'refusal': None} response_metadata={'token_usage': {'completion_tokens': 169, 'prompt_tokens': 212, 'total_tokens': 381, 'completion_tokens_details': {'accepted_prediction_tokens': 0, 'audio_tokens': 0, 'reasoning_tokens': 0, 'rejected_prediction_tokens': 0}, 'prompt_tokens_details': {'audio_tokens': 0, 'cached_tokens': 0}}, 'model_name': 'gpt-4o-mini-2024-07-18', 'system_fingerprint': 'fp_0aa8d3e20b', 'finish_reason': 'stop', 'logprobs': None} id='run-38dc494b-5a21-4774-af6a-d3c1f0a5f5f4-0' usage_metadata={'input_tokens': 212, 'output_tokens': 169, 'total_tokens': 381, 'input_token_details': {'audio': 0, 'cache_read': 0}, 'output_token_details': {'audio': 0, 'reasoning': 0}}\n",
      "--------------------------------\n",
      "State: {'messages': [HumanMessage(content='Hey! Where do you recommend I go for biking?', additional_kwargs={}, response_metadata={}, id='25b0f83f-e696-475e-8dd0-a9d1cfc6f0fa'), AIMessage(content=\"Hey Hithik! Since you enjoy biking around San Francisco, I recommend checking out the Golden Gate Park. It has some beautiful trails and scenic views. Another great spot is the Embarcadero, where you can bike along the waterfront and enjoy views of the bay. If you're up for a challenge, consider riding over the Golden Gate Bridge to Marin Headlands for stunning vistas. Enjoy your ride!\", additional_kwargs={'refusal': None}, response_metadata={'token_usage': {'completion_tokens': 82, 'prompt_tokens': 89, 'total_tokens': 171, 'completion_tokens_details': {'accepted_prediction_tokens': 0, 'audio_tokens': 0, 'reasoning_tokens': 0, 'rejected_prediction_tokens': 0}, 'prompt_tokens_details': {'audio_tokens': 0, 'cached_tokens': 0}}, 'model_name': 'gpt-4o-mini-2024-07-18', 'system_fingerprint': 'fp_d02d531b47', 'finish_reason': 'stop', 'logprobs': None}, id='run-e008b737-cb26-42ea-a89b-de422d0286ad-0', usage_metadata={'input_tokens': 89, 'output_tokens': 82, 'total_tokens': 171, 'input_token_details': {'audio': 0, 'cache_read': 0}, 'output_token_details': {'audio': 0, 'reasoning': 0}}), HumanMessage(content='Great! are there any bakeries around that I can check out? I like croissants after biking.', additional_kwargs={}, response_metadata={}, id='f5c1666c-779b-4109-a655-da9bf1b651b2')], 'memory': '**User Information:**\\n- Name: Hithik\\n- Likes: Playing bike around in San Francisco\\n- Hobbies and interests: Biking, exploring scenic locations'}\n",
      "-------END CALL MODEL NODE------\n",
      "==================================\u001b[1m Ai Message \u001b[0m==================================\n",
      "\n",
      "Absolutely! After your biking adventures, you can treat yourself to some delicious croissants at a few great bakeries in San Francisco:\n",
      "\n",
      "1. **Tartine Bakery** - Famous for its flaky pastries, Tartine offers some of the best croissants in the city. It’s a perfect spot to relax after a bike ride.\n",
      "\n",
      "2. **B Patisserie** - Known for its incredible French pastries, their croissants are a must-try.\n",
      "\n",
      "3. **Mr. Holmes Bakehouse** - They have a wonderful selection of pastries, including croissants, and the atmosphere is fun and vibrant.\n",
      "\n",
      "4. **La Boulangerie de San Francisco** - A local favorite for classic French pastries, their croissants are both buttery and delicious.\n",
      "\n",
      "These spots are perfect for refueling after a day of biking! Enjoy your treats!\n",
      "-------WRITE MEMORY NODE------\n",
      "New memory: Here's the updated user information based on the chat history:\n",
      "\n",
      "- **Name:** Hithik\n",
      "- **Likes:** Playing bike around in San Francisco, croissants after biking\n",
      "- **Hobbies and interests:** Biking, exploring scenic locations\n",
      "- **Past experiences:** Enjoys biking in San Francisco and visiting bakeries for croissants\n",
      "\n",
      "Let me know if there's anything else you'd like to add or update!\n",
      "--------------------------------\n",
      "State: {'messages': [HumanMessage(content='Hey! Where do you recommend I go for biking?', additional_kwargs={}, response_metadata={}, id='25b0f83f-e696-475e-8dd0-a9d1cfc6f0fa'), AIMessage(content=\"Hey Hithik! Since you enjoy biking around San Francisco, I recommend checking out the Golden Gate Park. It has some beautiful trails and scenic views. Another great spot is the Embarcadero, where you can bike along the waterfront and enjoy views of the bay. If you're up for a challenge, consider riding over the Golden Gate Bridge to Marin Headlands for stunning vistas. Enjoy your ride!\", additional_kwargs={'refusal': None}, response_metadata={'token_usage': {'completion_tokens': 82, 'prompt_tokens': 89, 'total_tokens': 171, 'completion_tokens_details': {'accepted_prediction_tokens': 0, 'audio_tokens': 0, 'reasoning_tokens': 0, 'rejected_prediction_tokens': 0}, 'prompt_tokens_details': {'audio_tokens': 0, 'cached_tokens': 0}}, 'model_name': 'gpt-4o-mini-2024-07-18', 'system_fingerprint': 'fp_d02d531b47', 'finish_reason': 'stop', 'logprobs': None}, id='run-e008b737-cb26-42ea-a89b-de422d0286ad-0', usage_metadata={'input_tokens': 89, 'output_tokens': 82, 'total_tokens': 171, 'input_token_details': {'audio': 0, 'cache_read': 0}, 'output_token_details': {'audio': 0, 'reasoning': 0}}), HumanMessage(content='Great! are there any bakeries around that I can check out? I like croissants after biking.', additional_kwargs={}, response_metadata={}, id='f5c1666c-779b-4109-a655-da9bf1b651b2'), AIMessage(content='Absolutely! After your biking adventures, you can treat yourself to some delicious croissants at a few great bakeries in San Francisco:\\n\\n1. **Tartine Bakery** - Famous for its flaky pastries, Tartine offers some of the best croissants in the city. It’s a perfect spot to relax after a bike ride.\\n\\n2. **B Patisserie** - Known for its incredible French pastries, their croissants are a must-try.\\n\\n3. **Mr. Holmes Bakehouse** - They have a wonderful selection of pastries, including croissants, and the atmosphere is fun and vibrant.\\n\\n4. **La Boulangerie de San Francisco** - A local favorite for classic French pastries, their croissants are both buttery and delicious.\\n\\nThese spots are perfect for refueling after a day of biking! Enjoy your treats!', additional_kwargs={'refusal': None}, response_metadata={'token_usage': {'completion_tokens': 169, 'prompt_tokens': 212, 'total_tokens': 381, 'completion_tokens_details': {'accepted_prediction_tokens': 0, 'audio_tokens': 0, 'reasoning_tokens': 0, 'rejected_prediction_tokens': 0}, 'prompt_tokens_details': {'audio_tokens': 0, 'cached_tokens': 0}}, 'model_name': 'gpt-4o-mini-2024-07-18', 'system_fingerprint': 'fp_0aa8d3e20b', 'finish_reason': 'stop', 'logprobs': None}, id='run-38dc494b-5a21-4774-af6a-d3c1f0a5f5f4-0', usage_metadata={'input_tokens': 212, 'output_tokens': 169, 'total_tokens': 381, 'input_token_details': {'audio': 0, 'cache_read': 0}, 'output_token_details': {'audio': 0, 'reasoning': 0}})]}\n",
      "-------END WRITE MEMORY NODE------\n",
      "==================================\u001b[1m Ai Message \u001b[0m==================================\n",
      "\n",
      "Absolutely! After your biking adventures, you can treat yourself to some delicious croissants at a few great bakeries in San Francisco:\n",
      "\n",
      "1. **Tartine Bakery** - Famous for its flaky pastries, Tartine offers some of the best croissants in the city. It’s a perfect spot to relax after a bike ride.\n",
      "\n",
      "2. **B Patisserie** - Known for its incredible French pastries, their croissants are a must-try.\n",
      "\n",
      "3. **Mr. Holmes Bakehouse** - They have a wonderful selection of pastries, including croissants, and the atmosphere is fun and vibrant.\n",
      "\n",
      "4. **La Boulangerie de San Francisco** - A local favorite for classic French pastries, their croissants are both buttery and delicious.\n",
      "\n",
      "These spots are perfect for refueling after a day of biking! Enjoy your treats!\n"
     ]
    }
   ],
   "source": [
    "input_messages = [HumanMessage(content=\"Great! are there any bakeries around that I can check out? I like croissants after biking.\")]\n",
    "\n",
    "for chunk in graph.stream({\"messages\": input_messages}, config, stream_mode=\"values\"):\n",
    "    chunk[\"messages\"][-1].pretty_print()\n"
   ]
  },
  {
   "cell_type": "code",
   "execution_count": null,
   "metadata": {},
   "outputs": [],
   "source": []
  }
 ],
 "metadata": {
  "kernelspec": {
   "display_name": "venv",
   "language": "python",
   "name": "python3"
  },
  "language_info": {
   "codemirror_mode": {
    "name": "ipython",
    "version": 3
   },
   "file_extension": ".py",
   "mimetype": "text/x-python",
   "name": "python",
   "nbconvert_exporter": "python",
   "pygments_lexer": "ipython3",
   "version": "3.12.7"
  }
 },
 "nbformat": 4,
 "nbformat_minor": 2
}
