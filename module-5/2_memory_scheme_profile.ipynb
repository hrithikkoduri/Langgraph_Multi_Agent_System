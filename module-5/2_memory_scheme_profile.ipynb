{
 "cells": [
  {
   "cell_type": "code",
   "execution_count": 1,
   "metadata": {},
   "outputs": [],
   "source": [
    "from dotenv import load_dotenv\n",
    "from langchain_openai import ChatOpenAI\n",
    "import os\n",
    "\n",
    "load_dotenv()\n",
    "def set_env_vars(var):\n",
    "    os.environ[var] = os.getenv(var)\n",
    "\n",
    "\n",
    "vars = [\"OPENAI_API_KEY\", \"LANGCHAIN_API_KEY\", \"LANGCHAIN_TRACING_V2\", \"LANGCHAIN_ENDPOINT\", \"LANGCHAIN_PROJECT\", \"TAVILY_API_KEY\"]\n",
    "\n",
    "for var in vars:\n",
    "    set_env_vars(var)\n",
    "\n",
    "llm = ChatOpenAI(model=\"gpt-4o-mini\")\n"
   ]
  },
  {
   "cell_type": "markdown",
   "metadata": {},
   "source": [
    "## Output Schema with TypedDict, Pydantic"
   ]
  },
  {
   "cell_type": "code",
   "execution_count": 2,
   "metadata": {},
   "outputs": [],
   "source": [
    "from typing import TypedDict, List\n",
    "\n",
    "class UserProfile(TypedDict):\n",
    "    \"\"\" User Profile schema with typed fields \"\"\"\n",
    "    user_name: str\n",
    "    interests: List[str]\n"
   ]
  },
  {
   "cell_type": "code",
   "execution_count": 5,
   "metadata": {},
   "outputs": [
    {
     "name": "stdout",
     "output_type": "stream",
     "text": [
      "{'user_name': 'Hrithik', 'interests': ['biking', 'technology', 'coffee']}\n",
      "<class 'dict'>\n"
     ]
    }
   ],
   "source": [
    "user_profile: UserProfile = {\n",
    "    \"user_name\": \"Hrithik\",\n",
    "    \"interests\": [\"biking\", \"technology\", \"coffee\"]\n",
    "}\n",
    "\n",
    "print(user_profile)\n",
    "print(type(user_profile))"
   ]
  },
  {
   "cell_type": "code",
   "execution_count": 6,
   "metadata": {},
   "outputs": [],
   "source": [
    "import uuid\n",
    "from langgraph.store.memory import InMemoryStore\n",
    "\n",
    "in_memory_store = InMemoryStore()\n",
    "\n",
    "user_id = \"1\"\n",
    "namespace_for_memory = (user_id, \"memory\")\n",
    "\n",
    "key = \"user_profile\"\n",
    "value = user_profile\n",
    "\n",
    "in_memory_store.put(namespace_for_memory, key, value)\n"
   ]
  },
  {
   "cell_type": "code",
   "execution_count": 11,
   "metadata": {},
   "outputs": [
    {
     "name": "stdout",
     "output_type": "stream",
     "text": [
      "{'created_at': '2025-01-07T03:53:03.436552+00:00',\n",
      " 'key': 'user_profile',\n",
      " 'namespace': ['1', 'memory'],\n",
      " 'score': None,\n",
      " 'updated_at': '2025-01-07T03:53:03.436554+00:00',\n",
      " 'value': {'interests': ['biking', 'technology', 'coffee'],\n",
      "           'user_name': 'Hrithik'}}\n"
     ]
    }
   ],
   "source": [
    "from pprint import pprint\n",
    "for m in in_memory_store.search(namespace_for_memory):\n",
    "    pprint(m.dict())"
   ]
  },
  {
   "cell_type": "code",
   "execution_count": 18,
   "metadata": {},
   "outputs": [
    {
     "name": "stdout",
     "output_type": "stream",
     "text": [
      "{'interests': ['biking', 'technology', 'coffee'], 'user_name': 'Hrithik'}\n"
     ]
    }
   ],
   "source": [
    "profile = in_memory_store.get(namespace_for_memory, key)\n",
    "pprint(profile.value)"
   ]
  },
  {
   "cell_type": "markdown",
   "metadata": {},
   "source": [
    "## Using Pydantic and with_structured_output"
   ]
  },
  {
   "cell_type": "code",
   "execution_count": 20,
   "metadata": {},
   "outputs": [
    {
     "name": "stdout",
     "output_type": "stream",
     "text": [
      "{'user_name': 'Hrithik', 'interests': ['biking']}\n",
      "<class 'dict'>\n"
     ]
    }
   ],
   "source": [
    "from pydantic import BaseModel, Field\n",
    "from langchain_core.messages import HumanMessage\n",
    "from langchain_openai import ChatOpenAI\n",
    "\n",
    "structured_llm = llm.with_structured_output(UserProfile)\n",
    "\n",
    "structured_output = structured_llm.invoke([HumanMessage(content=\"Hi, my name is Hrithik, I like to bike\")])\n",
    "\n",
    "print(structured_output)\n",
    "print(type(structured_output))"
   ]
  },
  {
   "cell_type": "code",
   "execution_count": 31,
   "metadata": {},
   "outputs": [],
   "source": [
    "from IPython.display import Image, display\n",
    "from langgraph.graph import StateGraph, START, END, MessagesState\n",
    "from langgraph.store.base import BaseStore\n",
    "from langgraph.checkpoint.memory import MemorySaver\n",
    "from langchain_core.messages import HumanMessage, AIMessage, SystemMessage\n",
    "from langchain_core.runnables.config import RunnableConfig\n",
    "from typing import Dict\n",
    "\n",
    "\n",
    "class UserProfile(TypedDict):\n",
    "    \"\"\" User Profile schema with typed fields \"\"\"\n",
    "    user_name: str\n",
    "    interests: List[str]\n",
    "\n",
    "class ChatBotState(MessagesState):\n",
    "    memory : UserProfile = Field(..., description=\"User's Profile stored in the memory store\")\n",
    "\n",
    "\n",
    "def call_model(state: MessagesState, config: RunnableConfig, store: BaseStore):\n",
    "    \"\"\" Load the memory from the store and use it to generate a personalized response \"\"\"\n",
    "\n",
    "    print(\"*****************************CALL MODEL NODE*****************************\")\n",
    "\n",
    "\n",
    "    user_id = config[\"configurable\"][\"user_id\"]\n",
    "    namespace_for_memory = (user_id, \"memory\")\n",
    "    key = \"user_memory\"\n",
    "\n",
    "    existing_memory = store.get(namespace_for_memory, key)\n",
    "\n",
    "    if existing_memory:\n",
    "        memory_dict = existing_memory.value\n",
    "        formatted_memory = (\n",
    "            f\"Name: {memory_dict.get('user_name', 'unknown')}\\n\"\n",
    "            f\"Interests: {', '.join(memory_dict, 'interests',[])}\\n\"\n",
    "        )\n",
    "    else:\n",
    "        formatted_memory = None\n",
    "\n",
    "    print(f\"Formatted Memory: {formatted_memory}\")\n",
    "    print(\"---------------------------------------------------\")\n",
    "\n",
    "\n",
    "    MODEL_SYSTEM_MESSAGE = \"\"\"\n",
    "    You are a helpful assistant with memory that provides information about the user to answer questions.\n",
    "    If you have memory about the user, use it to provide personalized responses to user's questions.\n",
    "    Here is the memory (it may be empty): {memory}\n",
    "    \"\"\"\n",
    "\n",
    "    system_message = SystemMessage(content=MODEL_SYSTEM_MESSAGE)\n",
    "\n",
    "    response = llm.invoke([system_message] + state['messages'])\n",
    "\n",
    "    print(f\"Response: {response}\")\n",
    "    print(\"---------------------------------------------------\")\n",
    "\n",
    "    return {\"messages\" : [response]}\n",
    "\n",
    "\n",
    "def write_memory(state: ChatBotState, config: RunnableConfig, store: BaseStore):\n",
    "    \"\"\" Reflect on the chat history and save meory to the store \"\"\"\n",
    "\n",
    "    print(\"*****************************WRITE MEMORY NODE*****************************\")\n",
    "\n",
    "    user_id = config[\"configurable\"][\"user_id\"]\n",
    "    namespace_for_memory = (user_id, \"memory\")\n",
    "    key = \"user_memory\"\n",
    "    \n",
    "    \n",
    "    existing_memory = store.get(namespace_for_memory, key)\n",
    "    if existing_memory:\n",
    "        memory_dict = existing_memory.value\n",
    "        formatted_memory = (\n",
    "            f\"Name: {memory_dict.get('user_name', 'unknown')}\\n\"\n",
    "            f\"Interests: {', '.join(memory_dict.get('interests',[]))}\\n\"\n",
    "        )\n",
    "    else:\n",
    "        formatted_memory = None\n",
    "\n",
    "    print(f\"Formatted Memory: {formatted_memory}\")\n",
    "    print(\"---------------------------------------------------\")\n",
    "\n",
    "    CREATE_MEMORY_SYSTEM_MESSAGE = \"\"\"\n",
    "    You are a helpful assistant that can create or update the user's memory based on the chat history.\n",
    "    This will be saved for long term memory. If there is an existing memory, simply update it.\n",
    "    Here is the existing memory (it may be empty): {memory}\n",
    "    \"\"\"\n",
    "\n",
    "    system_message = SystemMessage(content=CREATE_MEMORY_SYSTEM_MESSAGE)\n",
    "    new_memory = structured_llm.invoke([system_message] + state['messages'])\n",
    "\n",
    "    print(f\"New Memory: {new_memory}\")\n",
    "    print(\"---------------------------------------------------\")\n",
    "\n",
    "    store.put(namespace_for_memory, key, new_memory)\n",
    "\n",
    "    return {\"memory\" : new_memory}"
   ]
  },
  {
   "cell_type": "code",
   "execution_count": 32,
   "metadata": {},
   "outputs": [
    {
     "data": {
      "image/png": "[encoded data removed]",
      "text/plain": [
       "<IPython.core.display.Image object>"
      ]
     },
     "metadata": {},
     "output_type": "display_data"
    }
   ],
   "source": [
    "builder = StateGraph(ChatBotState)\n",
    "\n",
    "builder.add_node(\"call_model\", call_model)\n",
    "builder.add_node(\"write_memory\", write_memory)\n",
    "\n",
    "builder.add_edge(START, \"call_model\")\n",
    "builder.add_edge(\"call_model\", \"write_memory\")\n",
    "builder.add_edge(\"write_memory\", END)\n",
    "\n",
    "within_thread_memory = MemorySaver()\n",
    "across_thread_memory = InMemoryStore()\n",
    "\n",
    "graph = builder.compile(checkpointer = within_thread_memory, store = across_thread_memory)\n",
    "\n",
    "display(Image(graph.get_graph(xray=1).draw_mermaid_png()))"
   ]
  },
  {
   "cell_type": "code",
   "execution_count": 33,
   "metadata": {},
   "outputs": [
    {
     "name": "stdout",
     "output_type": "stream",
     "text": [
      "================================\u001b[1m Human Message \u001b[0m=================================\n",
      "\n",
      "Hi, my name is Hrithik, I like to bike round Austin and visit coffee shops\n",
      "*****************************CALL MODEL NODE*****************************\n",
      "Formatted Memory: None\n",
      "---------------------------------------------------\n",
      "Response: content='Hi Hrithik! It’s great to meet you! Biking around Austin sounds like a fun way to explore the city. Do you have any favorite coffee shops that you like to visit after your rides?' additional_kwargs={'refusal': None} response_metadata={'token_usage': {'completion_tokens': 43, 'prompt_tokens': 83, 'total_tokens': 126, 'completion_tokens_details': {'accepted_prediction_tokens': 0, 'audio_tokens': 0, 'reasoning_tokens': 0, 'rejected_prediction_tokens': 0}, 'prompt_tokens_details': {'audio_tokens': 0, 'cached_tokens': 0}}, 'model_name': 'gpt-4o-mini-2024-07-18', 'system_fingerprint': 'fp_0aa8d3e20b', 'finish_reason': 'stop', 'logprobs': None} id='run-6e36d250-daa2-4bf3-8732-920f0fe1472d-0' usage_metadata={'input_tokens': 83, 'output_tokens': 43, 'total_tokens': 126, 'input_token_details': {'audio': 0, 'cache_read': 0}, 'output_token_details': {'audio': 0, 'reasoning': 0}}\n",
      "---------------------------------------------------\n",
      "==================================\u001b[1m Ai Message \u001b[0m==================================\n",
      "\n",
      "Hi Hrithik! It’s great to meet you! Biking around Austin sounds like a fun way to explore the city. Do you have any favorite coffee shops that you like to visit after your rides?\n",
      "*****************************WRITE MEMORY NODE*****************************\n",
      "Formatted Memory: None\n",
      "---------------------------------------------------\n",
      "New Memory: {'user_name': 'Hrithik', 'interests': ['biking', 'coffee shops', 'Austin']}\n",
      "---------------------------------------------------\n",
      "==================================\u001b[1m Ai Message \u001b[0m==================================\n",
      "\n",
      "Hi Hrithik! It’s great to meet you! Biking around Austin sounds like a fun way to explore the city. Do you have any favorite coffee shops that you like to visit after your rides?\n"
     ]
    }
   ],
   "source": [
    "thread = {\"configurable\" : {\"user_id\" : \"1\", \"thread_id\" : \"1\"}}\n",
    "\n",
    "input_message = HumanMessage(content=\"Hi, my name is Hrithik, I like to bike round Austin and visit coffee shops\")\n",
    "\n",
    "for event in graph.stream({\"messages\":[input_message]}, thread, stream_mode=\"values\"):\n",
    "    event[\"messages\"][-1].pretty_print()"
   ]
  },
  {
   "cell_type": "code",
   "execution_count": 36,
   "metadata": {},
   "outputs": [
    {
     "name": "stdout",
     "output_type": "stream",
     "text": [
      "{'interests': ['biking', 'coffee shops', 'Austin'], 'user_name': 'Hrithik'}\n"
     ]
    }
   ],
   "source": [
    "user_id = \"1\"\n",
    "namespace_for_memory = (user_id, \"memory\")\n",
    "key = \"user_memory\"\n",
    "\n",
    "existing_memory = across_thread_memory.get(namespace_for_memory, key)\n",
    "pprint(existing_memory.value)"
   ]
  },
  {
   "cell_type": "markdown",
   "metadata": {},
   "source": [
    "## Using Trustcall to extract schema from conversation and update using JSON patch\n",
    "\n",
    "- with_strcutured_ouptut has 2 downsides:\n",
    "\n",
    "    -- It cant handle complex nested structures\n",
    "    \n",
    "    -- Updates entire JSON doc rather then just updating, which is expensive"
   ]
  },
  {
   "cell_type": "code",
   "execution_count": 38,
   "metadata": {},
   "outputs": [
    {
     "name": "stdout",
     "output_type": "stream",
     "text": [
      "{'messages': [AIMessage(content='', additional_kwargs={'tool_calls': [{'id': 'call_bpY4eDJxdIQGa8I8sIoST9WF', 'function': {'arguments': '{\"user_name\":\"Hrithik\",\"interests\":[\"biking\",\"San Francisco\"]}', 'name': 'UserProfile'}, 'type': 'function'}], 'refusal': None}, response_metadata={'token_usage': {'completion_tokens': 19, 'prompt_tokens': 113, 'total_tokens': 132, 'completion_tokens_details': {'accepted_prediction_tokens': 0, 'audio_tokens': 0, 'reasoning_tokens': 0, 'rejected_prediction_tokens': 0}, 'prompt_tokens_details': {'audio_tokens': 0, 'cached_tokens': 0}}, 'model_name': 'gpt-4o-mini-2024-07-18', 'system_fingerprint': 'fp_d02d531b47', 'finish_reason': 'stop', 'logprobs': None}, id='run-acf1a9e2-8a3b-49b0-bf48-02397a18b151-0', tool_calls=[{'name': 'UserProfile', 'args': {'user_name': 'Hrithik', 'interests': ['biking', 'San Francisco']}, 'id': 'call_bpY4eDJxdIQGa8I8sIoST9WF', 'type': 'tool_call'}], usage_metadata={'input_tokens': 113, 'output_tokens': 19, 'total_tokens': 132, 'input_token_details': {'audio': 0, 'cache_read': 0}, 'output_token_details': {'audio': 0, 'reasoning': 0}})], 'responses': [UserProfile(user_name='Hrithik', interests=['biking', 'San Francisco'])], 'response_metadata': [{'id': 'call_bpY4eDJxdIQGa8I8sIoST9WF'}], 'attempts': 1}\n"
     ]
    }
   ],
   "source": [
    "from trustcall import create_extractor \n",
    "\n",
    "class UserProfile(BaseModel):\n",
    "    user_name : str = Field(..., description=\"The user's name\")\n",
    "    interests : List[str] = Field(..., description=\"The user's interests\")\n",
    "\n",
    "trustcall_extractor = create_extractor(\n",
    "    llm, \n",
    "    tools = [UserProfile],\n",
    "    tool_choice = \"UserProfile\"\n",
    ")\n",
    "\n",
    "system_message = SystemMessage(content=\"Extract the user's profile from the chat history\")\n",
    "\n",
    "conversation = [HumanMessage(content=\"Hi, I'm Hrithik.\"), \n",
    "                AIMessage(content=\"Nice to meet you, Hrithik.\"), \n",
    "                HumanMessage(content=\"I really like biking around San Francisco.\")]\n",
    "\n",
    "response = trustcall_extractor.invoke([system_message] + conversation)\n",
    "\n",
    "print(response)"
   ]
  },
  {
   "cell_type": "code",
   "execution_count": 60,
   "metadata": {},
   "outputs": [
    {
     "name": "stdout",
     "output_type": "stream",
     "text": [
      "{'attempts': 1,\n",
      " 'messages': [AIMessage(content='', additional_kwargs={'tool_calls': [{'id': 'call_bpY4eDJxdIQGa8I8sIoST9WF', 'function': {'arguments': '{\"user_name\":\"Hrithik\",\"interests\":[\"biking\",\"San Francisco\"]}', 'name': 'UserProfile'}, 'type': 'function'}], 'refusal': None}, response_metadata={'token_usage': {'completion_tokens': 19, 'prompt_tokens': 113, 'total_tokens': 132, 'completion_tokens_details': {'accepted_prediction_tokens': 0, 'audio_tokens': 0, 'reasoning_tokens': 0, 'rejected_prediction_tokens': 0}, 'prompt_tokens_details': {'audio_tokens': 0, 'cached_tokens': 0}}, 'model_name': 'gpt-4o-mini-2024-07-18', 'system_fingerprint': 'fp_d02d531b47', 'finish_reason': 'stop', 'logprobs': None}, id='run-acf1a9e2-8a3b-49b0-bf48-02397a18b151-0', tool_calls=[{'name': 'UserProfile', 'args': {'user_name': 'Hrithik', 'interests': ['biking', 'San Francisco']}, 'id': 'call_bpY4eDJxdIQGa8I8sIoST9WF', 'type': 'tool_call'}], usage_metadata={'input_tokens': 113, 'output_tokens': 19, 'total_tokens': 132, 'input_token_details': {'audio': 0, 'cache_read': 0}, 'output_token_details': {'audio': 0, 'reasoning': 0}})],\n",
      " 'response_metadata': [{'id': 'call_bpY4eDJxdIQGa8I8sIoST9WF'}],\n",
      " 'responses': [UserProfile(user_name='Hrithik', interests=['biking', 'San Francisco'])]}\n"
     ]
    }
   ],
   "source": [
    "from pprint import pprint\n",
    "pprint(response)"
   ]
  },
  {
   "cell_type": "code",
   "execution_count": 58,
   "metadata": {},
   "outputs": [
    {
     "name": "stdout",
     "output_type": "stream",
     "text": [
      "==================================\u001b[1m Ai Message \u001b[0m==================================\n",
      "Tool Calls:\n",
      "  UserProfile (call_bpY4eDJxdIQGa8I8sIoST9WF)\n",
      " Call ID: call_bpY4eDJxdIQGa8I8sIoST9WF\n",
      "  Args:\n",
      "    user_name: Hrithik\n",
      "    interests: ['biking', 'San Francisco']\n"
     ]
    }
   ],
   "source": [
    "for m in response.get(\"messages\", []):\n",
    "    m.pretty_print()"
   ]
  },
  {
   "cell_type": "code",
   "execution_count": 63,
   "metadata": {},
   "outputs": [
    {
     "name": "stdout",
     "output_type": "stream",
     "text": [
      "[UserProfile(user_name='Hrithik', interests=['biking', 'San Francisco'])]\n"
     ]
    }
   ],
   "source": [
    "schema = response.get(\"responses\",{})\n",
    "pprint(schema)"
   ]
  },
  {
   "cell_type": "code",
   "execution_count": 64,
   "metadata": {},
   "outputs": [
    {
     "name": "stdout",
     "output_type": "stream",
     "text": [
      "<class 'list'>\n"
     ]
    }
   ],
   "source": [
    "print(type(schema))"
   ]
  },
  {
   "cell_type": "code",
   "execution_count": 65,
   "metadata": {},
   "outputs": [
    {
     "name": "stdout",
     "output_type": "stream",
     "text": [
      "{'interests': ['biking', 'San Francisco'], 'user_name': 'Hrithik'}\n"
     ]
    }
   ],
   "source": [
    "json_schema = schema[0].model_dump()\n",
    "pprint(json_schema)"
   ]
  },
  {
   "cell_type": "code",
   "execution_count": 66,
   "metadata": {},
   "outputs": [
    {
     "name": "stdout",
     "output_type": "stream",
     "text": [
      "<class 'dict'>\n"
     ]
    }
   ],
   "source": [
    "print(type(json_schema))"
   ]
  },
  {
   "cell_type": "code",
   "execution_count": 73,
   "metadata": {},
   "outputs": [
    {
     "data": {
      "text/plain": [
       "'call_bpY4eDJxdIQGa8I8sIoST9WF'"
      ]
     },
     "execution_count": 73,
     "metadata": {},
     "output_type": "execute_result"
    }
   ],
   "source": [
    "response[\"response_metadata\"][0][\"id\"]"
   ]
  },
  {
   "cell_type": "code",
   "execution_count": 74,
   "metadata": {},
   "outputs": [],
   "source": [
    "updated_conversation = [HumanMessage(content=\"Hi, I'm Hrithik.\"), \n",
    "                        AIMessage(content=\"Nice to meet you, Hrithik.\"), \n",
    "                        HumanMessage(content=\"I really like biking around San Francisco.\"),\n",
    "                        AIMessage(content=\"San Francisco is a great city! Where do you go after biking?\"),\n",
    "                        HumanMessage(content=\"I really like to go to a bakery after biking.\"),]\n",
    "\n",
    "system_message = f\"\"\"Update the memory (JSON doc) to incorporate new information from the following conversation\"\"\"\n",
    "\n",
    "response = trustcall_extractor.invoke({\"messages\":[SystemMessage(content=system_message)] + updated_conversation}, {\"existing\" : {\"UserProfile\" : schema[0].model_dump()}})"
   ]
  },
  {
   "cell_type": "code",
   "execution_count": 75,
   "metadata": {},
   "outputs": [
    {
     "name": "stdout",
     "output_type": "stream",
     "text": [
      "==================================\u001b[1m Ai Message \u001b[0m==================================\n",
      "Tool Calls:\n",
      "  UserProfile (call_6gYqR3FShIOC0u6FdkwjxxQh)\n",
      " Call ID: call_6gYqR3FShIOC0u6FdkwjxxQh\n",
      "  Args:\n",
      "    user_name: Hrithik\n",
      "    interests: ['biking', 'visiting bakeries', 'exploring San Francisco']\n"
     ]
    }
   ],
   "source": [
    "for m in response[\"messages\"]:\n",
    "    m.pretty_print()"
   ]
  },
  {
   "cell_type": "code",
   "execution_count": 76,
   "metadata": {},
   "outputs": [
    {
     "data": {
      "text/plain": [
       "{'messages': [AIMessage(content='', additional_kwargs={'tool_calls': [{'id': 'call_6gYqR3FShIOC0u6FdkwjxxQh', 'function': {'arguments': '{\"user_name\":\"Hrithik\",\"interests\":[\"biking\",\"visiting bakeries\",\"exploring San Francisco\"]}', 'name': 'UserProfile'}, 'type': 'function'}], 'refusal': None}, response_metadata={'token_usage': {'completion_tokens': 26, 'prompt_tokens': 153, 'total_tokens': 179, 'completion_tokens_details': {'accepted_prediction_tokens': 0, 'audio_tokens': 0, 'reasoning_tokens': 0, 'rejected_prediction_tokens': 0}, 'prompt_tokens_details': {'audio_tokens': 0, 'cached_tokens': 0}}, 'model_name': 'gpt-4o-mini-2024-07-18', 'system_fingerprint': 'fp_0aa8d3e20b', 'finish_reason': 'stop', 'logprobs': None}, id='run-e61c88b9-eca2-4a8c-94c4-172e23122251-0', tool_calls=[{'name': 'UserProfile', 'args': {'user_name': 'Hrithik', 'interests': ['biking', 'visiting bakeries', 'exploring San Francisco']}, 'id': 'call_6gYqR3FShIOC0u6FdkwjxxQh', 'type': 'tool_call'}], usage_metadata={'input_tokens': 153, 'output_tokens': 26, 'total_tokens': 179, 'input_token_details': {'audio': 0, 'cache_read': 0}, 'output_token_details': {'audio': 0, 'reasoning': 0}})],\n",
       " 'responses': [UserProfile(user_name='Hrithik', interests=['biking', 'visiting bakeries', 'exploring San Francisco'])],\n",
       " 'response_metadata': [{'id': 'call_6gYqR3FShIOC0u6FdkwjxxQh'}],\n",
       " 'attempts': 1}"
      ]
     },
     "execution_count": 76,
     "metadata": {},
     "output_type": "execute_result"
    }
   ],
   "source": [
    "response"
   ]
  },
  {
   "cell_type": "markdown",
   "metadata": {},
   "source": [
    "## Chatbot with trustcall"
   ]
  },
  {
   "cell_type": "code",
   "execution_count": 94,
   "metadata": {},
   "outputs": [],
   "source": [
    "from IPython.display import Image, display\n",
    "from langgraph.graph import StateGraph, START, END, MessagesState\n",
    "from langgraph.store.base import BaseStore\n",
    "from langgraph.checkpoint.memory import MemorySaver\n",
    "from langchain_core.messages import HumanMessage, AIMessage, SystemMessage\n",
    "from langchain_core.runnables.config import RunnableConfig\n",
    "from typing import Dict\n",
    "\n",
    "\n",
    "class UserProfile(TypedDict):\n",
    "    \"\"\" User Profile schema with typed fields \"\"\"\n",
    "    user_name: str =  Field(description=\"The user's preferred name\")\n",
    "    location: str = Field(description=\"The user's location\")\n",
    "    interests: List[str] = Field(description=\"A list of user's interests\")\n",
    "\n",
    "class ChatBotState(MessagesState):\n",
    "    memory : UserProfile = Field(..., description=\"User's Profile stored in the memory store\")\n",
    "\n",
    "trustcall_extractor = create_extractor(\n",
    "    llm, \n",
    "    tools = [UserProfile],\n",
    "    tool_choice = \"UserProfile\"\n",
    ")\n",
    "\n",
    "\n",
    "def call_model(state: MessagesState, config: RunnableConfig, store: BaseStore):\n",
    "    \"\"\" Load the memory from the store and use it to generate a personalized response \"\"\"\n",
    "\n",
    "    print(\"*****************************CALL MODEL NODE*****************************\")\n",
    "\n",
    "\n",
    "    user_id = config[\"configurable\"][\"user_id\"]\n",
    "    namespace_for_memory = (user_id, \"memory\")\n",
    "    key = \"user_memory\"\n",
    "\n",
    "    existing_memory = store.get(namespace_for_memory, key)\n",
    "    print(f\"Existing Memory: {existing_memory}\")\n",
    "\n",
    "    if existing_memory:\n",
    "        memory_dict = existing_memory.value\n",
    "        formatted_memory = (\n",
    "            f\"Name: {memory_dict.get('user_name', 'unknown')}\\n\"\n",
    "            f\"Location: {memory_dict.get('location', 'unknown')}\\n\"\n",
    "            f\"Interests: {', '.join(memory_dict.get('interests',[]))}\\n\"\n",
    "        )\n",
    "    else:\n",
    "        formatted_memory = None\n",
    "\n",
    "    print(f\"Formatted Memory: {formatted_memory}\")\n",
    "    print(\"---------------------------------------------------\")\n",
    "\n",
    "\n",
    "    MODEL_SYSTEM_MESSAGE = \"\"\"\n",
    "    You are a helpful assistant with memory that provides information about the user to answer questions.\n",
    "    If you have memory about the user, use it to provide personalized responses to user's questions.\n",
    "    Here is the memory (it may be empty): {memory}\n",
    "    \"\"\"\n",
    "\n",
    "    system_message = SystemMessage(content=MODEL_SYSTEM_MESSAGE)\n",
    "\n",
    "    response = llm.invoke([system_message] + state['messages'])\n",
    "\n",
    "    print(f\"Response: {response}\")\n",
    "    print(\"---------------------------------------------------\")\n",
    "\n",
    "    return {\"messages\" : [response]}\n",
    "\n",
    "\n",
    "def write_memory(state: ChatBotState, config: RunnableConfig, store: BaseStore):\n",
    "    \"\"\" Reflect on the chat history and save meory to the store \"\"\"\n",
    "\n",
    "    print(\"*****************************WRITE MEMORY NODE*****************************\")\n",
    "\n",
    "    user_id = config[\"configurable\"][\"user_id\"]\n",
    "    namespace_for_memory = (user_id, \"memory\")\n",
    "    key = \"user_memory\"\n",
    "    \n",
    "    \n",
    "    existing_memory = store.get(namespace_for_memory, key)\n",
    "\n",
    "    existing_profile = {\"UserProfile\" : existing_memory.value} if existing_memory else None\n",
    "\n",
    "    print(f\"Existing Profile: {existing_profile}\")\n",
    "    \n",
    "    print(\"---------------------------------------------------\")\n",
    "\n",
    "    TRUSTCALL_INSTRUCTIONS = \"\"\"\n",
    "    Create or update the memory (JSON doc) to incorporate information from the following conversation:\n",
    "    \"\"\"\n",
    "\n",
    "    system_message = SystemMessage(content=TRUSTCALL_INSTRUCTIONS)\n",
    "    response = trustcall_extractor.invoke({\"messages\":[system_message] + state['messages'], \"existing\" : existing_profile}) # adding existing here is vv important\n",
    "    \n",
    "    updated_profile = response[\"responses\"][0].model_dump()\n",
    "\n",
    "    print(f\"New Memory: {updated_profile}\")\n",
    "    print(\"---------------------------------------------------\")\n",
    "\n",
    "    store.put(namespace_for_memory, key, updated_profile)\n",
    "\n",
    "    return {\"memory\" : [updated_profile]}"
   ]
  },
  {
   "cell_type": "code",
   "execution_count": 89,
   "metadata": {},
   "outputs": [
    {
     "data": {
      "image/png": "[encoded data removed]",
      "text/plain": [
       "<IPython.core.display.Image object>"
      ]
     },
     "metadata": {},
     "output_type": "display_data"
    }
   ],
   "source": [
    "builder = StateGraph(ChatBotState)\n",
    "\n",
    "builder.add_node(\"call_model\", call_model)\n",
    "builder.add_node(\"write_memory\", write_memory)\n",
    "\n",
    "builder.add_edge(START, \"call_model\")\n",
    "builder.add_edge(\"call_model\", \"write_memory\")\n",
    "builder.add_edge(\"write_memory\", END)\n",
    "\n",
    "within_thread_memory = MemorySaver()\n",
    "across_thread_memory = InMemoryStore()\n",
    "\n",
    "graph = builder.compile(checkpointer = within_thread_memory, store = across_thread_memory)\n",
    "\n",
    "display(Image(graph.get_graph(xray=1).draw_mermaid_png()))"
   ]
  },
  {
   "cell_type": "code",
   "execution_count": 90,
   "metadata": {},
   "outputs": [
    {
     "name": "stdout",
     "output_type": "stream",
     "text": [
      "================================\u001b[1m Human Message \u001b[0m=================================\n",
      "\n",
      "Hi, my name is Hrithik\n",
      "*****************************CALL MODEL NODE*****************************\n",
      "Existing Memory: None\n",
      "Formatted Memory: None\n",
      "---------------------------------------------------\n",
      "Response: content='Hi Hrithik! How can I assist you today?' additional_kwargs={'refusal': None} response_metadata={'token_usage': {'completion_tokens': 13, 'prompt_tokens': 72, 'total_tokens': 85, 'completion_tokens_details': {'accepted_prediction_tokens': 0, 'audio_tokens': 0, 'reasoning_tokens': 0, 'rejected_prediction_tokens': 0}, 'prompt_tokens_details': {'audio_tokens': 0, 'cached_tokens': 0}}, 'model_name': 'gpt-4o-mini-2024-07-18', 'system_fingerprint': 'fp_0aa8d3e20b', 'finish_reason': 'stop', 'logprobs': None} id='run-18061c4a-81da-405d-9688-bc5395e872d9-0' usage_metadata={'input_tokens': 72, 'output_tokens': 13, 'total_tokens': 85, 'input_token_details': {'audio': 0, 'cache_read': 0}, 'output_token_details': {'audio': 0, 'reasoning': 0}}\n",
      "---------------------------------------------------\n",
      "==================================\u001b[1m Ai Message \u001b[0m==================================\n",
      "\n",
      "Hi Hrithik! How can I assist you today?\n",
      "*****************************WRITE MEMORY NODE*****************************\n",
      "Existing Profile: None\n",
      "---------------------------------------------------\n",
      "New Memory: {'user_name': 'Hrithik', 'location': '', 'interests': []}\n",
      "---------------------------------------------------\n",
      "==================================\u001b[1m Ai Message \u001b[0m==================================\n",
      "\n",
      "Hi Hrithik! How can I assist you today?\n"
     ]
    }
   ],
   "source": [
    "config = {\"configurable\" : {\"user_id\" : \"11\", \"thread_id\" : \"12\"}}\n",
    "\n",
    "input_message = HumanMessage(content=\"Hi, my name is Hrithik\")\n",
    "\n",
    "for event in graph.stream({\"messages\":[input_message]}, config, stream_mode=\"values\"):\n",
    "    event[\"messages\"][-1].pretty_print()"
   ]
  },
  {
   "cell_type": "code",
   "execution_count": 91,
   "metadata": {},
   "outputs": [
    {
     "name": "stdout",
     "output_type": "stream",
     "text": [
      "{'interests': [], 'location': '', 'user_name': 'Hrithik'}\n"
     ]
    }
   ],
   "source": [
    "user_id = \"11\"\n",
    "namespace_for_memory = (user_id, \"memory\")\n",
    "key = \"user_memory\"\n",
    "\n",
    "existing_memory = across_thread_memory.get(namespace_for_memory, key)\n",
    "pprint(existing_memory.value)"
   ]
  },
  {
   "cell_type": "code",
   "execution_count": 92,
   "metadata": {},
   "outputs": [
    {
     "name": "stdout",
     "output_type": "stream",
     "text": [
      "================================\u001b[1m Human Message \u001b[0m=================================\n",
      "\n",
      "I like to bike around in Austin\n",
      "*****************************CALL MODEL NODE*****************************\n",
      "Existing Memory: Item(namespace=['11', 'memory'], key='user_memory', value={'user_name': 'Hrithik', 'location': '', 'interests': []}, created_at='2025-01-07T06:44:01.234745+00:00', updated_at='2025-01-07T06:44:01.234745+00:00')\n",
      "Formatted Memory: Name: Hrithik\n",
      "Location: \n",
      "Interests: \n",
      "\n",
      "---------------------------------------------------\n",
      "Response: content='That sounds great, Hrithik! Austin has some fantastic biking trails and scenic routes. Do you have any favorite trails or places you like to bike to?' additional_kwargs={'refusal': None} response_metadata={'token_usage': {'completion_tokens': 33, 'prompt_tokens': 99, 'total_tokens': 132, 'completion_tokens_details': {'accepted_prediction_tokens': 0, 'audio_tokens': 0, 'reasoning_tokens': 0, 'rejected_prediction_tokens': 0}, 'prompt_tokens_details': {'audio_tokens': 0, 'cached_tokens': 0}}, 'model_name': 'gpt-4o-mini-2024-07-18', 'system_fingerprint': 'fp_0aa8d3e20b', 'finish_reason': 'stop', 'logprobs': None} id='run-6b1193f7-868e-41d9-b319-4829dbc1a680-0' usage_metadata={'input_tokens': 99, 'output_tokens': 33, 'total_tokens': 132, 'input_token_details': {'audio': 0, 'cache_read': 0}, 'output_token_details': {'audio': 0, 'reasoning': 0}}\n",
      "---------------------------------------------------\n",
      "==================================\u001b[1m Ai Message \u001b[0m==================================\n",
      "\n",
      "That sounds great, Hrithik! Austin has some fantastic biking trails and scenic routes. Do you have any favorite trails or places you like to bike to?\n",
      "*****************************WRITE MEMORY NODE*****************************\n",
      "Existing Profile: {'UserProfile': {'user_name': 'Hrithik', 'location': '', 'interests': []}}\n",
      "---------------------------------------------------\n",
      "New Memory: {'user_name': 'Hrithik', 'location': 'Austin', 'interests': ['biking']}\n",
      "---------------------------------------------------\n",
      "==================================\u001b[1m Ai Message \u001b[0m==================================\n",
      "\n",
      "That sounds great, Hrithik! Austin has some fantastic biking trails and scenic routes. Do you have any favorite trails or places you like to bike to?\n"
     ]
    }
   ],
   "source": [
    "\n",
    "\n",
    "input_message = HumanMessage(content=\"I like to bike around in Austin\")\n",
    "\n",
    "for event in graph.stream({\"messages\":[input_message]}, config, stream_mode=\"values\"):\n",
    "    event[\"messages\"][-1].pretty_print()"
   ]
  },
  {
   "cell_type": "code",
   "execution_count": 93,
   "metadata": {},
   "outputs": [
    {
     "name": "stdout",
     "output_type": "stream",
     "text": [
      "================================\u001b[1m Human Message \u001b[0m=================================\n",
      "\n",
      "I also like to go to coffee shops after biking\n",
      "*****************************CALL MODEL NODE*****************************\n",
      "Existing Memory: Item(namespace=['11', 'memory'], key='user_memory', value={'user_name': 'Hrithik', 'location': 'Austin', 'interests': ['biking']}, created_at='2025-01-07T06:44:23.625215+00:00', updated_at='2025-01-07T06:44:23.625216+00:00')\n",
      "Formatted Memory: Name: Hrithik\n",
      "Location: Austin\n",
      "Interests: biking\n",
      "\n",
      "---------------------------------------------------\n",
      "Response: content='That sounds like a great way to relax after a bike ride! Do you have a favorite coffee shop you like to visit?' additional_kwargs={'refusal': None} response_metadata={'token_usage': {'completion_tokens': 26, 'prompt_tokens': 74, 'total_tokens': 100, 'completion_tokens_details': {'accepted_prediction_tokens': 0, 'audio_tokens': 0, 'reasoning_tokens': 0, 'rejected_prediction_tokens': 0}, 'prompt_tokens_details': {'audio_tokens': 0, 'cached_tokens': 0}}, 'model_name': 'gpt-4o-mini-2024-07-18', 'system_fingerprint': 'fp_0aa8d3e20b', 'finish_reason': 'stop', 'logprobs': None} id='run-e22d6d93-1f24-4df2-a75c-63bc4917767d-0' usage_metadata={'input_tokens': 74, 'output_tokens': 26, 'total_tokens': 100, 'input_token_details': {'audio': 0, 'cache_read': 0}, 'output_token_details': {'audio': 0, 'reasoning': 0}}\n",
      "---------------------------------------------------\n",
      "==================================\u001b[1m Ai Message \u001b[0m==================================\n",
      "\n",
      "That sounds like a great way to relax after a bike ride! Do you have a favorite coffee shop you like to visit?\n",
      "*****************************WRITE MEMORY NODE*****************************\n",
      "Existing Profile: {'UserProfile': {'user_name': 'Hrithik', 'location': 'Austin', 'interests': ['biking']}}\n",
      "---------------------------------------------------\n",
      "New Memory: {'user_name': 'Hrithik', 'location': 'Austin', 'interests': ['biking', 'coffee shops']}\n",
      "---------------------------------------------------\n",
      "==================================\u001b[1m Ai Message \u001b[0m==================================\n",
      "\n",
      "That sounds like a great way to relax after a bike ride! Do you have a favorite coffee shop you like to visit?\n"
     ]
    }
   ],
   "source": [
    "config = {\"configurable\" : {\"user_id\" : \"11\", \"thread_id\" : \"22\"}}\n",
    "\n",
    "input_message = HumanMessage(content=\"I also like to go to coffee shops after biking\")\n",
    "\n",
    "for event in graph.stream({\"messages\":[input_message]}, config, stream_mode=\"values\"):\n",
    "    event[\"messages\"][-1].pretty_print()"
   ]
  },
  {
   "cell_type": "code",
   "execution_count": null,
   "metadata": {},
   "outputs": [],
   "source": []
  }
 ],
 "metadata": {
  "kernelspec": {
   "display_name": "venv",
   "language": "python",
   "name": "python3"
  },
  "language_info": {
   "codemirror_mode": {
    "name": "ipython",
    "version": 3
   },
   "file_extension": ".py",
   "mimetype": "text/x-python",
   "name": "python",
   "nbconvert_exporter": "python",
   "pygments_lexer": "ipython3",
   "version": "3.12.7"
  }
 },
 "nbformat": 4,
 "nbformat_minor": 2
}
