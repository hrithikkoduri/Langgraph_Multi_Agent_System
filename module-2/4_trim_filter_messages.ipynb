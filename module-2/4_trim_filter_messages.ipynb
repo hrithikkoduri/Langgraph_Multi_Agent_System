{
 "cells": [
  {
   "cell_type": "code",
   "execution_count": 1,
   "metadata": {},
   "outputs": [],
   "source": [
    "from dotenv import load_dotenv\n",
    "from langchain_openai import ChatOpenAI\n",
    "import os\n",
    "\n",
    "load_dotenv()\n",
    "def set_env_vars(var):\n",
    "    os.environ[var] = os.getenv(var)\n",
    "\n",
    "\n",
    "vars = [\"OPENAI_API_KEY\", \"LANGCHAIN_API_KEY\", \"LANGCHAIN_TRACING_V2\", \"LANGCHAIN_ENDPOINT\", \"LANGCHAIN_PROJECT\"]\n",
    "\n",
    "for var in vars:\n",
    "    set_env_vars(var)\n",
    "\n",
    "llm = ChatOpenAI(model=\"gpt-4o-mini\")\n"
   ]
  },
  {
   "cell_type": "code",
   "execution_count": 5,
   "metadata": {},
   "outputs": [
    {
     "name": "stdout",
     "output_type": "stream",
     "text": [
      "==================================\u001b[1m Ai Message \u001b[0m==================================\n",
      "Name: Chatbot\n",
      "\n",
      "So you said you were researching about ocean animals?\n",
      "================================\u001b[1m Human Message \u001b[0m=================================\n",
      "Name: Hrithik\n",
      "\n",
      "Yes I know about whales but else should I lrean about?\n"
     ]
    }
   ],
   "source": [
    "from pprint import pprint\n",
    "from langchain_core.messages import HumanMessage, AIMessage\n",
    "\n",
    "messages = [AIMessage(content=\"So you said you were researching about ocean animals?\", name=\"Chatbot\"), \n",
    "            HumanMessage(content=\"Yes I know about whales but else should I lrean about?\", name=\"Hrithik\"), \n",
    "            ]\n",
    "\n",
    "for message in messages:\n",
    "    message.pretty_print()\n",
    "\n"
   ]
  },
  {
   "cell_type": "code",
   "execution_count": 6,
   "metadata": {},
   "outputs": [
    {
     "data": {
      "text/plain": [
       "AIMessage(content='There are many fascinating ocean animals you can learn about! Here are a few suggestions:\\n\\n1. **Dolphins**: Known for their intelligence and playful behavior, dolphins are social creatures that often live in pods.\\n\\n2. **Sharks**: These apex predators come in many species, each with unique adaptations. Learning about their role in marine ecosystems can be very enlightening.\\n\\n3. **Octopuses**: Known for their intelligence and ability to camouflage, octopuses have fascinating behaviors and biological features, including their eight arms and three hearts.\\n\\n4. **Sea Turtles**: These ancient reptiles have been around for millions of years. Learning about their life cycle and the challenges they face can be quite compelling.\\n\\n5. **Jellyfish**: With their mesmerizing movements and unique life cycles, jellyfish are intriguing creatures. Some species are bioluminescent, adding to their allure.\\n\\n6. **Coral Reefs**: While not an animal themselves, coral reefs are made up of tiny animals called polyps. They are vital to marine biodiversity and are often called the \"rainforests of the sea.\"\\n\\n7. **Sea Otters**: These playful marine mammals are known for their thick fur and use of tools. They play a crucial role in maintaining kelp forest ecosystems.\\n\\n8. **Mantis Shrimp**: These small but colorful creatures are known for their powerful claws and extraordinary vision. They can see polarized light and have one of the most complex visual systems in the animal kingdom.\\n\\n9. **Anglerfish**: Known for their bioluminescent lure, anglerfish are fascinating deep-sea dwellers that have unique adaptations for survival in dark environments.\\n\\n10. **Seahorses**: Unique for their reproductive role reversal, where males carry the young, seahorses are delicate and beautiful creatures worth learning about.\\n\\nExploring the diversity of ocean life can be both educational and inspiring! Which of these interests you the most?', additional_kwargs={'refusal': None}, response_metadata={'token_usage': {'completion_tokens': 401, 'prompt_tokens': 41, 'total_tokens': 442, 'completion_tokens_details': {'accepted_prediction_tokens': 0, 'audio_tokens': 0, 'reasoning_tokens': 0, 'rejected_prediction_tokens': 0}, 'prompt_tokens_details': {'audio_tokens': 0, 'cached_tokens': 0}}, 'model_name': 'gpt-4o-mini-2024-07-18', 'system_fingerprint': 'fp_0aa8d3e20b', 'finish_reason': 'stop', 'logprobs': None}, id='run-e55c72d6-22c5-4257-9734-e13b70f98ff3-0', usage_metadata={'input_tokens': 41, 'output_tokens': 401, 'total_tokens': 442, 'input_token_details': {'audio': 0, 'cache_read': 0}, 'output_token_details': {'audio': 0, 'reasoning': 0}})"
      ]
     },
     "execution_count": 6,
     "metadata": {},
     "output_type": "execute_result"
    }
   ],
   "source": [
    "llm.invoke(messages)"
   ]
  },
  {
   "cell_type": "code",
   "execution_count": 7,
   "metadata": {},
   "outputs": [
    {
     "data": {
      "image/png": "[encoded data removed]",
      "text/plain": [
       "<IPython.core.display.Image object>"
      ]
     },
     "metadata": {},
     "output_type": "display_data"
    }
   ],
   "source": [
    "from langgraph.graph import MessagesState, StateGraph, START, END\n",
    "from IPython.display import Image, display\n",
    "\n",
    "\n",
    "def chat_model_node(state: MessagesState) -> MessagesState:\n",
    "    return {\"messages\" : llm.invoke(state[\"messages\"])}\n",
    "\n",
    "builder = StateGraph(MessagesState)\n",
    "builder.add_node(\"chat_model_node\", chat_model_node)\n",
    "builder.add_edge(START, \"chat_model_node\")\n",
    "builder.add_edge(\"chat_model_node\", END)\n",
    "\n",
    "graph = builder.compile()\n",
    "\n",
    "display(Image(graph.get_graph().draw_mermaid_png()))\n"
   ]
  },
  {
   "cell_type": "code",
   "execution_count": 8,
   "metadata": {},
   "outputs": [
    {
     "name": "stdout",
     "output_type": "stream",
     "text": [
      "==================================\u001b[1m Ai Message \u001b[0m==================================\n",
      "Name: Chatbot\n",
      "\n",
      "So you said you were researching about ocean animals?\n",
      "================================\u001b[1m Human Message \u001b[0m=================================\n",
      "Name: Hrithik\n",
      "\n",
      "Yes I know about whales but else should I lrean about?\n",
      "==================================\u001b[1m Ai Message \u001b[0m==================================\n",
      "\n",
      "There are many fascinating ocean animals you can learn about! Here are a few suggestions:\n",
      "\n",
      "1. **Dolphins**: Known for their intelligence and social behavior, dolphins are often seen in pods and have complex communication skills.\n",
      "\n",
      "2. **Sharks**: These apex predators come in various species, each with unique adaptations. Learning about their role in the ecosystem can be quite interesting.\n",
      "\n",
      "3. **Octopuses**: Known for their intelligence and problem-solving abilities, octopuses have unique features like camouflage and the ability to regenerate limbs.\n",
      "\n",
      "4. **Sea Turtles**: These ancient mariners have fascinating life cycles and play important roles in marine ecosystems.\n",
      "\n",
      "5. **Coral Reefs**: While not an animal, coral reefs are home to a diverse range of marine life and are critical to ocean health. Learning about the symbiotic relationships within these ecosystems can be enlightening.\n",
      "\n",
      "6. **Jellyfish**: These creatures have been around for millions of years and have unique biology, including their ability to sting and their role in the marine food web.\n",
      "\n",
      "7. **Seahorses**: Unique for their reproductive role reversal, where males carry and protect the young, seahorses have intriguing adaptations.\n",
      "\n",
      "8. **Manta Rays**: These gentle giants are known for their size and grace, and they play a significant role in marine ecosystems.\n",
      "\n",
      "Each of these animals has unique characteristics, behaviors, and ecological importance. Which one are you most interested in?\n"
     ]
    }
   ],
   "source": [
    "result = graph.invoke({\"messages\": messages})\n",
    "\n",
    "for message in result[\"messages\"]:\n",
    "    message.pretty_print()"
   ]
  },
  {
   "cell_type": "markdown",
   "metadata": {},
   "source": [
    "# Reducer"
   ]
  },
  {
   "cell_type": "markdown",
   "metadata": {},
   "source": [
    "Modify the graph state to remove and send only the last two messages\n"
   ]
  },
  {
   "cell_type": "code",
   "execution_count": 10,
   "metadata": {},
   "outputs": [
    {
     "data": {
      "image/png": "[encoded data removed]",
      "text/plain": [
       "<IPython.core.display.Image object>"
      ]
     },
     "metadata": {},
     "output_type": "display_data"
    }
   ],
   "source": [
    "from langchain_core.messages import RemoveMessage\n",
    "\n",
    "def filter_messages(state: MessagesState) -> MessagesState:\n",
    "    delete_messages = [RemoveMessage(id=m.id) for m in state[\"messages\"][:-2]]\n",
    "    return {\"messages\" : delete_messages}\n",
    "\n",
    "def chat_model_node(state: MessagesState) -> MessagesState:\n",
    "    return {\"messages\" : llm.invoke(state[\"messages\"])} \n",
    "\n",
    "builder = StateGraph(MessagesState)\n",
    "builder.add_node(\"filter_messages\", filter_messages)\n",
    "builder.add_node(\"chat_model_node\", chat_model_node)\n",
    "builder.add_edge(START, \"filter_messages\")\n",
    "builder.add_edge(\"filter_messages\", \"chat_model_node\")\n",
    "builder.add_edge(\"chat_model_node\", END)\n",
    "\n",
    "graph = builder.compile()\n",
    "\n",
    "display(Image(graph.get_graph().draw_mermaid_png()))"
   ]
  },
  {
   "cell_type": "code",
   "execution_count": 11,
   "metadata": {},
   "outputs": [
    {
     "name": "stdout",
     "output_type": "stream",
     "text": [
      "==================================\u001b[1m Ai Message \u001b[0m==================================\n",
      "Name: Bot\n",
      "\n",
      "So you said you were researching ocean mammals?\n",
      "================================\u001b[1m Human Message \u001b[0m=================================\n",
      "Name: Hrithik\n",
      "\n",
      "Yes, I know about whales. But what others should I learn about?\n",
      "==================================\u001b[1m Ai Message \u001b[0m==================================\n",
      "\n",
      "In addition to whales, there are several fascinating ocean mammals you might want to explore:\n",
      "\n",
      "1. **Dolphins**: Known for their intelligence and social behavior, dolphins are often found in groups called pods. The bottlenose dolphin is one of the most recognized species.\n",
      "\n",
      "2. **Porpoises**: Similar to dolphins but generally smaller and with a different snout shape, porpoises are also social and can be found in various marine environments.\n",
      "\n",
      "3. **Seals**: There are two main types of seals: earless seals (phocids) and eared seals (otariids). They are known for their ability to swim and haul out on land.\n",
      "\n",
      "4. **Sea Lions**: A type of eared seal, sea lions are known for their loud barks and playful nature. They are often seen in coastal areas.\n",
      "\n",
      "5. **Manatees**: Also known as sea cows, manatees are gentle herbivores that inhabit warm coastal waters and rivers. They are known for their slow-moving lifestyle.\n",
      "\n",
      "6. **Dugongs**: Similar to manatees, dugongs are also herbivorous and are primarily found in warm coastal waters. They have a distinctive tail shape.\n",
      "\n",
      "7. **Narwhals**: Known for their long, spiral tusks, narwhals are often referred to as the \"unicorns of the sea.\" They are found in Arctic waters.\n",
      "\n",
      "8. **Orcas (Killer Whales)**: Highly social and intelligent, orcas are actually the largest members of the dolphin family. They are known for their complex social structures and hunting techniques.\n",
      "\n",
      "9. **Beluga Whales**: Known for their white color and vocalizations, belugas are often found in Arctic and sub-Arctic waters.\n",
      "\n",
      "10. **Sperm Whales**: The largest toothed whales, sperm whales are known for their deep diving abilities and can often be found in deep ocean waters.\n",
      "\n",
      "Each of these mammals has unique adaptations and behaviors that make them interesting subjects of study.\n"
     ]
    }
   ],
   "source": [
    "messages = [AIMessage(\"Hi.\", name=\"Bot\", id=\"1\")]\n",
    "messages.append(HumanMessage(\"Hi.\", name=\"Hrithik\", id=\"2\"))\n",
    "messages.append(AIMessage(\"So you said you were researching ocean mammals?\", name=\"Bot\", id=\"3\"))\n",
    "messages.append(HumanMessage(\"Yes, I know about whales. But what others should I learn about?\", name=\"Hrithik\", id=\"4\"))\n",
    "\n",
    "result = graph.invoke({\"messages\": messages})\n",
    "\n",
    "for message in result[\"messages\"]:\n",
    "    message.pretty_print()"
   ]
  },
  {
   "cell_type": "markdown",
   "metadata": {},
   "source": [
    "# Filtering Messages"
   ]
  },
  {
   "cell_type": "markdown",
   "metadata": {},
   "source": [
    "Doesnt modify the graph state just limit the number of messages sent to llm\n"
   ]
  },
  {
   "cell_type": "code",
   "execution_count": 13,
   "metadata": {},
   "outputs": [
    {
     "data": {
      "image/png": "[encoded data removed]",
      "text/plain": [
       "<IPython.core.display.Image object>"
      ]
     },
     "metadata": {},
     "output_type": "display_data"
    }
   ],
   "source": [
    "def chat_model_node(state: MessagesState) -> MessagesState:\n",
    "    return {\"messages\" : llm.invoke(state[\"messages\"][-1:])}\n",
    "\n",
    "builder = StateGraph(MessagesState)\n",
    "builder.add_node(\"chat_model_node\", chat_model_node)\n",
    "builder.add_edge(START, \"chat_model_node\")\n",
    "builder.add_edge(\"chat_model_node\", END)\n",
    "\n",
    "graph = builder.compile()\n",
    "\n",
    "display(Image(graph.get_graph().draw_mermaid_png()))"
   ]
  },
  {
   "cell_type": "code",
   "execution_count": 14,
   "metadata": {},
   "outputs": [
    {
     "name": "stdout",
     "output_type": "stream",
     "text": [
      "==================================\u001b[1m Ai Message \u001b[0m==================================\n",
      "Name: Bot\n",
      "\n",
      "Hi.\n",
      "================================\u001b[1m Human Message \u001b[0m=================================\n",
      "Name: Hrithik\n",
      "\n",
      "Hi.\n",
      "==================================\u001b[1m Ai Message \u001b[0m==================================\n",
      "Name: Bot\n",
      "\n",
      "So you said you were researching ocean mammals?\n",
      "================================\u001b[1m Human Message \u001b[0m=================================\n",
      "Name: Hrithik\n",
      "\n",
      "Yes, I know about whales. But what others should I learn about?\n",
      "==================================\u001b[1m Ai Message \u001b[0m==================================\n",
      "\n",
      "In addition to whales, there are several fascinating ocean mammals you might want to explore:\n",
      "\n",
      "1. **Dolphins**: Known for their intelligence and social behavior, dolphins are often found in groups called pods. The bottlenose dolphin is one of the most recognized species.\n",
      "\n",
      "2. **Porpoises**: Similar to dolphins but generally smaller and with a different snout shape, porpoises are also social and can be found in various marine environments.\n",
      "\n",
      "3. **Seals**: There are two main types of seals: earless seals (phocids) and eared seals (otariids). They are known for their ability to swim and haul out on land.\n",
      "\n",
      "4. **Sea Lions**: A type of eared seal, sea lions are known for their loud barks and playful nature. They are often seen in coastal areas.\n",
      "\n",
      "5. **Manatees**: Also known as sea cows, manatees are gentle herbivores that inhabit warm coastal waters and rivers. They are known for their slow-moving lifestyle.\n",
      "\n",
      "6. **Dugongs**: Similar to manatees, dugongs are also herbivorous and are primarily found in warm coastal waters. They have a distinctive tail shape.\n",
      "\n",
      "7. **Narwhals**: Known for their long, spiral tusks, narwhals are often referred to as the \"unicorns of the sea.\" They are found in Arctic waters.\n",
      "\n",
      "8. **Orcas (Killer Whales)**: Highly social and intelligent, orcas are actually the largest members of the dolphin family. They are known for their complex social structures and hunting techniques.\n",
      "\n",
      "9. **Beluga Whales**: Known for their white color and vocalizations, belugas are often found in Arctic and sub-Arctic waters.\n",
      "\n",
      "10. **Sperm Whales**: The largest toothed whales, sperm whales are known for their deep diving abilities and can often be found in deep ocean waters.\n",
      "\n",
      "Each of these mammals has unique adaptations and behaviors that make them interesting subjects of study.\n",
      "================================\u001b[1m Human Message \u001b[0m=================================\n",
      "Name: Hrithik\n",
      "\n",
      "Tell me more about whales!\n"
     ]
    }
   ],
   "source": [
    "messages.append(result[\"messages\"][-1])\n",
    "messages.append(HumanMessage(\"Tell me more about whales!\", name=\"Hrithik\", id=\"5\"))\n",
    "\n",
    "for message in messages:\n",
    "    message.pretty_print()\n",
    "\n"
   ]
  },
  {
   "cell_type": "code",
   "execution_count": 18,
   "metadata": {},
   "outputs": [
    {
     "name": "stdout",
     "output_type": "stream",
     "text": [
      "content='Hi.' additional_kwargs={} response_metadata={} name='Bot' id='1'\n",
      "content='Hi.' additional_kwargs={} response_metadata={} name='Hrithik' id='2'\n",
      "content='So you said you were researching ocean mammals?' additional_kwargs={} response_metadata={} name='Bot' id='3'\n",
      "content='Yes, I know about whales. But what others should I learn about?' additional_kwargs={} response_metadata={} name='Hrithik' id='4'\n",
      "content='In addition to whales, there are several fascinating ocean mammals you might want to explore:\\n\\n1. **Dolphins**: Known for their intelligence and social behavior, dolphins are often found in groups called pods. The bottlenose dolphin is one of the most recognized species.\\n\\n2. **Porpoises**: Similar to dolphins but generally smaller and with a different snout shape, porpoises are also social and can be found in various marine environments.\\n\\n3. **Seals**: There are two main types of seals: earless seals (phocids) and eared seals (otariids). They are known for their ability to swim and haul out on land.\\n\\n4. **Sea Lions**: A type of eared seal, sea lions are known for their loud barks and playful nature. They are often seen in coastal areas.\\n\\n5. **Manatees**: Also known as sea cows, manatees are gentle herbivores that inhabit warm coastal waters and rivers. They are known for their slow-moving lifestyle.\\n\\n6. **Dugongs**: Similar to manatees, dugongs are also herbivorous and are primarily found in warm coastal waters. They have a distinctive tail shape.\\n\\n7. **Narwhals**: Known for their long, spiral tusks, narwhals are often referred to as the \"unicorns of the sea.\" They are found in Arctic waters.\\n\\n8. **Orcas (Killer Whales)**: Highly social and intelligent, orcas are actually the largest members of the dolphin family. They are known for their complex social structures and hunting techniques.\\n\\n9. **Beluga Whales**: Known for their white color and vocalizations, belugas are often found in Arctic and sub-Arctic waters.\\n\\n10. **Sperm Whales**: The largest toothed whales, sperm whales are known for their deep diving abilities and can often be found in deep ocean waters.\\n\\nEach of these mammals has unique adaptations and behaviors that make them interesting subjects of study.' additional_kwargs={'refusal': None} response_metadata={'token_usage': {'completion_tokens': 414, 'prompt_tokens': 41, 'total_tokens': 455, 'completion_tokens_details': {'accepted_prediction_tokens': 0, 'audio_tokens': 0, 'reasoning_tokens': 0, 'rejected_prediction_tokens': 0}, 'prompt_tokens_details': {'audio_tokens': 0, 'cached_tokens': 0}}, 'model_name': 'gpt-4o-mini-2024-07-18', 'system_fingerprint': 'fp_0aa8d3e20b', 'finish_reason': 'stop', 'logprobs': None} id='run-e09c031f-b166-4fd0-be90-3aa4b9b1b4bf-0' usage_metadata={'input_tokens': 41, 'output_tokens': 414, 'total_tokens': 455, 'input_token_details': {'audio': 0, 'cache_read': 0}, 'output_token_details': {'audio': 0, 'reasoning': 0}}\n",
      "content='Tell me more about whales!' additional_kwargs={} response_metadata={} name='Hrithik' id='5'\n"
     ]
    }
   ],
   "source": [
    "for message in messages:\n",
    "    print(message)"
   ]
  },
  {
   "cell_type": "code",
   "execution_count": 22,
   "metadata": {},
   "outputs": [
    {
     "name": "stdout",
     "output_type": "stream",
     "text": [
      "==================================\u001b[1m Ai Message \u001b[0m==================================\n",
      "Name: Bot\n",
      "\n",
      "Hi.\n",
      "================================\u001b[1m Human Message \u001b[0m=================================\n",
      "Name: Hrithik\n",
      "\n",
      "Hi.\n",
      "==================================\u001b[1m Ai Message \u001b[0m==================================\n",
      "Name: Bot\n",
      "\n",
      "So you said you were researching ocean mammals?\n",
      "================================\u001b[1m Human Message \u001b[0m=================================\n",
      "Name: Hrithik\n",
      "\n",
      "Yes, I know about whales. But what others should I learn about?\n",
      "==================================\u001b[1m Ai Message \u001b[0m==================================\n",
      "\n",
      "In addition to whales, there are several fascinating ocean mammals you might want to explore:\n",
      "\n",
      "1. **Dolphins**: Known for their intelligence and social behavior, dolphins are often found in groups called pods. The bottlenose dolphin is one of the most recognized species.\n",
      "\n",
      "2. **Porpoises**: Similar to dolphins but generally smaller and with a different snout shape, porpoises are also social and can be found in various marine environments.\n",
      "\n",
      "3. **Seals**: There are two main types of seals: earless seals (phocids) and eared seals (otariids). They are known for their ability to swim and haul out on land.\n",
      "\n",
      "4. **Sea Lions**: A type of eared seal, sea lions are known for their loud barks and playful nature. They are often seen in coastal areas.\n",
      "\n",
      "5. **Manatees**: Also known as sea cows, manatees are gentle herbivores that inhabit warm coastal waters and rivers. They are known for their slow-moving lifestyle.\n",
      "\n",
      "6. **Dugongs**: Similar to manatees, dugongs are also herbivorous and are primarily found in warm coastal waters. They have a distinctive tail shape.\n",
      "\n",
      "7. **Narwhals**: Known for their long, spiral tusks, narwhals are often referred to as the \"unicorns of the sea.\" They are found in Arctic waters.\n",
      "\n",
      "8. **Orcas (Killer Whales)**: Highly social and intelligent, orcas are actually the largest members of the dolphin family. They are known for their complex social structures and hunting techniques.\n",
      "\n",
      "9. **Beluga Whales**: Known for their white color and vocalizations, belugas are often found in Arctic and sub-Arctic waters.\n",
      "\n",
      "10. **Sperm Whales**: The largest toothed whales, sperm whales are known for their deep diving abilities and can often be found in deep ocean waters.\n",
      "\n",
      "Each of these mammals has unique adaptations and behaviors that make them interesting subjects of study.\n",
      "================================\u001b[1m Human Message \u001b[0m=================================\n",
      "Name: Hrithik\n",
      "\n",
      "Tell me more about Seals!\n"
     ]
    }
   ],
   "source": [
    "from langgraph.graph.message import add_messages\n",
    "new_message = HumanMessage(content=\"Tell me more about Seals!\", name=\"Hrithik\", id=\"5\")\n",
    "\n",
    "messages = add_messages(messages, new_message)\n",
    "\n",
    "for message in messages:\n",
    "    message.pretty_print()\n",
    "\n",
    "\n"
   ]
  },
  {
   "cell_type": "code",
   "execution_count": 23,
   "metadata": {},
   "outputs": [
    {
     "name": "stdout",
     "output_type": "stream",
     "text": [
      "==================================\u001b[1m Ai Message \u001b[0m==================================\n",
      "Name: Bot\n",
      "\n",
      "Hi.\n",
      "================================\u001b[1m Human Message \u001b[0m=================================\n",
      "Name: Hrithik\n",
      "\n",
      "Hi.\n",
      "==================================\u001b[1m Ai Message \u001b[0m==================================\n",
      "Name: Bot\n",
      "\n",
      "So you said you were researching ocean mammals?\n",
      "================================\u001b[1m Human Message \u001b[0m=================================\n",
      "Name: Hrithik\n",
      "\n",
      "Yes, I know about whales. But what others should I learn about?\n",
      "==================================\u001b[1m Ai Message \u001b[0m==================================\n",
      "\n",
      "In addition to whales, there are several fascinating ocean mammals you might want to explore:\n",
      "\n",
      "1. **Dolphins**: Known for their intelligence and social behavior, dolphins are often found in groups called pods. The bottlenose dolphin is one of the most recognized species.\n",
      "\n",
      "2. **Porpoises**: Similar to dolphins but generally smaller and with a different snout shape, porpoises are also social and can be found in various marine environments.\n",
      "\n",
      "3. **Seals**: There are two main types of seals: earless seals (phocids) and eared seals (otariids). They are known for their ability to swim and haul out on land.\n",
      "\n",
      "4. **Sea Lions**: A type of eared seal, sea lions are known for their loud barks and playful nature. They are often seen in coastal areas.\n",
      "\n",
      "5. **Manatees**: Also known as sea cows, manatees are gentle herbivores that inhabit warm coastal waters and rivers. They are known for their slow-moving lifestyle.\n",
      "\n",
      "6. **Dugongs**: Similar to manatees, dugongs are also herbivorous and are primarily found in warm coastal waters. They have a distinctive tail shape.\n",
      "\n",
      "7. **Narwhals**: Known for their long, spiral tusks, narwhals are often referred to as the \"unicorns of the sea.\" They are found in Arctic waters.\n",
      "\n",
      "8. **Orcas (Killer Whales)**: Highly social and intelligent, orcas are actually the largest members of the dolphin family. They are known for their complex social structures and hunting techniques.\n",
      "\n",
      "9. **Beluga Whales**: Known for their white color and vocalizations, belugas are often found in Arctic and sub-Arctic waters.\n",
      "\n",
      "10. **Sperm Whales**: The largest toothed whales, sperm whales are known for their deep diving abilities and can often be found in deep ocean waters.\n",
      "\n",
      "Each of these mammals has unique adaptations and behaviors that make them interesting subjects of study.\n",
      "================================\u001b[1m Human Message \u001b[0m=================================\n",
      "Name: Hrithik\n",
      "\n",
      "Tell me more about Seals!\n",
      "==================================\u001b[1m Ai Message \u001b[0m==================================\n",
      "\n",
      "Seals are marine mammals belonging to the family Phocidae (true seals) and Otariidae (eared seals), which includes seal species like sea lions and fur seals. They are found in various oceans around the world, primarily in colder regions, although some species inhabit temperate and tropical waters as well.\n",
      "\n",
      "### Characteristics:\n",
      "- **Body Structure:** Seals have streamlined bodies that are adapted for swimming. They possess flippers instead of limbs, which aid in their aquatic lifestyle.\n",
      "- **Fur and Blubber:** Most seals have a layer of blubber beneath their skin, which helps insulate them against cold water temperatures. Their fur can vary in color and thickness depending on the species and habitat.\n",
      "- **Eyesight and Hearing:** Seals have excellent underwater vision and can hear well both in and out of water. Their eyes are adapted to see in low light conditions, which aids in hunting.\n",
      "\n",
      "### Behavior:\n",
      "- **Diet:** Seals are carnivorous and primarily feed on fish, squid, and other marine organisms. Their hunting techniques vary among species; some dive deep while others prefer to hunt near the surface.\n",
      "- **Social Structure:** Many seal species are social animals, often found in large groups, especially during breeding seasons. They may communicate using vocalizations, body language, and even scent marking.\n",
      "\n",
      "### Reproduction:\n",
      "- **Breeding:** Seals typically breed on land or ice, where females give birth to a single pup after a gestation period that can last several months. Mothers nurse their pups for a short period, during which the pups gain weight rapidly.\n",
      "- **Moulting:** After the breeding season, seals undergo a moult, shedding their old fur for new. This is important for maintaining insulation and buoyancy.\n",
      "\n",
      "### Conservation:\n",
      "Many seal species face threats from climate change, habitat loss, pollution, and hunting. Conservation efforts are in place for some species, focusing on habitat protection, reducing human impacts, and monitoring populations.\n",
      "\n",
      "### Interesting Facts:\n",
      "- The largest seal species is the elephant seal, which can weigh up to 4,500 pounds (2,000 kg).\n",
      "- The smallest seal is the harbor seal, which can weigh around 100 to 300 pounds (45 to 136 kg).\n",
      "- Seals are known for their playful behavior and are often seen riding waves or playing with each other.\n",
      "\n",
      "Overall, seals are fascinating creatures that play an important role in marine ecosystems. Their adaptations make them unique among marine mammals, and they are a subject of interest for researchers and wildlife enthusiasts alike.\n"
     ]
    }
   ],
   "source": [
    "result = graph.invoke({\"messages\": messages})\n",
    "\n",
    "for message in result[\"messages\"]:\n",
    "    message.pretty_print()"
   ]
  },
  {
   "cell_type": "markdown",
   "metadata": {},
   "source": [
    "# Trim Messages"
   ]
  },
  {
   "cell_type": "code",
   "execution_count": 34,
   "metadata": {},
   "outputs": [
    {
     "data": {
      "image/png": "[encoded data removed]",
      "text/plain": [
       "<IPython.core.display.Image object>"
      ]
     },
     "metadata": {},
     "output_type": "display_data"
    }
   ],
   "source": [
    "from langchain_core.messages import trim_messages\n",
    "\n",
    "def chat_model_node(state: MessagesState) -> MessagesState:\n",
    "    messages = trim_messages(\n",
    "            state[\"messages\"],\n",
    "            max_tokens=100,\n",
    "            strategy = \"last\",\n",
    "            token_counter = ChatOpenAI(model=\"gpt-4o\"),\n",
    "            allow_partial=True,\n",
    "        )\n",
    "    return {\"messages\": [llm.invoke(messages)]}\n",
    "\n",
    "builder = StateGraph(MessagesState)\n",
    "builder.add_node(\"chat_model_node\", chat_model_node)\n",
    "builder.add_edge(START, \"chat_model_node\")\n",
    "builder.add_edge(\"chat_model_node\", END)\n",
    "\n",
    "graph = builder.compile()\n",
    "\n",
    "display(Image(graph.get_graph().draw_mermaid_png()))"
   ]
  },
  {
   "cell_type": "code",
   "execution_count": 26,
   "metadata": {},
   "outputs": [
    {
     "name": "stdout",
     "output_type": "stream",
     "text": [
      "==================================\u001b[1m Ai Message \u001b[0m==================================\n",
      "Name: Bot\n",
      "\n",
      "Hi.\n",
      "================================\u001b[1m Human Message \u001b[0m=================================\n",
      "Name: Hrithik\n",
      "\n",
      "Hi.\n",
      "==================================\u001b[1m Ai Message \u001b[0m==================================\n",
      "Name: Bot\n",
      "\n",
      "So you said you were researching ocean mammals?\n",
      "================================\u001b[1m Human Message \u001b[0m=================================\n",
      "Name: Hrithik\n",
      "\n",
      "Yes, I know about whales. But what others should I learn about?\n",
      "==================================\u001b[1m Ai Message \u001b[0m==================================\n",
      "\n",
      "In addition to whales, there are several fascinating ocean mammals you might want to explore:\n",
      "\n",
      "1. **Dolphins**: Known for their intelligence and social behavior, dolphins are often found in groups called pods. The bottlenose dolphin is one of the most recognized species.\n",
      "\n",
      "2. **Porpoises**: Similar to dolphins but generally smaller and with a different snout shape, porpoises are also social and can be found in various marine environments.\n",
      "\n",
      "3. **Seals**: There are two main types of seals: earless seals (phocids) and eared seals (otariids). They are known for their ability to swim and haul out on land.\n",
      "\n",
      "4. **Sea Lions**: A type of eared seal, sea lions are known for their loud barks and playful nature. They are often seen in coastal areas.\n",
      "\n",
      "5. **Manatees**: Also known as sea cows, manatees are gentle herbivores that inhabit warm coastal waters and rivers. They are known for their slow-moving lifestyle.\n",
      "\n",
      "6. **Dugongs**: Similar to manatees, dugongs are also herbivorous and are primarily found in warm coastal waters. They have a distinctive tail shape.\n",
      "\n",
      "7. **Narwhals**: Known for their long, spiral tusks, narwhals are often referred to as the \"unicorns of the sea.\" They are found in Arctic waters.\n",
      "\n",
      "8. **Orcas (Killer Whales)**: Highly social and intelligent, orcas are actually the largest members of the dolphin family. They are known for their complex social structures and hunting techniques.\n",
      "\n",
      "9. **Beluga Whales**: Known for their white color and vocalizations, belugas are often found in Arctic and sub-Arctic waters.\n",
      "\n",
      "10. **Sperm Whales**: The largest toothed whales, sperm whales are known for their deep diving abilities and can often be found in deep ocean waters.\n",
      "\n",
      "Each of these mammals has unique adaptations and behaviors that make them interesting subjects of study.\n",
      "================================\u001b[1m Human Message \u001b[0m=================================\n",
      "Name: Hrithik\n",
      "\n",
      "Tell me more about Seals!\n",
      "==================================\u001b[1m Ai Message \u001b[0m==================================\n",
      "\n",
      "Seals are marine mammals belonging to the family Phocidae (true seals) and Otariidae (eared seals), which includes seal species like sea lions and fur seals. They are found in various oceans around the world, primarily in colder regions, although some species inhabit temperate and tropical waters as well.\n",
      "\n",
      "### Characteristics:\n",
      "- **Body Structure:** Seals have streamlined bodies that are adapted for swimming. They possess flippers instead of limbs, which aid in their aquatic lifestyle.\n",
      "- **Fur and Blubber:** Most seals have a layer of blubber beneath their skin, which helps insulate them against cold water temperatures. Their fur can vary in color and thickness depending on the species and habitat.\n",
      "- **Eyesight and Hearing:** Seals have excellent underwater vision and can hear well both in and out of water. Their eyes are adapted to see in low light conditions, which aids in hunting.\n",
      "\n",
      "### Behavior:\n",
      "- **Diet:** Seals are carnivorous and primarily feed on fish, squid, and other marine organisms. Their hunting techniques vary among species; some dive deep while others prefer to hunt near the surface.\n",
      "- **Social Structure:** Many seal species are social animals, often found in large groups, especially during breeding seasons. They may communicate using vocalizations, body language, and even scent marking.\n",
      "\n",
      "### Reproduction:\n",
      "- **Breeding:** Seals typically breed on land or ice, where females give birth to a single pup after a gestation period that can last several months. Mothers nurse their pups for a short period, during which the pups gain weight rapidly.\n",
      "- **Moulting:** After the breeding season, seals undergo a moult, shedding their old fur for new. This is important for maintaining insulation and buoyancy.\n",
      "\n",
      "### Conservation:\n",
      "Many seal species face threats from climate change, habitat loss, pollution, and hunting. Conservation efforts are in place for some species, focusing on habitat protection, reducing human impacts, and monitoring populations.\n",
      "\n",
      "### Interesting Facts:\n",
      "- The largest seal species is the elephant seal, which can weigh up to 4,500 pounds (2,000 kg).\n",
      "- The smallest seal is the harbor seal, which can weigh around 100 to 300 pounds (45 to 136 kg).\n",
      "- Seals are known for their playful behavior and are often seen riding waves or playing with each other.\n",
      "\n",
      "Overall, seals are fascinating creatures that play an important role in marine ecosystems. Their adaptations make them unique among marine mammals, and they are a subject of interest for researchers and wildlife enthusiasts alike.\n"
     ]
    }
   ],
   "source": [
    "messages.append(result[\"messages\"][-1])\n",
    "\n",
    "for message in messages:\n",
    "    message.pretty_print()"
   ]
  },
  {
   "cell_type": "code",
   "execution_count": 27,
   "metadata": {},
   "outputs": [],
   "source": [
    "messages.append(HumanMessage(\"Tell me hot Seals reproduce\", name=\"Hrithik\"))"
   ]
  },
  {
   "cell_type": "code",
   "execution_count": 33,
   "metadata": {},
   "outputs": [
    {
     "data": {
      "text/plain": [
       "[AIMessage(content='- Seals are known for their playful behavior and are often seen riding waves or playing with each other.\\n\\nOverall, seals are fascinating creatures that play an important role in marine ecosystems. Their adaptations make them unique among marine mammals, and they are a subject of interest for researchers and wildlife enthusiasts alike.', additional_kwargs={'refusal': None}, response_metadata={'token_usage': {'completion_tokens': 511, 'prompt_tokens': 18, 'total_tokens': 529, 'completion_tokens_details': {'accepted_prediction_tokens': 0, 'audio_tokens': 0, 'reasoning_tokens': 0, 'rejected_prediction_tokens': 0}, 'prompt_tokens_details': {'audio_tokens': 0, 'cached_tokens': 0}}, 'model_name': 'gpt-4o-mini-2024-07-18', 'system_fingerprint': 'fp_d02d531b47', 'finish_reason': 'stop', 'logprobs': None}, id='run-71a56884-3db6-48f2-820e-7e78d05277c3-0', usage_metadata={'input_tokens': 18, 'output_tokens': 511, 'total_tokens': 529, 'input_token_details': {'audio': 0, 'cache_read': 0}, 'output_token_details': {'audio': 0, 'reasoning': 0}}),\n",
       " HumanMessage(content='Tell me hot Seals reproduce', additional_kwargs={}, response_metadata={}, name='Hrithik')]"
      ]
     },
     "execution_count": 33,
     "metadata": {},
     "output_type": "execute_result"
    }
   ],
   "source": [
    "trim_messages(messages, max_tokens=100, strategy=\"last\", token_counter=ChatOpenAI(model=\"gpt-4o\"), allow_partial=True)"
   ]
  },
  {
   "cell_type": "code",
   "execution_count": 35,
   "metadata": {},
   "outputs": [
    {
     "name": "stdout",
     "output_type": "stream",
     "text": [
      "==================================\u001b[1m Ai Message \u001b[0m==================================\n",
      "Name: Bot\n",
      "\n",
      "Hi.\n",
      "================================\u001b[1m Human Message \u001b[0m=================================\n",
      "Name: Hrithik\n",
      "\n",
      "Hi.\n",
      "==================================\u001b[1m Ai Message \u001b[0m==================================\n",
      "Name: Bot\n",
      "\n",
      "So you said you were researching ocean mammals?\n",
      "================================\u001b[1m Human Message \u001b[0m=================================\n",
      "Name: Hrithik\n",
      "\n",
      "Yes, I know about whales. But what others should I learn about?\n",
      "==================================\u001b[1m Ai Message \u001b[0m==================================\n",
      "\n",
      "In addition to whales, there are several fascinating ocean mammals you might want to explore:\n",
      "\n",
      "1. **Dolphins**: Known for their intelligence and social behavior, dolphins are often found in groups called pods. The bottlenose dolphin is one of the most recognized species.\n",
      "\n",
      "2. **Porpoises**: Similar to dolphins but generally smaller and with a different snout shape, porpoises are also social and can be found in various marine environments.\n",
      "\n",
      "3. **Seals**: There are two main types of seals: earless seals (phocids) and eared seals (otariids). They are known for their ability to swim and haul out on land.\n",
      "\n",
      "4. **Sea Lions**: A type of eared seal, sea lions are known for their loud barks and playful nature. They are often seen in coastal areas.\n",
      "\n",
      "5. **Manatees**: Also known as sea cows, manatees are gentle herbivores that inhabit warm coastal waters and rivers. They are known for their slow-moving lifestyle.\n",
      "\n",
      "6. **Dugongs**: Similar to manatees, dugongs are also herbivorous and are primarily found in warm coastal waters. They have a distinctive tail shape.\n",
      "\n",
      "7. **Narwhals**: Known for their long, spiral tusks, narwhals are often referred to as the \"unicorns of the sea.\" They are found in Arctic waters.\n",
      "\n",
      "8. **Orcas (Killer Whales)**: Highly social and intelligent, orcas are actually the largest members of the dolphin family. They are known for their complex social structures and hunting techniques.\n",
      "\n",
      "9. **Beluga Whales**: Known for their white color and vocalizations, belugas are often found in Arctic and sub-Arctic waters.\n",
      "\n",
      "10. **Sperm Whales**: The largest toothed whales, sperm whales are known for their deep diving abilities and can often be found in deep ocean waters.\n",
      "\n",
      "Each of these mammals has unique adaptations and behaviors that make them interesting subjects of study.\n",
      "================================\u001b[1m Human Message \u001b[0m=================================\n",
      "Name: Hrithik\n",
      "\n",
      "Tell me more about Seals!\n",
      "==================================\u001b[1m Ai Message \u001b[0m==================================\n",
      "\n",
      "Seals are marine mammals belonging to the family Phocidae (true seals) and Otariidae (eared seals), which includes seal species like sea lions and fur seals. They are found in various oceans around the world, primarily in colder regions, although some species inhabit temperate and tropical waters as well.\n",
      "\n",
      "### Characteristics:\n",
      "- **Body Structure:** Seals have streamlined bodies that are adapted for swimming. They possess flippers instead of limbs, which aid in their aquatic lifestyle.\n",
      "- **Fur and Blubber:** Most seals have a layer of blubber beneath their skin, which helps insulate them against cold water temperatures. Their fur can vary in color and thickness depending on the species and habitat.\n",
      "- **Eyesight and Hearing:** Seals have excellent underwater vision and can hear well both in and out of water. Their eyes are adapted to see in low light conditions, which aids in hunting.\n",
      "\n",
      "### Behavior:\n",
      "- **Diet:** Seals are carnivorous and primarily feed on fish, squid, and other marine organisms. Their hunting techniques vary among species; some dive deep while others prefer to hunt near the surface.\n",
      "- **Social Structure:** Many seal species are social animals, often found in large groups, especially during breeding seasons. They may communicate using vocalizations, body language, and even scent marking.\n",
      "\n",
      "### Reproduction:\n",
      "- **Breeding:** Seals typically breed on land or ice, where females give birth to a single pup after a gestation period that can last several months. Mothers nurse their pups for a short period, during which the pups gain weight rapidly.\n",
      "- **Moulting:** After the breeding season, seals undergo a moult, shedding their old fur for new. This is important for maintaining insulation and buoyancy.\n",
      "\n",
      "### Conservation:\n",
      "Many seal species face threats from climate change, habitat loss, pollution, and hunting. Conservation efforts are in place for some species, focusing on habitat protection, reducing human impacts, and monitoring populations.\n",
      "\n",
      "### Interesting Facts:\n",
      "- The largest seal species is the elephant seal, which can weigh up to 4,500 pounds (2,000 kg).\n",
      "- The smallest seal is the harbor seal, which can weigh around 100 to 300 pounds (45 to 136 kg).\n",
      "- Seals are known for their playful behavior and are often seen riding waves or playing with each other.\n",
      "\n",
      "Overall, seals are fascinating creatures that play an important role in marine ecosystems. Their adaptations make them unique among marine mammals, and they are a subject of interest for researchers and wildlife enthusiasts alike.\n",
      "================================\u001b[1m Human Message \u001b[0m=================================\n",
      "Name: Hrithik\n",
      "\n",
      "Tell me hot Seals reproduce\n",
      "==================================\u001b[1m Ai Message \u001b[0m==================================\n",
      "\n",
      "Seals reproduce through a process known as breeding, which varies somewhat among different species. Here’s a general overview of how seals reproduce:\n",
      "\n",
      "1. **Mating Season**: Most seal species have a specific breeding season, which can vary depending on their geographical location. During this time, males will often establish territories and compete for the attention of females.\n",
      "\n",
      "2. **Courtship**: Males may engage in courtship behaviors to attract females. This can include vocalizations, displays of strength, or physical displays.\n",
      "\n",
      "3. **Copulation**: Once a female has chosen a mate, copulation occurs. This can happen both on land and in water, depending on the species.\n",
      "\n",
      "4. **Gestation**: After mating, the female seal undergoes a gestation period that typically lasts several months. For example, harbor seals have a gestation period of about 11 months.\n",
      "\n",
      "5. **Pupping**: When the female is ready to give birth, she will typically find a safe and suitable location, such as a beach or ice floe, to deliver her pup. Most seal species give birth to a single pup at a time, although some may have twins.\n",
      "\n",
      "6. **Nursing**: After birth, the mother nurses her pup, providing it with rich milk that helps it grow quickly. Seal pups are usually born with a blubber layer that helps them stay warm in cold waters.\n",
      "\n",
      "7. **Weaning**: The nursing period varies by species but typically lasts several weeks to a few months. After this period, the pup will begin to learn how to hunt and fend for itself.\n",
      "\n",
      "8. **Independence**: Eventually, the pup will become independent and leave its mother to start its own life.\n",
      "\n",
      "Reproductive strategies and behaviors can differ significantly among the many species of seals, but this overview captures the general process.\n"
     ]
    }
   ],
   "source": [
    "result_with_trim_msgs = graph.invoke({\"messages\": messages})\n",
    "\n",
    "for message in result_with_trim_msgs[\"messages\"]:\n",
    "    message.pretty_print()"
   ]
  }
 ],
 "metadata": {
  "kernelspec": {
   "display_name": "venv",
   "language": "python",
   "name": "python3"
  },
  "language_info": {
   "codemirror_mode": {
    "name": "ipython",
    "version": 3
   },
   "file_extension": ".py",
   "mimetype": "text/x-python",
   "name": "python",
   "nbconvert_exporter": "python",
   "pygments_lexer": "ipython3",
   "version": "3.12.7"
  }
 },
 "nbformat": 4,
 "nbformat_minor": 2
}
