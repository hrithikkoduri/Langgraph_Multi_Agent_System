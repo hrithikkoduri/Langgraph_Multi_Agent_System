{
 "cells": [
  {
   "cell_type": "code",
   "execution_count": 1,
   "metadata": {},
   "outputs": [],
   "source": [
    "from dotenv import load_dotenv\n",
    "from langchain_openai import ChatOpenAI\n",
    "import os\n",
    "\n",
    "load_dotenv()\n",
    "def set_env_vars(var):\n",
    "    os.environ[var] = os.getenv(var)\n",
    "\n",
    "\n",
    "vars = [\"OPENAI_API_KEY\", \"LANGCHAIN_API_KEY\", \"LANGCHAIN_TRACING_V2\", \"LANGCHAIN_ENDPOINT\", \"LANGCHAIN_PROJECT\"]\n",
    "\n",
    "for var in vars:\n",
    "    set_env_vars(var)\n",
    "\n",
    "llm = ChatOpenAI(model=\"gpt-4o-mini\")\n"
   ]
  },
  {
   "cell_type": "code",
   "execution_count": 2,
   "metadata": {},
   "outputs": [],
   "source": [
    "from langgraph.graph import MessagesState\n",
    "\n",
    "class State(MessagesState): #already has messages key\n",
    "    summary: str"
   ]
  },
  {
   "cell_type": "code",
   "execution_count": 3,
   "metadata": {},
   "outputs": [],
   "source": [
    "from langchain_core.messages import SystemMessage, HumanMessage, RemoveMessage\n",
    "\n",
    "def call_model(state: State) -> State:\n",
    "\n",
    "    summary = state.get(\"summary\", \"\")\n",
    "\n",
    "    if summary:\n",
    "        system_message = f\"Summary of the conversation earlier: {summary}\"\n",
    "        \n",
    "        messages = [SystemMessage(content=system_message)] + state[\"messages\"]\n",
    "    \n",
    "    else:\n",
    "        messages = state[\"messages\"]\n",
    "\n",
    "    result = llm.invoke(messages)\n",
    "    return {\"messages\": result}\n"
   ]
  },
  {
   "cell_type": "code",
   "execution_count": 4,
   "metadata": {},
   "outputs": [],
   "source": [
    "def summarize_messages(state: State) -> State:\n",
    "\n",
    "    summary = state.get(\"summary\", \"\")\n",
    "\n",
    "    if summary:\n",
    "        summary_message = (\n",
    "            f\"This is the summary of the conversation earlier: {summary}\\n\\n\"\n",
    "            \"Extend the summary by taking into account the new messages above:\"\n",
    "        )\n",
    "    else:\n",
    "        summary_message = \"Summarize the conversation above:\"\n",
    "\n",
    "    messages = state[\"messages\"] + [HumanMessage(content=summary_message)] \n",
    "    result = llm.invoke(messages)\n",
    "\n",
    "    delete_messages = [RemoveMessage(id=m.id) for m in state[\"messages\"][:-2]]\n",
    "    return {\"summary\": result.content, \"messages\": delete_messages }"
   ]
  },
  {
   "cell_type": "code",
   "execution_count": 5,
   "metadata": {},
   "outputs": [],
   "source": [
    "from langgraph.graph import StateGraph, START, END\n",
    "\n",
    "def should_continue(state: State) -> State:\n",
    "    messages = state[\"messages\"]\n",
    "\n",
    "    if len(messages) > 6:\n",
    "        return \"summarize_messages\"\n",
    "    else:\n",
    "        return END\n",
    "\n"
   ]
  },
  {
   "cell_type": "code",
   "execution_count": 13,
   "metadata": {},
   "outputs": [
    {
     "data": {
      "image/png": "[encoded data removed]",
      "text/plain": [
       "<IPython.core.display.Image object>"
      ]
     },
     "metadata": {},
     "output_type": "display_data"
    }
   ],
   "source": [
    "from langgraph.checkpoint.memory import MemorySaver\n",
    "from IPython.display import Image, display\n",
    "\n",
    "workflow = StateGraph(State)\n",
    "\n",
    "workflow.add_node(\"call_model\", call_model)\n",
    "workflow.add_node(\"summarize_messages\", summarize_messages)\n",
    "\n",
    "\n",
    "workflow.add_edge(START, \"call_model\")\n",
    "workflow.add_conditional_edges(\"call_model\", should_continue)\n",
    "workflow.add_edge(\"summarize_messages\", END)\n",
    "\n",
    "graph = workflow.compile(checkpointer=MemorySaver())\n",
    "\n",
    "display(Image(graph.get_graph().draw_mermaid_png()))"
   ]
  },
  {
   "cell_type": "code",
   "execution_count": 14,
   "metadata": {},
   "outputs": [
    {
     "name": "stdout",
     "output_type": "stream",
     "text": [
      "================================\u001b[1m Human Message \u001b[0m=================================\n",
      "\n",
      "Hello, I am Hrithik?\n",
      "==================================\u001b[1m Ai Message \u001b[0m==================================\n",
      "\n",
      "Hello Hrithik! How can I assist you today?\n"
     ]
    }
   ],
   "source": [
    "config = {\"configurable\" : {\"thread_id\" : \"123\"}}\n",
    "\n",
    "\n",
    "input_message = [HumanMessage(content=\"Hello, I am Hrithik?\")]\n",
    "output = graph.invoke({\"messages\" : input_message}, config)\n",
    "for message in output[\"messages\"]:\n",
    "    message.pretty_print()\n"
   ]
  },
  {
   "cell_type": "code",
   "execution_count": 15,
   "metadata": {},
   "outputs": [
    {
     "name": "stdout",
     "output_type": "stream",
     "text": [
      "================================\u001b[1m Human Message \u001b[0m=================================\n",
      "\n",
      "Hello, I am Hrithik?\n",
      "==================================\u001b[1m Ai Message \u001b[0m==================================\n",
      "\n",
      "Hello Hrithik! How can I assist you today?\n",
      "================================\u001b[1m Human Message \u001b[0m=================================\n",
      "\n",
      "What is my name?\n",
      "==================================\u001b[1m Ai Message \u001b[0m==================================\n",
      "\n",
      "Your name is Hrithik. How can I help you today?\n"
     ]
    }
   ],
   "source": [
    "input_message = [HumanMessage(content=\"What is my name?\")]\n",
    "output = graph.invoke({\"messages\" : input_message}, config)\n",
    "for message in output[\"messages\"]:\n",
    "    message.pretty_print()"
   ]
  },
  {
   "cell_type": "code",
   "execution_count": 16,
   "metadata": {},
   "outputs": [
    {
     "name": "stdout",
     "output_type": "stream",
     "text": [
      "================================\u001b[1m Human Message \u001b[0m=================================\n",
      "\n",
      "Hello, I am Hrithik?\n",
      "==================================\u001b[1m Ai Message \u001b[0m==================================\n",
      "\n",
      "Hello Hrithik! How can I assist you today?\n",
      "================================\u001b[1m Human Message \u001b[0m=================================\n",
      "\n",
      "What is my name?\n",
      "==================================\u001b[1m Ai Message \u001b[0m==================================\n",
      "\n",
      "Your name is Hrithik. How can I help you today?\n",
      "================================\u001b[1m Human Message \u001b[0m=================================\n",
      "\n",
      "I like Golden State Warriors!\n",
      "==================================\u001b[1m Ai Message \u001b[0m==================================\n",
      "\n",
      "Great choice! The Golden State Warriors have a rich history and a strong fan base. Do you have a favorite player or moment from the team?\n"
     ]
    }
   ],
   "source": [
    "input_message = [HumanMessage(content=\"I like Golden State Warriors!\")]\n",
    "output = graph.invoke({\"messages\" : input_message}, config)\n",
    "for message in output[\"messages\"]:\n",
    "    message.pretty_print()"
   ]
  },
  {
   "cell_type": "code",
   "execution_count": 17,
   "metadata": {},
   "outputs": [
    {
     "data": {
      "text/plain": [
       "''"
      ]
     },
     "execution_count": 17,
     "metadata": {},
     "output_type": "execute_result"
    }
   ],
   "source": [
    "graph.get_state(config).values.get(\"summary\", \"\")"
   ]
  },
  {
   "cell_type": "code",
   "execution_count": 18,
   "metadata": {},
   "outputs": [
    {
     "name": "stdout",
     "output_type": "stream",
     "text": [
      "================================\u001b[1m Human Message \u001b[0m=================================\n",
      "\n",
      "I am huge fan of Stephen Curry! Isnt he the one with highest 3 point shots?\n",
      "==================================\u001b[1m Ai Message \u001b[0m==================================\n",
      "\n",
      "Yes, that's correct! Stephen Curry is widely regarded as one of the greatest shooters in NBA history, and he holds the record for the most three-point field goals made in the regular season. His ability to shoot from long range has transformed the game and inspired many players to develop their three-point shooting skills. What do you like most about his game?\n"
     ]
    }
   ],
   "source": [
    "input_message = [HumanMessage(content=\"I am huge fan of Stephen Curry! Isnt he the one with highest 3 point shots?\")]\n",
    "output = graph.invoke({\"messages\" : input_message}, config)\n",
    "for message in output[\"messages\"]:\n",
    "    message.pretty_print()"
   ]
  },
  {
   "cell_type": "code",
   "execution_count": 27,
   "metadata": {},
   "outputs": [
    {
     "data": {
      "text/plain": [
       "'In the conversation, you introduced yourself as Hrithik and mentioned that you\\nare a fan of the Golden State Warriors, particularly Stephen Curry. I confirmed\\nthat Curry holds the record for the most three-point shots made in NBA history\\nand asked what you like most about his game.'"
      ]
     },
     "execution_count": 27,
     "metadata": {},
     "output_type": "execute_result"
    }
   ],
   "source": [
    "import textwrap\n",
    "\n",
    "summary = output[\"summary\"]\n",
    "textwrap.fill(summary, width=80)\n"
   ]
  }
 ],
 "metadata": {
  "kernelspec": {
   "display_name": "venv",
   "language": "python",
   "name": "python3"
  },
  "language_info": {
   "codemirror_mode": {
    "name": "ipython",
    "version": 3
   },
   "file_extension": ".py",
   "mimetype": "text/x-python",
   "name": "python",
   "nbconvert_exporter": "python",
   "pygments_lexer": "ipython3",
   "version": "3.12.7"
  }
 },
 "nbformat": 4,
 "nbformat_minor": 2
}
