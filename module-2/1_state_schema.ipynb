{
 "cells": [
  {
   "cell_type": "markdown",
   "metadata": {},
   "source": [
    "Schema Defined using StateGraph\n",
    "\n",
    "LangGraph offers flexibility in how you define your state schema, accommodating various Python [types](https://docs.python.org/3/library/stdtypes.html#type-objects) and validation approaches!"
   ]
  },
  {
   "cell_type": "markdown",
   "metadata": {},
   "source": [
    "## TypedDict"
   ]
  },
  {
   "cell_type": "code",
   "execution_count": 2,
   "metadata": {},
   "outputs": [],
   "source": [
    "from typing import TypedDict, Literal\n",
    "\n",
    "class TypedDictState(TypedDict):\n",
    "   name: str\n",
    "   mood: Literal[\"happy\", \"sad\", \"neutral\"]\n"
   ]
  },
  {
   "cell_type": "code",
   "execution_count": 8,
   "metadata": {},
   "outputs": [],
   "source": [
    "from langgraph.types import Command\n",
    "import random\n",
    "from langgraph.graph import StateGraph, START, END\n",
    "\n",
    "\n",
    "\n",
    "def node_1(state):\n",
    "    print(\"-----Node 1-----\")\n",
    "    return {\"name\" : state[\"name\"] + \" is ..... \"}\n",
    "\n",
    "def decide_mood(state) -> Literal[\"node_2\", \"node_3\"]:\n",
    "    print(\"-----Decide Mood-----\")\n",
    "    if random.random() < 0.5:\n",
    "        return \"node_2\"\n",
    "    else:\n",
    "        return \"node_3\"\n",
    "\n",
    "def node_2(state) -> Command[Literal[\"__end__\"]]:\n",
    "    print(\"-----Node 2-----\")\n",
    "    return Command(\n",
    "        update = {\"mood\" : \"happy\"},\n",
    "        goto = END\n",
    "    )\n",
    "\n",
    "def node_3(state) -> Command[Literal[\"__end__\"]]:\n",
    "    print(\"-----Node 3-----\")\n",
    "    return Command(\n",
    "        update = {\"mood\" : \"sad\"},\n",
    "        goto = END\n",
    "    )\n"
   ]
  },
  {
   "cell_type": "code",
   "execution_count": 9,
   "metadata": {},
   "outputs": [],
   "source": [
    "workflow = StateGraph(TypedDictState)\n",
    "\n",
    "#nodes\n",
    "workflow.add_node(\"node_1\", node_1)\n",
    "workflow.add_node(\"node_2\", node_2)\n",
    "workflow.add_node(\"node_3\", node_3)\n",
    "\n",
    "#edges\n",
    "workflow.add_edge(START, \"node_1\")\n",
    "workflow.add_conditional_edges(\"node_1\", decide_mood)\n",
    "\n",
    "graph = workflow.compile()\n"
   ]
  },
  {
   "cell_type": "code",
   "execution_count": 10,
   "metadata": {},
   "outputs": [
    {
     "data": {
      "image/png": "[encoded data removed]",
      "text/plain": [
       "<IPython.core.display.Image object>"
      ]
     },
     "metadata": {},
     "output_type": "display_data"
    }
   ],
   "source": [
    "from IPython.display import Image, display\n",
    "display(Image(graph.get_graph().draw_mermaid_png()))"
   ]
  },
  {
   "cell_type": "code",
   "execution_count": 11,
   "metadata": {},
   "outputs": [
    {
     "name": "stdout",
     "output_type": "stream",
     "text": [
      "-----Node 1-----\n",
      "-----Decide Mood-----\n",
      "{'node_1': {'name': 'Hrithik is ..... '}}\n",
      "-----Node 3-----\n",
      "{'node_3': {'mood': 'sad'}}\n"
     ]
    }
   ],
   "source": [
    "for event in graph.stream({\"name\" : \"Hrithik\"}):\n",
    "    print(event)"
   ]
  },
  {
   "cell_type": "code",
   "execution_count": 17,
   "metadata": {},
   "outputs": [
    {
     "name": "stdout",
     "output_type": "stream",
     "text": [
      "-----Node 1-----\n",
      "-----Decide Mood-----\n",
      "-----Node 3-----\n",
      "{'name': 'Hrithik is ..... ', 'mood': 'sad'}\n"
     ]
    }
   ],
   "source": [
    "result = graph.invoke({\"name\" : \"Hrithik\"})\n",
    "print(result)"
   ]
  },
  {
   "cell_type": "code",
   "execution_count": 22,
   "metadata": {},
   "outputs": [
    {
     "name": "stdout",
     "output_type": "stream",
     "text": [
      "-----Node 1-----\n",
      "-----Decide Mood-----\n",
      "-----Node 2-----\n",
      "{'name': 'Hrithik is ..... ', 'mood': 'happy'}\n"
     ]
    }
   ],
   "source": [
    "result = graph.invoke({\"name\" : \"Hrithik\"})\n",
    "print(result)"
   ]
  },
  {
   "cell_type": "markdown",
   "metadata": {},
   "source": [
    "# DataClass\n"
   ]
  },
  {
   "cell_type": "code",
   "execution_count": 23,
   "metadata": {},
   "outputs": [
    {
     "data": {
      "image/png": "[encoded data removed]",
      "text/plain": [
       "<IPython.core.display.Image object>"
      ]
     },
     "metadata": {},
     "output_type": "display_data"
    }
   ],
   "source": [
    "from dataclasses import dataclass\n",
    "\n",
    "@dataclass\n",
    "class DataClassState:\n",
    "    name: str\n",
    "    mood: Literal[\"happy\", \"sad\", \"neutral\"]\n",
    "\n",
    "\n",
    "def node_1(state):\n",
    "    print(\"-----Node 1-----\")\n",
    "    return {\"name\" : state.name + \" is ..... \"}\n",
    "\n",
    "def decide_mood(state) -> Literal[\"node_2\", \"node_3\"]:\n",
    "    print(\"-----Decide Mood-----\")\n",
    "    if random.random() < 0.5:\n",
    "        return \"node_2\"\n",
    "    else:\n",
    "        return \"node_3\"\n",
    "\n",
    "\n",
    "def node_2(state) -> Command[Literal[\"__end__\"]]:\n",
    "    print(\"-----Node 2-----\")\n",
    "    return Command(\n",
    "        update = {\"mood\" : \"happy\"},\n",
    "        goto = END\n",
    "    )\n",
    "\n",
    "def node_3(state) -> Command[Literal[\"__end__\"]]:\n",
    "    print(\"-----Node 3-----\")\n",
    "    return Command(\n",
    "        update = {\"mood\" : \"sad\"},\n",
    "        goto = END\n",
    "    )\n",
    "\n",
    "workflow = StateGraph(DataClassState)\n",
    "\n",
    "#nodes\n",
    "workflow.add_node(\"node_1\", node_1)\n",
    "workflow.add_node(\"node_2\", node_2)\n",
    "workflow.add_node(\"node_3\", node_3)\n",
    "\n",
    "#edges\n",
    "workflow.add_edge(START, \"node_1\")\n",
    "workflow.add_conditional_edges(\"node_1\", decide_mood)\n",
    "\n",
    "graph = workflow.compile()\n",
    "\n",
    "display(Image(graph.get_graph().draw_mermaid_png()))\n"
   ]
  },
  {
   "cell_type": "code",
   "execution_count": 29,
   "metadata": {},
   "outputs": [
    {
     "name": "stdout",
     "output_type": "stream",
     "text": [
      "-----Node 1-----\n",
      "-----Decide Mood-----\n",
      "-----Node 3-----\n",
      "{'name': 'Hrithik is ..... ', 'mood': 'sad'}\n"
     ]
    }
   ],
   "source": [
    "result = graph.invoke(DataClassState(name=\"Hrithik\", mood=\"neutral\"))\n",
    "print(result)\n"
   ]
  },
  {
   "cell_type": "markdown",
   "metadata": {},
   "source": [
    "# Pydantic"
   ]
  },
  {
   "cell_type": "markdown",
   "metadata": {},
   "source": [
    "Pydantic is a data validation and settings management library using Python type annotations.\n",
    "\n",
    "It's particularly well-suited for defining state schemas in LangGraph due to its validation capabilities.\n",
    "\n",
    "Pydantic can perform validation to check whether data conforms to the specified types and constraints at runtime."
   ]
  },
  {
   "cell_type": "code",
   "execution_count": 32,
   "metadata": {},
   "outputs": [
    {
     "name": "stdout",
     "output_type": "stream",
     "text": [
      "1 validation error for PydanticState\n",
      "mood\n",
      "  Input should be 'happy', 'sad' or 'neutral' [type=literal_error, input_value='mad', input_type=str]\n",
      "    For further information visit https://errors.pydantic.dev/2.10/v/literal_error\n"
     ]
    }
   ],
   "source": [
    "from pydantic import BaseModel, field_validator, ValidationError\n",
    "\n",
    "class PydanticState(BaseModel):\n",
    "    name: str\n",
    "    mood: Literal[\"happy\", \"sad\", \"neutral\"]\n",
    "\n",
    "    @field_validator(\"mood\")\n",
    "    def validate_mood(cls, v):\n",
    "        if v not in [\"happy\", \"sad\", \"neutral\"]:\n",
    "            raise ValueError(\"Invalid mood\")\n",
    "        return v\n",
    "    \n",
    "\n",
    "try:\n",
    "    PydanticState(name=\"Hrithik\", mood=\"mad\")\n",
    "    print(\"Validation passed\")\n",
    "except ValidationError as e:\n",
    "    print(e)"
   ]
  },
  {
   "cell_type": "code",
   "execution_count": 33,
   "metadata": {},
   "outputs": [
    {
     "data": {
      "image/png": "[encoded data removed]",
      "text/plain": [
       "<IPython.core.display.Image object>"
      ]
     },
     "metadata": {},
     "output_type": "display_data"
    }
   ],
   "source": [
    "workflow = StateGraph(PydanticState)\n",
    "\n",
    "#nodes\n",
    "workflow.add_node(\"node_1\", node_1)\n",
    "workflow.add_node(\"node_2\", node_2)\n",
    "workflow.add_node(\"node_3\", node_3)\n",
    "\n",
    "#edges\n",
    "workflow.add_edge(START, \"node_1\")\n",
    "workflow.add_conditional_edges(\"node_1\", decide_mood)\n",
    "\n",
    "graph = workflow.compile()\n",
    "\n",
    "display(Image(graph.get_graph().draw_mermaid_png()))\n",
    "\n",
    "\n"
   ]
  },
  {
   "cell_type": "code",
   "execution_count": 34,
   "metadata": {},
   "outputs": [
    {
     "ename": "ValidationError",
     "evalue": "1 validation error for PydanticState\nmood\n  Input should be 'happy', 'sad' or 'neutral' [type=literal_error, input_value='good', input_type=str]\n    For further information visit https://errors.pydantic.dev/2.10/v/literal_error",
     "output_type": "error",
     "traceback": [
      "\u001b[0;31m---------------------------------------------------------------------------\u001b[0m",
      "\u001b[0;31mValidationError\u001b[0m                           Traceback (most recent call last)",
      "Cell \u001b[0;32mIn[34], line 1\u001b[0m\n\u001b[0;32m----> 1\u001b[0m result \u001b[38;5;241m=\u001b[39m graph\u001b[38;5;241m.\u001b[39minvoke(\u001b[43mPydanticState\u001b[49m\u001b[43m(\u001b[49m\u001b[43mname\u001b[49m\u001b[38;5;241;43m=\u001b[39;49m\u001b[38;5;124;43m\"\u001b[39;49m\u001b[38;5;124;43mHrithik\u001b[39;49m\u001b[38;5;124;43m\"\u001b[39;49m\u001b[43m,\u001b[49m\u001b[43m \u001b[49m\u001b[43mmood\u001b[49m\u001b[38;5;241;43m=\u001b[39;49m\u001b[38;5;124;43m\"\u001b[39;49m\u001b[38;5;124;43mgood\u001b[39;49m\u001b[38;5;124;43m\"\u001b[39;49m\u001b[43m)\u001b[49m)\n\u001b[1;32m      2\u001b[0m \u001b[38;5;28mprint\u001b[39m(result)\n",
      "File \u001b[0;32m~/Desktop/Projects/Langgraph Academy/langchain-academy/venv/lib/python3.12/site-packages/pydantic/main.py:214\u001b[0m, in \u001b[0;36mBaseModel.__init__\u001b[0;34m(self, **data)\u001b[0m\n\u001b[1;32m    212\u001b[0m \u001b[38;5;66;03m# `__tracebackhide__` tells pytest and some other tools to omit this function from tracebacks\u001b[39;00m\n\u001b[1;32m    213\u001b[0m __tracebackhide__ \u001b[38;5;241m=\u001b[39m \u001b[38;5;28;01mTrue\u001b[39;00m\n\u001b[0;32m--> 214\u001b[0m validated_self \u001b[38;5;241m=\u001b[39m \u001b[38;5;28;43mself\u001b[39;49m\u001b[38;5;241;43m.\u001b[39;49m\u001b[43m__pydantic_validator__\u001b[49m\u001b[38;5;241;43m.\u001b[39;49m\u001b[43mvalidate_python\u001b[49m\u001b[43m(\u001b[49m\u001b[43mdata\u001b[49m\u001b[43m,\u001b[49m\u001b[43m \u001b[49m\u001b[43mself_instance\u001b[49m\u001b[38;5;241;43m=\u001b[39;49m\u001b[38;5;28;43mself\u001b[39;49m\u001b[43m)\u001b[49m\n\u001b[1;32m    215\u001b[0m \u001b[38;5;28;01mif\u001b[39;00m \u001b[38;5;28mself\u001b[39m \u001b[38;5;129;01mis\u001b[39;00m \u001b[38;5;129;01mnot\u001b[39;00m validated_self:\n\u001b[1;32m    216\u001b[0m     warnings\u001b[38;5;241m.\u001b[39mwarn(\n\u001b[1;32m    217\u001b[0m         \u001b[38;5;124m'\u001b[39m\u001b[38;5;124mA custom validator is returning a value other than `self`.\u001b[39m\u001b[38;5;130;01m\\n\u001b[39;00m\u001b[38;5;124m'\u001b[39m\n\u001b[1;32m    218\u001b[0m         \u001b[38;5;124m\"\u001b[39m\u001b[38;5;124mReturning anything other than `self` from a top level model validator isn\u001b[39m\u001b[38;5;124m'\u001b[39m\u001b[38;5;124mt supported when validating via `__init__`.\u001b[39m\u001b[38;5;130;01m\\n\u001b[39;00m\u001b[38;5;124m\"\u001b[39m\n\u001b[1;32m    219\u001b[0m         \u001b[38;5;124m'\u001b[39m\u001b[38;5;124mSee the `model_validator` docs (https://docs.pydantic.dev/latest/concepts/validators/#model-validators) for more details.\u001b[39m\u001b[38;5;124m'\u001b[39m,\n\u001b[1;32m    220\u001b[0m         stacklevel\u001b[38;5;241m=\u001b[39m\u001b[38;5;241m2\u001b[39m,\n\u001b[1;32m    221\u001b[0m     )\n",
      "\u001b[0;31mValidationError\u001b[0m: 1 validation error for PydanticState\nmood\n  Input should be 'happy', 'sad' or 'neutral' [type=literal_error, input_value='good', input_type=str]\n    For further information visit https://errors.pydantic.dev/2.10/v/literal_error"
     ]
    }
   ],
   "source": [
    "result = graph.invoke(PydanticState(name=\"Hrithik\", mood=\"good\"))\n",
    "print(result)"
   ]
  },
  {
   "cell_type": "code",
   "execution_count": 41,
   "metadata": {},
   "outputs": [
    {
     "name": "stdout",
     "output_type": "stream",
     "text": [
      "-----Node 1-----\n",
      "-----Decide Mood-----\n",
      "-----Node 2-----\n",
      "{'name': 'Hrithik is ..... ', 'mood': 'happy'}\n"
     ]
    }
   ],
   "source": [
    "result = graph.invoke(PydanticState(name=\"Hrithik\", mood=\"happy\"))\n",
    "print(result)"
   ]
  }
 ],
 "metadata": {
  "kernelspec": {
   "display_name": "venv",
   "language": "python",
   "name": "python3"
  },
  "language_info": {
   "codemirror_mode": {
    "name": "ipython",
    "version": 3
   },
   "file_extension": ".py",
   "mimetype": "text/x-python",
   "name": "python",
   "nbconvert_exporter": "python",
   "pygments_lexer": "ipython3",
   "version": "3.12.7"
  }
 },
 "nbformat": 4,
 "nbformat_minor": 2
}
